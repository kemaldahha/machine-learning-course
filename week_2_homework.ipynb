{
 "cells": [
  {
   "cell_type": "markdown",
   "metadata": {},
   "source": [
    "## 2.18 [Homework](https://github.com/DataTalksClub/machine-learning-zoomcamp/blob/master/02-regression/homework.md)"
   ]
  },
  {
   "cell_type": "code",
   "execution_count": 1,
   "metadata": {},
   "outputs": [],
   "source": [
    "# !wget https://raw.githubusercontent.com/alexeygrigorev/datasets/master/laptops.csv"
   ]
  },
  {
   "cell_type": "code",
   "execution_count": 2,
   "metadata": {},
   "outputs": [
    {
     "data": {
      "text/html": [
       "<div>\n",
       "<style scoped>\n",
       "    .dataframe tbody tr th:only-of-type {\n",
       "        vertical-align: middle;\n",
       "    }\n",
       "\n",
       "    .dataframe tbody tr th {\n",
       "        vertical-align: top;\n",
       "    }\n",
       "\n",
       "    .dataframe thead th {\n",
       "        text-align: right;\n",
       "    }\n",
       "</style>\n",
       "<table border=\"1\" class=\"dataframe\">\n",
       "  <thead>\n",
       "    <tr style=\"text-align: right;\">\n",
       "      <th></th>\n",
       "      <th>ram</th>\n",
       "      <th>storage</th>\n",
       "      <th>screen</th>\n",
       "      <th>final_price</th>\n",
       "    </tr>\n",
       "  </thead>\n",
       "  <tbody>\n",
       "    <tr>\n",
       "      <th>0</th>\n",
       "      <td>8</td>\n",
       "      <td>512</td>\n",
       "      <td>15.6</td>\n",
       "      <td>1009.00</td>\n",
       "    </tr>\n",
       "    <tr>\n",
       "      <th>1</th>\n",
       "      <td>8</td>\n",
       "      <td>256</td>\n",
       "      <td>15.6</td>\n",
       "      <td>299.00</td>\n",
       "    </tr>\n",
       "    <tr>\n",
       "      <th>2</th>\n",
       "      <td>8</td>\n",
       "      <td>256</td>\n",
       "      <td>15.6</td>\n",
       "      <td>789.00</td>\n",
       "    </tr>\n",
       "    <tr>\n",
       "      <th>3</th>\n",
       "      <td>16</td>\n",
       "      <td>1000</td>\n",
       "      <td>15.6</td>\n",
       "      <td>1199.00</td>\n",
       "    </tr>\n",
       "    <tr>\n",
       "      <th>4</th>\n",
       "      <td>16</td>\n",
       "      <td>512</td>\n",
       "      <td>15.6</td>\n",
       "      <td>669.01</td>\n",
       "    </tr>\n",
       "    <tr>\n",
       "      <th>...</th>\n",
       "      <td>...</td>\n",
       "      <td>...</td>\n",
       "      <td>...</td>\n",
       "      <td>...</td>\n",
       "    </tr>\n",
       "    <tr>\n",
       "      <th>2155</th>\n",
       "      <td>16</td>\n",
       "      <td>1000</td>\n",
       "      <td>17.3</td>\n",
       "      <td>2699.99</td>\n",
       "    </tr>\n",
       "    <tr>\n",
       "      <th>2156</th>\n",
       "      <td>16</td>\n",
       "      <td>1000</td>\n",
       "      <td>17.3</td>\n",
       "      <td>2899.99</td>\n",
       "    </tr>\n",
       "    <tr>\n",
       "      <th>2157</th>\n",
       "      <td>32</td>\n",
       "      <td>1000</td>\n",
       "      <td>17.3</td>\n",
       "      <td>3399.99</td>\n",
       "    </tr>\n",
       "    <tr>\n",
       "      <th>2158</th>\n",
       "      <td>16</td>\n",
       "      <td>1000</td>\n",
       "      <td>13.4</td>\n",
       "      <td>1899.99</td>\n",
       "    </tr>\n",
       "    <tr>\n",
       "      <th>2159</th>\n",
       "      <td>16</td>\n",
       "      <td>256</td>\n",
       "      <td>13.4</td>\n",
       "      <td>1699.99</td>\n",
       "    </tr>\n",
       "  </tbody>\n",
       "</table>\n",
       "<p>2160 rows × 4 columns</p>\n",
       "</div>"
      ],
      "text/plain": [
       "      ram  storage  screen  final_price\n",
       "0       8      512    15.6      1009.00\n",
       "1       8      256    15.6       299.00\n",
       "2       8      256    15.6       789.00\n",
       "3      16     1000    15.6      1199.00\n",
       "4      16      512    15.6       669.01\n",
       "...   ...      ...     ...          ...\n",
       "2155   16     1000    17.3      2699.99\n",
       "2156   16     1000    17.3      2899.99\n",
       "2157   32     1000    17.3      3399.99\n",
       "2158   16     1000    13.4      1899.99\n",
       "2159   16      256    13.4      1699.99\n",
       "\n",
       "[2160 rows x 4 columns]"
      ]
     },
     "execution_count": 2,
     "metadata": {},
     "output_type": "execute_result"
    }
   ],
   "source": [
    "import pandas as pd\n",
    "\n",
    "df = (\n",
    "    pd.read_csv(\"laptops.csv\")\n",
    "    .rename(columns=lambda x: x.lower().replace(' ', '_'))\n",
    "    [[\n",
    "        \"ram\",\n",
    "        \"storage\",\n",
    "        \"screen\",\n",
    "        \"final_price\"\n",
    "    ]]\n",
    ")\n",
    "df"
   ]
  },
  {
   "cell_type": "markdown",
   "metadata": {},
   "source": [
    "## EDA\n",
    "\n",
    "Look at the `final_price` variable. Does it have a long tail?"
   ]
  },
  {
   "cell_type": "code",
   "execution_count": 70,
   "metadata": {},
   "outputs": [
    {
     "data": {
      "text/plain": [
       "<Axes: xlabel='final_price', ylabel='Count'>"
      ]
     },
     "execution_count": 70,
     "metadata": {},
     "output_type": "execute_result"
    },
    {
     "data": {
      "image/png": "[encoded data removed]",
      "text/plain": [
       "<Figure size 640x480 with 1 Axes>"
      ]
     },
     "metadata": {},
     "output_type": "display_data"
    }
   ],
   "source": [
    "import seaborn as sns\n",
    "\n",
    "sns.histplot(df.final_price, bins=50)"
   ]
  },
  {
   "cell_type": "markdown",
   "metadata": {},
   "source": [
    "`final_price` indeed does have a long tail, so a log transformation might need to be applied to it."
   ]
  },
  {
   "cell_type": "code",
   "execution_count": 71,
   "metadata": {},
   "outputs": [
    {
     "data": {
      "text/plain": [
       "<Axes: xlabel='final_price', ylabel='Count'>"
      ]
     },
     "execution_count": 71,
     "metadata": {},
     "output_type": "execute_result"
    },
    {
     "data": {
      "image/png": "[encoded data removed]",
      "text/plain": [
       "<Figure size 640x480 with 1 Axes>"
      ]
     },
     "metadata": {},
     "output_type": "display_data"
    }
   ],
   "source": [
    "import numpy as np\n",
    "\n",
    "sns.histplot(np.log1p(df.final_price), bins=50)"
   ]
  },
  {
   "cell_type": "markdown",
   "metadata": {},
   "source": [
    "## Q1"
   ]
  },
  {
   "cell_type": "code",
   "execution_count": 72,
   "metadata": {},
   "outputs": [
    {
     "data": {
      "text/plain": [
       "'The column with missing values is: screen'"
      ]
     },
     "execution_count": 72,
     "metadata": {},
     "output_type": "execute_result"
    }
   ],
   "source": [
    "f\"The column with missing values is: {df.columns[df.isna().sum(axis=0) > 0][0]}\""
   ]
  },
  {
   "cell_type": "markdown",
   "metadata": {},
   "source": [
    "## Q2"
   ]
  },
  {
   "cell_type": "code",
   "execution_count": 73,
   "metadata": {},
   "outputs": [
    {
     "data": {
      "text/plain": [
       "\"The median for 'ram' is: 16\""
      ]
     },
     "execution_count": 73,
     "metadata": {},
     "output_type": "execute_result"
    }
   ],
   "source": [
    "f\"The median for 'ram' is: {df['ram'].median():.0f}\""
   ]
  },
  {
   "cell_type": "markdown",
   "metadata": {},
   "source": [
    "## Prepare and Split the Dataset"
   ]
  },
  {
   "cell_type": "code",
   "execution_count": 81,
   "metadata": {},
   "outputs": [],
   "source": [
    "def prep_X_y(df, fillna_method, seed=42):\n",
    "    \"\"\"\n",
    "    fillna_method can either be \"mean\" or 0\n",
    "    \"\"\"\n",
    "    n = len(df)\n",
    "    n_val = n_test =  int(0.2 * n)\n",
    "    n_train = n - n_val - n_test\n",
    "\n",
    "    idx = np.arange(n)\n",
    "    np.random.seed(seed)\n",
    "    np.random.shuffle(idx)\n",
    "\n",
    "    df = (\n",
    "        df\n",
    "        .assign(\n",
    "            screen=df[\"screen\"].fillna(df.loc[idx[:n_train], \"screen\"].mean() if fillna_method==\"mean\" else 0)\n",
    "        )\n",
    "        .assign(\n",
    "            # ram=lambda df_: np.log1p(df_.ram),\n",
    "            # storage=lambda df_: np.log1p(df_.storage),\n",
    "            # screen=lambda df_: np.log1p(df_.screen),\n",
    "            # final_price=lambda df_: np.log1p(df_.final_price),\n",
    "        )\n",
    "    )\n",
    "\n",
    "    X = df.drop(columns=\"final_price\").values\n",
    "    X = np.column_stack([np.ones(X.shape[0]), X])\n",
    "\n",
    "    y = df[\"final_price\"].values\n",
    "\n",
    "    X_train = X[idx[:n_train]]\n",
    "    X_val = X[idx[n_train:n_train+n_val]]\n",
    "    X_test = X[idx[n_train+n_val:]]\n",
    "    \n",
    "    y_train = y[idx[:n_train]]\n",
    "    y_val = y[idx[n_train:n_train+n_val]]\n",
    "    y_test = y[idx[n_train+n_val:]]\n",
    "\n",
    "    return (X_train, X_val, X_test, y_train, y_val, y_test)"
   ]
  },
  {
   "cell_type": "markdown",
   "metadata": {},
   "source": [
    "## Q3"
   ]
  },
  {
   "cell_type": "code",
   "execution_count": 82,
   "metadata": {},
   "outputs": [],
   "source": [
    "def train_linear_regression(X, y, r=0):\n",
    "    \"\"\"By default no regularization is applied. \n",
    "    Set r to nonzero value for regularization.\"\"\"\n",
    "    return np.linalg.inv(X.T @ X + r * np.eye(X.shape[1])) @ X.T @ y\n",
    "\n",
    "def rmse(y, y_hat):\n",
    "    return np.sqrt(((y_hat - y) ** 2).mean())"
   ]
  },
  {
   "cell_type": "code",
   "execution_count": 84,
   "metadata": {},
   "outputs": [
    {
     "name": "stdout",
     "output_type": "stream",
     "text": [
      "RMSE for option to fill with 0 is: 597.36\n",
      "RMSE for option to fill with mean is: 600.27\n"
     ]
    }
   ],
   "source": [
    "# fillna with 0\n",
    "X_train, X_val, X_test, y_train, y_val, y_test = prep_X_y(df, fillna_method=0)\n",
    "w = train_linear_regression(X_train, y_train)\n",
    "y_hat_val = X_val @ w\n",
    "# print(f\"RMSE for option to fill with 0 is: {round(rmse(np.expm1(y_val), np.expm1(y_hat_val)), 2)}\")\n",
    "print(f\"RMSE for option to fill with 0 is: {round(rmse(y_val, y_hat_val), 2)}\")\n",
    "\n",
    "# fillna with mean\n",
    "X_train, X_val, X_test, y_train, y_val, y_test = prep_X_y(df, \"mean\")\n",
    "w = train_linear_regression(X_train, y_train)\n",
    "y_hat_val = X_val @ w\n",
    "# print(f\"RMSE for option to fill with mean is: {round(rmse(np.expm1(y_val), np.expm1(y_hat_val)), 2)}\")\n",
    "print(f\"RMSE for option to fill with mean is: {round(rmse(y_val, y_hat_val), 2)}\")\n"
   ]
  },
  {
   "cell_type": "markdown",
   "metadata": {},
   "source": [
    "## Q4"
   ]
  },
  {
   "cell_type": "code",
   "execution_count": 86,
   "metadata": {},
   "outputs": [
    {
     "name": "stdout",
     "output_type": "stream",
     "text": [
      "RMSE for r=0: 597.36\n",
      "RMSE for r=0.01: 597.36\n",
      "RMSE for r=0.1: 597.35\n",
      "RMSE for r=1: 597.21\n",
      "RMSE for r=5: 597.01\n",
      "RMSE for r=10: 597.06\n",
      "RMSE for r=100: 597.90\n"
     ]
    }
   ],
   "source": [
    "r_list = [0, 0.01, 0.1, 1, 5, 10, 100]\n",
    "rmse_list = []\n",
    "\n",
    "for r in r_list:\n",
    "    X_train, X_val, X_test, y_train, y_val, y_test = prep_X_y(df, fillna_method=0)\n",
    "    w = train_linear_regression(X_train, y_train, r)\n",
    "    y_hat_val = X_val @ w\n",
    "    # rmse_list.append(round(rmse(np.expm1(y_val), np.expm1(y_hat_val)), 2))\n",
    "    rmse_list.append(round(rmse(y_val, y_hat_val), 2))\n",
    "    print(f\"RMSE for r={r}: {rmse_list[-1]:.2f}\")"
   ]
  },
  {
   "cell_type": "markdown",
   "metadata": {},
   "source": [
    "## Q5"
   ]
  },
  {
   "cell_type": "code",
   "execution_count": 67,
   "metadata": {},
   "outputs": [
    {
     "name": "stdout",
     "output_type": "stream",
     "text": [
      "The standard deviation of all the scores is: 30.149\n"
     ]
    }
   ],
   "source": [
    "seed_list = range(10)\n",
    "rmse_list = []\n",
    "\n",
    "for seed in seed_list:\n",
    "    X_train, X_val, X_test, y_train, y_val, y_test = prep_X_y(df, fillna_method=0, seed=seed)\n",
    "    w = train_linear_regression(X_train, y_train)\n",
    "    y_hat_val = X_val @ w\n",
    "    # rmse_list.append(round(rmse(np.expm1(y_val), np.expm1(y_hat_val)), 2))\n",
    "    rmse_list.append(round(rmse(y_val, y_hat_val), 2))\n",
    "\n",
    "print(f\"The standard deviation of all the scores is: {np.std(rmse_list):.3f}\")"
   ]
  },
  {
   "cell_type": "markdown",
   "metadata": {},
   "source": [
    "## Q6"
   ]
  },
  {
   "cell_type": "code",
   "execution_count": 68,
   "metadata": {},
   "outputs": [
    {
     "name": "stdout",
     "output_type": "stream",
     "text": [
      "606.16\n"
     ]
    }
   ],
   "source": [
    "X_train, X_val, X_test, y_train, y_val, y_test = prep_X_y(df, fillna_method=0, seed=9)\n",
    "X_train_val = np.vstack([X_train, X_val])\n",
    "y_train_val = np.hstack([y_train, y_val])\n",
    "w = train_linear_regression(X_train_val, y_train_val, r=0.001)\n",
    "y_hat_test = X_test @ w\n",
    "# print(round(rmse(np.expm1(y_test), np.expm1(y_hat_test)), 2))\n",
    "print(round(rmse(y_test, y_hat_test), 2))"
   ]
  }
 ],
 "metadata": {
  "kernelspec": {
   "display_name": "ml-zoomcamp",
   "language": "python",
   "name": "python3"
  },
  "language_info": {
   "codemirror_mode": {
    "name": "ipython",
    "version": 3
   },
   "file_extension": ".py",
   "mimetype": "text/x-python",
   "name": "python",
   "nbconvert_exporter": "python",
   "pygments_lexer": "ipython3",
   "version": "3.10.14"
  }
 },
 "nbformat": 4,
 "nbformat_minor": 2
}
