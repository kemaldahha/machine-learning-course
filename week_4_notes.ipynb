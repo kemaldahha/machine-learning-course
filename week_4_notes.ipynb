{
 "cells": [
  {
   "cell_type": "markdown",
   "metadata": {},
   "source": [
    "# Week 4 Notes"
   ]
  },
  {
   "cell_type": "markdown",
   "metadata": {},
   "source": [
    "\n",
    "## 4.1 [Evaluation metrics: session overview](https://github.com/DataTalksClub/machine-learning-zoomcamp/blob/master/04-evaluation/01-overview.md)\n"
   ]
  },
  {
   "cell_type": "markdown",
   "metadata": {},
   "source": [
    "Last week we created a model for churn prediction. We trained and evaluated based on accuracy. But there are different evaluation metrics for classification. For example we may prioritize true positives or true negatives.\n",
    "\n",
    "We will also look at cross-validation. So far we only held out part of the data. Cross-validation takes it a step further by looking at different subsets of the data."
   ]
  },
  {
   "cell_type": "markdown",
   "metadata": {},
   "source": [
    "## 4.2 [Accuracy and dummy model](https://github.com/DataTalksClub/machine-learning-zoomcamp/blob/master/04-evaluation/02-accuracy.md)\n"
   ]
  },
  {
   "cell_type": "code",
   "execution_count": 2,
   "metadata": {},
   "outputs": [],
   "source": [
    "import pandas as pd\n",
    "\n",
    "\n",
    "def prepare_df():\n",
    "\n",
    "    # read data\n",
    "    df = pd.read_csv(\"data-week-3.csv\")\n",
    "\n",
    "    # normalize columns\n",
    "    df.columns = (\n",
    "        df.columns\n",
    "        .str.replace(\" \", \"_\")\n",
    "        .str.lower()\n",
    "    )\n",
    "\n",
    "    # normalize data of type 'object'\n",
    "    for col in df.select_dtypes(object).columns:\n",
    "        df[col] = (\n",
    "            df[col]\n",
    "            .str.lower()\n",
    "            .str.replace(\" \", \"_\")\n",
    "        )\n",
    "\n",
    "    return (\n",
    "        df\n",
    "        .assign(\n",
    "            partner=lambda df_: pd.to_numeric((df_.partner==\"yes\").astype(int), downcast=\"integer\"),\n",
    "            seniorcitizen=lambda df_: pd.to_numeric(df_.seniorcitizen, downcast=\"integer\"),\n",
    "            dependents=lambda df_: pd.to_numeric((df_.dependents==\"yes\").astype(int), downcast=\"integer\"),\n",
    "            phoneservice=lambda df_: pd.to_numeric((df_.phoneservice==\"yes\").astype(int), downcast=\"integer\"),\n",
    "            paperlessbilling=lambda df_: pd.to_numeric((df_.paperlessbilling==\"yes\").astype(int), downcast=\"integer\"),\n",
    "            tenure=lambda df_: pd.to_numeric(df_.tenure, downcast=\"integer\"),\n",
    "            monthlycharges=lambda df_: pd.to_numeric(df_.monthlycharges, downcast=\"float\"),\n",
    "            totalcharges=lambda df_: pd.to_numeric(df_.totalcharges.replace(\"_\", \"0\"), errors=\"coerce\", downcast=\"float\"),\n",
    "            churn=lambda df_: pd.to_numeric((df_.churn==\"yes\").astype(int), downcast=\"integer\"),\n",
    "        )\n",
    "        .astype(\n",
    "            {\n",
    "                \"customerid\": \"string\",\n",
    "                \"gender\": \"category\",\n",
    "                \"multiplelines\": \"category\",\n",
    "                \"internetservice\": \"category\",\n",
    "                \"onlinesecurity\": \"category\",\n",
    "                \"onlinebackup\": \"category\",\n",
    "                \"deviceprotection\": \"category\",\n",
    "                \"techsupport\": \"category\",\n",
    "                \"streamingtv\": \"category\",\n",
    "                \"streamingmovies\": \"category\",\n",
    "                \"contract\": \"category\",\n",
    "                \"paymentmethod\": \"category\",\n",
    "            }\n",
    "        )\n",
    "    )\n",
    "\n",
    "df = prepare_df()"
   ]
  },
  {
   "cell_type": "code",
   "execution_count": 3,
   "metadata": {},
   "outputs": [
    {
     "data": {
      "text/plain": [
       "0.801277501774308"
      ]
     },
     "execution_count": 3,
     "metadata": {},
     "output_type": "execute_result"
    }
   ],
   "source": [
    "from sklearn.model_selection import train_test_split \n",
    "from sklearn.feature_extraction import DictVectorizer\n",
    "from sklearn.linear_model import LogisticRegression\n",
    "from sklearn.metrics import accuracy_score\n",
    "\n",
    "\n",
    "df_full_train, df_test = train_test_split(df, test_size=0.2, random_state=42)\n",
    "df_train, df_val = train_test_split(df_full_train, test_size=0.25, random_state=42)\n",
    "\n",
    "dv = DictVectorizer(sparse=False)\n",
    "\n",
    "y_full_train = df_full_train.churn.values\n",
    "y_test = df_test.churn.values\n",
    "y_train = df_train.churn.values\n",
    "y_val = df_val.churn.values\n",
    "\n",
    "dicts_train = df_train.drop(columns=\"churn\").to_dict(orient=\"records\")\n",
    "dicts_val = df_val.drop(columns=\"churn\").to_dict(orient=\"records\")\n",
    "\n",
    "dv.fit(dicts_train)\n",
    "X_train = dv.transform(dicts_train)\n",
    "X_val = dv.transform(dicts_val)\n",
    "\n",
    "model = LogisticRegression(solver=\"liblinear\")\n",
    "model.fit(X_train, y_train)\n",
    "\n",
    "y_pred = model.predict_proba(X_val)[:, 1]\n",
    "churn_decision = (y_pred >= 0.5)\n",
    "\n",
    "(y_val==churn_decision).mean()\n",
    "\n",
    "accuracy_score(y_val, churn_decision)"
   ]
  },
  {
   "cell_type": "markdown",
   "metadata": {},
   "source": [
    "We found an accuracy of 80% in our previous model. What does this mean? It means that our predictions were correct in 80% of cases.\n",
    "\n",
    "To make our predictions, we had a decision threshold of 50%. But this is a bit arbitrary. Choosing a different decision threshold would give us different predictions."
   ]
  },
  {
   "cell_type": "code",
   "execution_count": 4,
   "metadata": {},
   "outputs": [],
   "source": [
    "import numpy as np\n",
    "\n",
    "\n",
    "thresholds = np.linspace(0, 1, 21)\n",
    "scores = []\n",
    "\n",
    "for threshold in thresholds:\n",
    "    scores.append(accuracy_score(y_val, y_pred >= threshold))"
   ]
  },
  {
   "cell_type": "code",
   "execution_count": 5,
   "metadata": {},
   "outputs": [
    {
     "data": {
      "text/plain": [
       "Text(0, 0.5, 'Accuracy')"
      ]
     },
     "execution_count": 5,
     "metadata": {},
     "output_type": "execute_result"
    },
    {
     "data": {
      "image/png": "[encoded data removed]",
      "text/plain": [
       "<Figure size 640x480 with 1 Axes>"
      ]
     },
     "metadata": {},
     "output_type": "display_data"
    }
   ],
   "source": [
    "import matplotlib.pyplot as plt\n",
    "\n",
    "plt.plot(thresholds, scores)\n",
    "plt.xlabel(\"Threshold\")\n",
    "plt.ylabel(\"Accuracy\")"
   ]
  },
  {
   "cell_type": "markdown",
   "metadata": {},
   "source": [
    "It turns out that a threshold of 0.5 indeed gives the highest accuracy. This is not always the case though.\n",
    "\n",
    "If we look at the very right of the plot (threshold of 1), we seen an accuracy of about 73%. It means that if we predict no one to churn, we will be right in 73% of cases. This is not surprising, because this is also the non-churn rate:"
   ]
  },
  {
   "cell_type": "code",
   "execution_count": 6,
   "metadata": {},
   "outputs": [
    {
     "data": {
      "text/plain": [
       "np.float64(0.7310149041873669)"
      ]
     },
     "execution_count": 6,
     "metadata": {},
     "output_type": "execute_result"
    }
   ],
   "source": [
    "(y_val==0).mean()"
   ]
  },
  {
   "cell_type": "markdown",
   "metadata": {},
   "source": [
    "On the other end of the plot, when we predict no one to churn, we are right in 27% of cases (the churn rate).\n",
    "\n",
    "Since we have class imbalance (more samples not churning than churning, accuracy can be misleading). To address this we have other metrics like: confusion table, precision, recall."
   ]
  },
  {
   "cell_type": "markdown",
   "metadata": {},
   "source": [
    "## 4.3 [Confusion table](https://github.com/DataTalksClub/machine-learning-zoomcamp/blob/master/04-evaluation/03-confusion-table.md)\n"
   ]
  },
  {
   "cell_type": "markdown",
   "metadata": {},
   "source": [
    "A confusion table provides an overview of different types of errors made by our model. We saw that we could get a pretty good accuracy in our model by just predicting the majority class. This is because of class imbalance.\n",
    "\n",
    "A confusion table will show:\n",
    "- True Positive\n",
    "- True Negative\n",
    "- False Positive\n",
    "- False Negative\n",
    "\n",
    "Positive = Churn\n",
    "Negative = No churn\n",
    "\n",
    "We preferably want only True predictions."
   ]
  },
  {
   "cell_type": "code",
   "execution_count": 19,
   "metadata": {},
   "outputs": [],
   "source": [
    "TP = ((y_pred >= 0.5) & (y_val==1)).sum()\n",
    "TN = ((y_pred < 0.5) & (y_val==0)).sum()\n",
    "FP = ((y_pred >= 0.5) & (y_val==0)).sum()\n",
    "FN = ((y_pred < 0.5) & (y_val==1)).sum()"
   ]
  },
  {
   "cell_type": "code",
   "execution_count": 20,
   "metadata": {},
   "outputs": [
    {
     "name": "stdout",
     "output_type": "stream",
     "text": [
      "199 930 100 180\n"
     ]
    }
   ],
   "source": [
    "print(TP, TN, FP, FN)"
   ]
  },
  {
   "cell_type": "code",
   "execution_count": 23,
   "metadata": {},
   "outputs": [
    {
     "data": {
      "text/plain": [
       "array([[930, 100],\n",
       "       [180, 199]])"
      ]
     },
     "execution_count": 23,
     "metadata": {},
     "output_type": "execute_result"
    }
   ],
   "source": [
    "np.array([[TN, FP],[FN, TP]])"
   ]
  },
  {
   "cell_type": "code",
   "execution_count": 25,
   "metadata": {},
   "outputs": [
    {
     "data": {
      "text/plain": [
       "array([[0.66, 0.07],\n",
       "       [0.13, 0.14]])"
      ]
     },
     "execution_count": 25,
     "metadata": {},
     "output_type": "execute_result"
    }
   ],
   "source": [
    "(np.array([[TN, FP],[FN, TP]]) / (TN + FP + FN + TP)).round(2)"
   ]
  },
  {
   "cell_type": "markdown",
   "metadata": {},
   "source": [
    "## 4.4 [Precision and Recall](https://github.com/DataTalksClub/machine-learning-zoomcamp/blob/master/04-evaluation/04-precision-recall.md)\n"
   ]
  },
  {
   "cell_type": "markdown",
   "metadata": {},
   "source": []
  },
  {
   "cell_type": "markdown",
   "metadata": {},
   "source": [
    "## 4.5 [ROC Curves](https://github.com/DataTalksClub/machine-learning-zoomcamp/blob/master/04-evaluation/05-roc.md)\n"
   ]
  },
  {
   "cell_type": "markdown",
   "metadata": {},
   "source": []
  },
  {
   "cell_type": "markdown",
   "metadata": {},
   "source": [
    "## 4.6 [ROC AUC](https://github.com/DataTalksClub/machine-learning-zoomcamp/blob/master/04-evaluation/06-auc.md)\n"
   ]
  },
  {
   "cell_type": "markdown",
   "metadata": {},
   "source": []
  },
  {
   "cell_type": "markdown",
   "metadata": {},
   "source": [
    "## 4.7 [Cross-Validation](https://github.com/DataTalksClub/machine-learning-zoomcamp/blob/master/04-evaluation/07-cross-validation.md)\n"
   ]
  },
  {
   "cell_type": "markdown",
   "metadata": {},
   "source": []
  },
  {
   "cell_type": "markdown",
   "metadata": {},
   "source": [
    "## 4.8 [Summary](https://github.com/DataTalksClub/machine-learning-zoomcamp/blob/master/04-evaluation/08-summary.md)\n"
   ]
  },
  {
   "cell_type": "markdown",
   "metadata": {},
   "source": []
  },
  {
   "cell_type": "markdown",
   "metadata": {},
   "source": [
    "## 4.9 [Explore more](https://github.com/DataTalksClub/machine-learning-zoomcamp/blob/master/04-evaluation/09-explore-more.md)\n"
   ]
  },
  {
   "cell_type": "code",
   "execution_count": null,
   "metadata": {},
   "outputs": [],
   "source": [
    "import pandas as pd\n",
    "\n",
    "\n",
    "def prepare_df():\n",
    "\n",
    "    # read data\n",
    "    df = pd.read_csv(\"data-week-3.csv\")\n",
    "\n",
    "    # normalize columns\n",
    "    df.columns = (\n",
    "        df.columns\n",
    "        .str.replace(\" \", \"_\")\n",
    "        .str.lower()\n",
    "    )\n",
    "\n",
    "    # normalize data of type 'object'\n",
    "    for col in df.select_dtypes(object).columns:\n",
    "        df[col] = (\n",
    "            df[col]\n",
    "            .str.lower()\n",
    "            .str.replace(\" \", \"_\")\n",
    "        )\n",
    "\n",
    "    return (\n",
    "        df\n",
    "        .assign(\n",
    "            partner=lambda df_: pd.to_numeric((df_.partner==\"yes\").astype(int), downcast=\"integer\"),\n",
    "            seniorcitizen=lambda df_: pd.to_numeric(df_.seniorcitizen, downcast=\"integer\"),\n",
    "            dependents=lambda df_: pd.to_numeric((df_.dependents==\"yes\").astype(int), downcast=\"integer\"),\n",
    "            phoneservice=lambda df_: pd.to_numeric((df_.phoneservice==\"yes\").astype(int), downcast=\"integer\"),\n",
    "            paperlessbilling=lambda df_: pd.to_numeric((df_.paperlessbilling==\"yes\").astype(int), downcast=\"integer\"),\n",
    "            tenure=lambda df_: pd.to_numeric(df_.tenure, downcast=\"integer\"),\n",
    "            monthlycharges=lambda df_: pd.to_numeric(df_.monthlycharges, downcast=\"float\"),\n",
    "            totalcharges=lambda df_: pd.to_numeric(df_.totalcharges.replace(\"_\", \"0\"), errors=\"coerce\", downcast=\"float\"),\n",
    "            churn=lambda df_: pd.to_numeric((df_.churn==\"yes\").astype(int), downcast=\"integer\"),\n",
    "        )\n",
    "        .astype(\n",
    "            {\n",
    "                \"customerid\": \"string\",\n",
    "                \"gender\": \"category\",\n",
    "                \"multiplelines\": \"category\",\n",
    "                \"internetservice\": \"category\",\n",
    "                \"onlinesecurity\": \"category\",\n",
    "                \"onlinebackup\": \"category\",\n",
    "                \"deviceprotection\": \"category\",\n",
    "                \"techsupport\": \"category\",\n",
    "                \"streamingtv\": \"category\",\n",
    "                \"streamingmovies\": \"category\",\n",
    "                \"contract\": \"category\",\n",
    "                \"paymentmethod\": \"category\",\n",
    "            }\n",
    "        )\n",
    "    )\n",
    "\n",
    "df = prepare_df()"
   ]
  },
  {
   "cell_type": "code",
   "execution_count": null,
   "metadata": {},
   "outputs": [],
   "source": [
    "from sklearn.model_selection import train_test_split \n",
    "from sklearn.feature_extraction import DictVectorizer\n",
    "from sklearn.linear_model import LogisticRegression\n",
    "from sklearn.metrics import accuracy_score\n",
    "\n",
    "\n",
    "df_full_train, df_test = train_test_split(df, test_size=0.2, random_state=42)\n",
    "df_train, df_val = train_test_split(df_full_train, test_size=0.25, random_state=42)\n",
    "\n",
    "dv = DictVectorizer(sparse=False)\n",
    "\n",
    "y_full_train = df_full_train.churn.values\n",
    "y_test = df_test.churn.values\n",
    "y_train = df_train.churn.values\n",
    "y_val = df_val.churn.values\n",
    "\n",
    "dicts_train = df_train.drop(columns=\"churn\").to_dict(orient=\"records\")\n",
    "dicts_val = df_val.drop(columns=\"churn\").to_dict(orient=\"records\")\n",
    "\n",
    "dv.fit(dicts_train)\n",
    "X_train = dv.transform(dicts_train)\n",
    "X_val = dv.transform(dicts_val)\n",
    "\n",
    "model = LogisticRegression(solver=\"liblinear\")\n",
    "model.fit(X_train, y_train)\n",
    "y_pred = model.predict(X_val)\n",
    "\n",
    "accuracy_score(y_pred, y_val)"
   ]
  },
  {
   "cell_type": "markdown",
   "metadata": {},
   "source": [
    "We find a validation accuracy score of about 80%. This mean that our model is right, 80% of the time. Is this good?\n",
    "\n",
    "To answer this question, let's create a dummy model which always predicts that a customer won't churn. Before we create the model itself, let's think about the expected score in such a case. If we always predict a customer won't churn, we will be right in all the cases that there is no churn and wrong in the cases that there is churn:"
   ]
  },
  {
   "cell_type": "code",
   "execution_count": null,
   "metadata": {},
   "outputs": [
    {
     "data": {
      "text/plain": [
       "np.float64(0.7310149041873669)"
      ]
     },
     "metadata": {},
     "output_type": "display_data"
    }
   ],
   "source": [
    "(y_val==0).mean() * 1 + y_val.mean() * 0 "
   ]
  },
  {
   "cell_type": "markdown",
   "metadata": {},
   "source": [
    "We would expect our model to be right 73% of the time. Now let's create the dummy model:"
   ]
  },
  {
   "cell_type": "code",
   "execution_count": null,
   "metadata": {},
   "outputs": [
    {
     "data": {
      "text/plain": [
       "0.7310149041873669"
      ]
     },
     "metadata": {},
     "output_type": "display_data"
    }
   ],
   "source": [
    "from sklearn.dummy import DummyClassifier\n",
    "\n",
    "dummy_model = DummyClassifier()\n",
    "\n",
    "dummy_model.fit(X_train, y_train)\n",
    "y_pred = dummy_model.predict(X_val)\n",
    "\n",
    "accuracy_score(y_pred, y_val)"
   ]
  },
  {
   "cell_type": "markdown",
   "metadata": {},
   "source": [
    "As expected we find that such a model yields a score of 73%. The added value of our logistic regression prediction therefore is 7%."
   ]
  },
  {
   "cell_type": "markdown",
   "metadata": {},
   "source": [
    "## 4.10 [Homework](https://github.com/DataTalksClub/machine-learning-zoomcamp/blob/master/04-evaluation/homework.md)"
   ]
  },
  {
   "cell_type": "markdown",
   "metadata": {},
   "source": []
  }
 ],
 "metadata": {
  "kernelspec": {
   "display_name": "ml-zoomcamp",
   "language": "python",
   "name": "python3"
  },
  "language_info": {
   "codemirror_mode": {
    "name": "ipython",
    "version": 3
   },
   "file_extension": ".py",
   "mimetype": "text/x-python",
   "name": "python",
   "nbconvert_exporter": "python",
   "pygments_lexer": "ipython3",
   "version": "3.10.14"
  }
 },
 "nbformat": 4,
 "nbformat_minor": 2
}
