{
 "cells": [
  {
   "cell_type": "markdown",
   "metadata": {},
   "source": [
    "# Week 4 Notes"
   ]
  },
  {
   "cell_type": "markdown",
   "metadata": {},
   "source": [
    "\n",
    "## 4.1 [Evaluation metrics: session overview](https://github.com/DataTalksClub/machine-learning-zoomcamp/blob/master/04-evaluation/01-overview.md)\n"
   ]
  },
  {
   "cell_type": "markdown",
   "metadata": {},
   "source": [
    "Last week we created a model for churn prediction. We trained and evaluated based on accuracy. But there are different evaluation metrics for classification. For example we may prioritize true positives or true negatives.\n",
    "\n",
    "We will also look at cross-validation. So far we only held out part of the data. Cross-validation takes it a step further by looking at different subsets of the data."
   ]
  },
  {
   "cell_type": "markdown",
   "metadata": {},
   "source": [
    "## 4.2 [Accuracy and dummy model](https://github.com/DataTalksClub/machine-learning-zoomcamp/blob/master/04-evaluation/02-accuracy.md)\n"
   ]
  },
  {
   "cell_type": "code",
   "execution_count": 1,
   "metadata": {},
   "outputs": [],
   "source": [
    "import pandas as pd\n",
    "\n",
    "\n",
    "def prepare_df():\n",
    "\n",
    "    # read data\n",
    "    df = pd.read_csv(\"data-week-3.csv\")\n",
    "\n",
    "    # normalize columns\n",
    "    df.columns = (\n",
    "        df.columns\n",
    "        .str.replace(\" \", \"_\")\n",
    "        .str.lower()\n",
    "    )\n",
    "\n",
    "    # normalize data of type 'object'\n",
    "    for col in df.select_dtypes(object).columns:\n",
    "        df[col] = (\n",
    "            df[col]\n",
    "            .str.lower()\n",
    "            .str.replace(\" \", \"_\")\n",
    "        )\n",
    "\n",
    "    return (\n",
    "        df\n",
    "        .assign(\n",
    "            partner=lambda df_: pd.to_numeric((df_.partner==\"yes\").astype(int), downcast=\"integer\"),\n",
    "            seniorcitizen=lambda df_: pd.to_numeric(df_.seniorcitizen, downcast=\"integer\"),\n",
    "            dependents=lambda df_: pd.to_numeric((df_.dependents==\"yes\").astype(int), downcast=\"integer\"),\n",
    "            phoneservice=lambda df_: pd.to_numeric((df_.phoneservice==\"yes\").astype(int), downcast=\"integer\"),\n",
    "            paperlessbilling=lambda df_: pd.to_numeric((df_.paperlessbilling==\"yes\").astype(int), downcast=\"integer\"),\n",
    "            tenure=lambda df_: pd.to_numeric(df_.tenure, downcast=\"integer\"),\n",
    "            monthlycharges=lambda df_: pd.to_numeric(df_.monthlycharges, downcast=\"float\"),\n",
    "            totalcharges=lambda df_: pd.to_numeric(df_.totalcharges.replace(\"_\", \"0\"), errors=\"coerce\", downcast=\"float\"),\n",
    "            churn=lambda df_: pd.to_numeric((df_.churn==\"yes\").astype(int), downcast=\"integer\"),\n",
    "        )\n",
    "        .astype(\n",
    "            {\n",
    "                \"customerid\": \"string\",\n",
    "                \"gender\": \"category\",\n",
    "                \"multiplelines\": \"category\",\n",
    "                \"internetservice\": \"category\",\n",
    "                \"onlinesecurity\": \"category\",\n",
    "                \"onlinebackup\": \"category\",\n",
    "                \"deviceprotection\": \"category\",\n",
    "                \"techsupport\": \"category\",\n",
    "                \"streamingtv\": \"category\",\n",
    "                \"streamingmovies\": \"category\",\n",
    "                \"contract\": \"category\",\n",
    "                \"paymentmethod\": \"category\",\n",
    "            }\n",
    "        )\n",
    "    )\n",
    "\n",
    "df = prepare_df()"
   ]
  },
  {
   "cell_type": "code",
   "execution_count": 2,
   "metadata": {},
   "outputs": [
    {
     "data": {
      "text/plain": [
       "0.801277501774308"
      ]
     },
     "execution_count": 2,
     "metadata": {},
     "output_type": "execute_result"
    }
   ],
   "source": [
    "from sklearn.model_selection import train_test_split \n",
    "from sklearn.feature_extraction import DictVectorizer\n",
    "from sklearn.linear_model import LogisticRegression\n",
    "from sklearn.metrics import accuracy_score\n",
    "\n",
    "\n",
    "df_full_train, df_test = train_test_split(df, test_size=0.2, random_state=42)\n",
    "df_train, df_val = train_test_split(df_full_train, test_size=0.25, random_state=42)\n",
    "\n",
    "dv = DictVectorizer(sparse=False)\n",
    "\n",
    "y_full_train = df_full_train.churn.values\n",
    "y_test = df_test.churn.values\n",
    "y_train = df_train.churn.values\n",
    "y_val = df_val.churn.values\n",
    "\n",
    "dicts_train = df_train.drop(columns=\"churn\").to_dict(orient=\"records\")\n",
    "dicts_val = df_val.drop(columns=\"churn\").to_dict(orient=\"records\")\n",
    "\n",
    "dv.fit(dicts_train)\n",
    "X_train = dv.transform(dicts_train)\n",
    "X_val = dv.transform(dicts_val)\n",
    "\n",
    "model = LogisticRegression(solver=\"liblinear\")\n",
    "model.fit(X_train, y_train)\n",
    "\n",
    "y_pred = model.predict_proba(X_val)[:, 1]\n",
    "churn_decision = (y_pred >= 0.5)\n",
    "\n",
    "(y_val==churn_decision).mean()\n",
    "\n",
    "accuracy_score(y_val, churn_decision)"
   ]
  },
  {
   "cell_type": "markdown",
   "metadata": {},
   "source": [
    "We found an accuracy of 80% in our previous model. What does this mean? It means that our predictions were correct in 80% of cases.\n",
    "\n",
    "To make our predictions, we had a decision threshold of 50%. But this is a bit arbitrary. Choosing a different decision threshold would give us different predictions."
   ]
  },
  {
   "cell_type": "code",
   "execution_count": 3,
   "metadata": {},
   "outputs": [],
   "source": [
    "import numpy as np\n",
    "\n",
    "\n",
    "thresholds = np.linspace(0, 1, 21)\n",
    "scores = []\n",
    "\n",
    "for threshold in thresholds:\n",
    "    scores.append(accuracy_score(y_val, y_pred >= threshold))"
   ]
  },
  {
   "cell_type": "code",
   "execution_count": 4,
   "metadata": {},
   "outputs": [
    {
     "data": {
      "text/plain": [
       "Text(0, 0.5, 'Accuracy')"
      ]
     },
     "execution_count": 4,
     "metadata": {},
     "output_type": "execute_result"
    },
    {
     "data": {
      "image/png": "[encoded data removed]",
      "text/plain": [
       "<Figure size 640x480 with 1 Axes>"
      ]
     },
     "metadata": {},
     "output_type": "display_data"
    }
   ],
   "source": [
    "import matplotlib.pyplot as plt\n",
    "\n",
    "plt.plot(thresholds, scores)\n",
    "plt.xlabel(\"Threshold\")\n",
    "plt.ylabel(\"Accuracy\")"
   ]
  },
  {
   "cell_type": "markdown",
   "metadata": {},
   "source": [
    "It turns out that a threshold of 0.5 indeed gives the highest accuracy. This is not always the case though.\n",
    "\n",
    "If we look at the very right of the plot (threshold of 1), we seen an accuracy of about 73%. It means that if we predict no one to churn, we will be right in 73% of cases. This is not surprising, because this is also the non-churn rate:"
   ]
  },
  {
   "cell_type": "code",
   "execution_count": 5,
   "metadata": {},
   "outputs": [
    {
     "data": {
      "text/plain": [
       "np.float64(0.7310149041873669)"
      ]
     },
     "execution_count": 5,
     "metadata": {},
     "output_type": "execute_result"
    }
   ],
   "source": [
    "(y_val==0).mean()"
   ]
  },
  {
   "cell_type": "markdown",
   "metadata": {},
   "source": [
    "On the other end of the plot, when we predict no one to churn, we are right in 27% of cases (the churn rate).\n",
    "\n",
    "Since we have class imbalance (more samples not churning than churning, accuracy can be misleading). To address this we have other metrics like: confusion table, precision, recall."
   ]
  },
  {
   "cell_type": "markdown",
   "metadata": {},
   "source": [
    "## 4.3 [Confusion table](https://github.com/DataTalksClub/machine-learning-zoomcamp/blob/master/04-evaluation/03-confusion-table.md)\n"
   ]
  },
  {
   "cell_type": "markdown",
   "metadata": {},
   "source": [
    "A confusion table provides an overview of different types of errors made by our model. We saw that we could get a pretty good accuracy in our model by just predicting the majority class. This is because of class imbalance.\n",
    "\n",
    "A confusion table will show:\n",
    "- True Positive\n",
    "- True Negative\n",
    "- False Positive\n",
    "- False Negative\n",
    "\n",
    "Positive = Churn\n",
    "Negative = No churn\n",
    "\n",
    "We preferably want only True predictions."
   ]
  },
  {
   "cell_type": "code",
   "execution_count": 6,
   "metadata": {},
   "outputs": [],
   "source": [
    "TP = ((y_pred >= 0.5) & (y_val==1)).sum()\n",
    "TN = ((y_pred < 0.5) & (y_val==0)).sum()\n",
    "FP = ((y_pred >= 0.5) & (y_val==0)).sum()\n",
    "FN = ((y_pred < 0.5) & (y_val==1)).sum()"
   ]
  },
  {
   "cell_type": "code",
   "execution_count": 7,
   "metadata": {},
   "outputs": [
    {
     "name": "stdout",
     "output_type": "stream",
     "text": [
      "199 930 100 180\n"
     ]
    }
   ],
   "source": [
    "print(TP, TN, FP, FN)"
   ]
  },
  {
   "cell_type": "code",
   "execution_count": 8,
   "metadata": {},
   "outputs": [
    {
     "data": {
      "text/plain": [
       "array([[930, 100],\n",
       "       [180, 199]])"
      ]
     },
     "execution_count": 8,
     "metadata": {},
     "output_type": "execute_result"
    }
   ],
   "source": [
    "np.array([[TN, FP],[FN, TP]])"
   ]
  },
  {
   "cell_type": "code",
   "execution_count": 9,
   "metadata": {},
   "outputs": [
    {
     "data": {
      "text/plain": [
       "array([[0.66, 0.07],\n",
       "       [0.13, 0.14]])"
      ]
     },
     "execution_count": 9,
     "metadata": {},
     "output_type": "execute_result"
    }
   ],
   "source": [
    "(np.array([[TN, FP],[FN, TP]]) / (TN + FP + FN + TP)).round(2)"
   ]
  },
  {
   "cell_type": "markdown",
   "metadata": {},
   "source": [
    "## 4.4 [Precision and Recall](https://github.com/DataTalksClub/machine-learning-zoomcamp/blob/master/04-evaluation/04-precision-recall.md)\n"
   ]
  },
  {
   "cell_type": "markdown",
   "metadata": {},
   "source": [
    "Precision and recall are metrics for evaluating binary classification models. \n",
    "\n",
    "Accuracy: what fraction of predictions are you correct (in general)? High accuracy means you avoided both false positives and false negatives.\n",
    "\n",
    "$$\n",
    "accuracy = \\frac {TP + TN} {TP + TN + FP + FN}\n",
    "$$"
   ]
  },
  {
   "cell_type": "code",
   "execution_count": 10,
   "metadata": {},
   "outputs": [
    {
     "data": {
      "text/plain": [
       "np.float64(0.801277501774308)"
      ]
     },
     "execution_count": 10,
     "metadata": {},
     "output_type": "execute_result"
    }
   ],
   "source": [
    "(TP + TN) / (TP + TN + FP + FN)"
   ]
  },
  {
   "cell_type": "markdown",
   "metadata": {},
   "source": [
    "Our accuracy is 80%. However, let's look at the other metrics.\n",
    "\n",
    "Precision: what fraction of positive predictions are you correct? High precision means you avoided false positives.\n",
    "\n",
    "$$\n",
    "precision = \\frac {TP} {TP + FP}\n",
    "$$"
   ]
  },
  {
   "cell_type": "code",
   "execution_count": 11,
   "metadata": {},
   "outputs": [
    {
     "data": {
      "text/plain": [
       "np.float64(0.6655518394648829)"
      ]
     },
     "execution_count": 11,
     "metadata": {},
     "output_type": "execute_result"
    }
   ],
   "source": [
    "TP / (TP + FP)"
   ]
  },
  {
   "cell_type": "markdown",
   "metadata": {},
   "source": [
    "Our precision is 67%. This means that we would be sending a promotional e-mail to a number of people ($TP + FP = 299$), but only 67% of those actually churned.\n",
    "\n",
    "Recall: what fraction of actual positives did you predict correctly? High recall means you avoided false negatives.\n",
    "\n",
    "$$\n",
    "recall = \\frac {TP} {TP + FN}\n",
    "$$"
   ]
  },
  {
   "cell_type": "code",
   "execution_count": 12,
   "metadata": {},
   "outputs": [
    {
     "data": {
      "text/plain": [
       "np.float64(0.525065963060686)"
      ]
     },
     "execution_count": 12,
     "metadata": {},
     "output_type": "execute_result"
    }
   ],
   "source": [
    "TP / (TP + FN)"
   ]
  },
  {
   "cell_type": "markdown",
   "metadata": {},
   "source": [
    "The precision we found is 53%. So 47% of all people churning, we failed to identify as such.\n",
    "\n",
    "So although our accuracy was 80%, we failed to identify churn for 47% of actual churners. Therefore accuracy is not a great metric for this use case."
   ]
  },
  {
   "cell_type": "markdown",
   "metadata": {},
   "source": [
    "## 4.5 [ROC Curves](https://github.com/DataTalksClub/machine-learning-zoomcamp/blob/master/04-evaluation/05-roc.md)\n"
   ]
  },
  {
   "cell_type": "markdown",
   "metadata": {},
   "source": [
    "The ROC curve is a visual representation of model performance across all thresholds. It's a way to evaluate binary classification models.\n",
    "\n",
    "ROC = Receiver Operating Characteristics\n",
    "\n",
    "We are interested in the **False Positive Rate** and **False Negative Rate**.\n",
    "\n",
    "**True Positive Rate** (recall) is the fraction of true positives over all actual positives (first column of the confusion matrix):\n",
    "\n",
    "$$\n",
    "TPR = \\frac {TP} {TP + FN}\n",
    "$$\n",
    "\n",
    "**False Positive Rate** is the fraction of false positives over all negatives (first row of the confusion matrix):\n",
    "\n",
    "$$\n",
    "FPR = \\frac {FP} {FP + TN}\n",
    "$$\n",
    "\n",
    "\n",
    "\n",
    "<table style=\"text-align: center; border-collapse: collapse;\">\n",
    "    <tr>\n",
    "        <td style=\"background-color: green; color: black; font-weight: bold; padding: 10px;\">TN</td>\n",
    "        <td style=\"background-color: red; color: black; font-weight: bold; padding: 10px;\">FP</td>\n",
    "        <td style=\"color: red; font-weight: bold; padding: 10px;\">FPR</td>\n",
    "    </tr>\n",
    "    <tr>\n",
    "        <td style=\"background-color: red; color: black; font-weight: bold; padding: 10px;\">FN</td>\n",
    "        <td style=\"background-color: green; color: black; font-weight: bold; padding: 10px;\">TP</td>\n",
    "        <td style=\"color: green; font-weight: bold; padding: 10px;\">TPR</td>\n",
    "    </tr>\n",
    "</table>\n",
    "\n",
    "\n"
   ]
  },
  {
   "cell_type": "code",
   "execution_count": 13,
   "metadata": {},
   "outputs": [
    {
     "data": {
      "text/plain": [
       "np.float64(0.525065963060686)"
      ]
     },
     "execution_count": 13,
     "metadata": {},
     "output_type": "execute_result"
    }
   ],
   "source": [
    "TPR = TP / (TP + FN)\n",
    "TPR"
   ]
  },
  {
   "cell_type": "markdown",
   "metadata": {},
   "source": [
    "Note that TPR is the same as **recall**."
   ]
  },
  {
   "cell_type": "code",
   "execution_count": 19,
   "metadata": {},
   "outputs": [
    {
     "data": {
      "text/plain": [
       "np.float64(0.0970873786407767)"
      ]
     },
     "execution_count": 19,
     "metadata": {},
     "output_type": "execute_result"
    }
   ],
   "source": [
    "FPR = FP / (FP + TN)\n",
    "FPR"
   ]
  },
  {
   "cell_type": "markdown",
   "metadata": {},
   "source": [
    "The ROC curve looks at TPR and FPR for all thresholds."
   ]
  },
  {
   "cell_type": "code",
   "execution_count": 40,
   "metadata": {},
   "outputs": [],
   "source": [
    "thresholds = np.linspace(0, 1, 101)\n",
    "scores = []\n",
    "\n",
    "for t in thresholds:\n",
    "    actual_positive = (y_val == 1)\n",
    "    actual_negative = (y_val == 0)\n",
    "\n",
    "    predict_positive = (y_pred >= t)\n",
    "    predict_negative = (y_pred < t)\n",
    "    \n",
    "\n",
    "    tp = (predict_positive & actual_positive).sum()\n",
    "    tn = (predict_negative & actual_negative).sum()\n",
    "    \n",
    "    fp = (predict_positive & actual_negative).sum()\n",
    "    fn = (predict_negative & actual_positive).sum()\n",
    "\n",
    "    scores.append((t, tp, tn, fp, fn))\n",
    "\n",
    "df_scores = pd.DataFrame(data=scores, columns=[\"threshold\", \"tp\", \"tn\", \"fp\", \"fn\"])"
   ]
  },
  {
   "cell_type": "code",
   "execution_count": 42,
   "metadata": {},
   "outputs": [
    {
     "data": {
      "text/html": [
       "<div>\n",
       "<style scoped>\n",
       "    .dataframe tbody tr th:only-of-type {\n",
       "        vertical-align: middle;\n",
       "    }\n",
       "\n",
       "    .dataframe tbody tr th {\n",
       "        vertical-align: top;\n",
       "    }\n",
       "\n",
       "    .dataframe thead th {\n",
       "        text-align: right;\n",
       "    }\n",
       "</style>\n",
       "<table border=\"1\" class=\"dataframe\">\n",
       "  <thead>\n",
       "    <tr style=\"text-align: right;\">\n",
       "      <th></th>\n",
       "      <th>threshold</th>\n",
       "      <th>tp</th>\n",
       "      <th>tn</th>\n",
       "      <th>fp</th>\n",
       "      <th>fn</th>\n",
       "    </tr>\n",
       "  </thead>\n",
       "  <tbody>\n",
       "    <tr>\n",
       "      <th>0</th>\n",
       "      <td>0.00</td>\n",
       "      <td>379</td>\n",
       "      <td>0</td>\n",
       "      <td>1030</td>\n",
       "      <td>0</td>\n",
       "    </tr>\n",
       "    <tr>\n",
       "      <th>1</th>\n",
       "      <td>0.01</td>\n",
       "      <td>379</td>\n",
       "      <td>113</td>\n",
       "      <td>917</td>\n",
       "      <td>0</td>\n",
       "    </tr>\n",
       "    <tr>\n",
       "      <th>2</th>\n",
       "      <td>0.02</td>\n",
       "      <td>376</td>\n",
       "      <td>208</td>\n",
       "      <td>822</td>\n",
       "      <td>3</td>\n",
       "    </tr>\n",
       "    <tr>\n",
       "      <th>3</th>\n",
       "      <td>0.03</td>\n",
       "      <td>374</td>\n",
       "      <td>267</td>\n",
       "      <td>763</td>\n",
       "      <td>5</td>\n",
       "    </tr>\n",
       "    <tr>\n",
       "      <th>4</th>\n",
       "      <td>0.04</td>\n",
       "      <td>372</td>\n",
       "      <td>311</td>\n",
       "      <td>719</td>\n",
       "      <td>7</td>\n",
       "    </tr>\n",
       "    <tr>\n",
       "      <th>...</th>\n",
       "      <td>...</td>\n",
       "      <td>...</td>\n",
       "      <td>...</td>\n",
       "      <td>...</td>\n",
       "      <td>...</td>\n",
       "    </tr>\n",
       "    <tr>\n",
       "      <th>96</th>\n",
       "      <td>0.96</td>\n",
       "      <td>0</td>\n",
       "      <td>1030</td>\n",
       "      <td>0</td>\n",
       "      <td>379</td>\n",
       "    </tr>\n",
       "    <tr>\n",
       "      <th>97</th>\n",
       "      <td>0.97</td>\n",
       "      <td>0</td>\n",
       "      <td>1030</td>\n",
       "      <td>0</td>\n",
       "      <td>379</td>\n",
       "    </tr>\n",
       "    <tr>\n",
       "      <th>98</th>\n",
       "      <td>0.98</td>\n",
       "      <td>0</td>\n",
       "      <td>1030</td>\n",
       "      <td>0</td>\n",
       "      <td>379</td>\n",
       "    </tr>\n",
       "    <tr>\n",
       "      <th>99</th>\n",
       "      <td>0.99</td>\n",
       "      <td>0</td>\n",
       "      <td>1030</td>\n",
       "      <td>0</td>\n",
       "      <td>379</td>\n",
       "    </tr>\n",
       "    <tr>\n",
       "      <th>100</th>\n",
       "      <td>1.00</td>\n",
       "      <td>0</td>\n",
       "      <td>1030</td>\n",
       "      <td>0</td>\n",
       "      <td>379</td>\n",
       "    </tr>\n",
       "  </tbody>\n",
       "</table>\n",
       "<p>101 rows × 5 columns</p>\n",
       "</div>"
      ],
      "text/plain": [
       "     threshold   tp    tn    fp   fn\n",
       "0         0.00  379     0  1030    0\n",
       "1         0.01  379   113   917    0\n",
       "2         0.02  376   208   822    3\n",
       "3         0.03  374   267   763    5\n",
       "4         0.04  372   311   719    7\n",
       "..         ...  ...   ...   ...  ...\n",
       "96        0.96    0  1030     0  379\n",
       "97        0.97    0  1030     0  379\n",
       "98        0.98    0  1030     0  379\n",
       "99        0.99    0  1030     0  379\n",
       "100       1.00    0  1030     0  379\n",
       "\n",
       "[101 rows x 5 columns]"
      ]
     },
     "execution_count": 42,
     "metadata": {},
     "output_type": "execute_result"
    }
   ],
   "source": [
    "df_scores"
   ]
  },
  {
   "cell_type": "code",
   "execution_count": 43,
   "metadata": {},
   "outputs": [],
   "source": [
    "df_scores[\"tpr\"] = df_scores[\"tp\"] / (df_scores[\"tp\"] + df_scores[\"fn\"])\n",
    "df_scores[\"fpr\"] = df_scores[\"fp\"] / (df_scores[\"fp\"] + df_scores[\"tn\"])"
   ]
  },
  {
   "cell_type": "code",
   "execution_count": 44,
   "metadata": {},
   "outputs": [
    {
     "data": {
      "text/html": [
       "<div>\n",
       "<style scoped>\n",
       "    .dataframe tbody tr th:only-of-type {\n",
       "        vertical-align: middle;\n",
       "    }\n",
       "\n",
       "    .dataframe tbody tr th {\n",
       "        vertical-align: top;\n",
       "    }\n",
       "\n",
       "    .dataframe thead th {\n",
       "        text-align: right;\n",
       "    }\n",
       "</style>\n",
       "<table border=\"1\" class=\"dataframe\">\n",
       "  <thead>\n",
       "    <tr style=\"text-align: right;\">\n",
       "      <th></th>\n",
       "      <th>threshold</th>\n",
       "      <th>tp</th>\n",
       "      <th>tn</th>\n",
       "      <th>fp</th>\n",
       "      <th>fn</th>\n",
       "      <th>tpr</th>\n",
       "      <th>fpr</th>\n",
       "    </tr>\n",
       "  </thead>\n",
       "  <tbody>\n",
       "    <tr>\n",
       "      <th>0</th>\n",
       "      <td>0.00</td>\n",
       "      <td>379</td>\n",
       "      <td>0</td>\n",
       "      <td>1030</td>\n",
       "      <td>0</td>\n",
       "      <td>1.000000</td>\n",
       "      <td>1.000000</td>\n",
       "    </tr>\n",
       "    <tr>\n",
       "      <th>1</th>\n",
       "      <td>0.01</td>\n",
       "      <td>379</td>\n",
       "      <td>113</td>\n",
       "      <td>917</td>\n",
       "      <td>0</td>\n",
       "      <td>1.000000</td>\n",
       "      <td>0.890291</td>\n",
       "    </tr>\n",
       "    <tr>\n",
       "      <th>2</th>\n",
       "      <td>0.02</td>\n",
       "      <td>376</td>\n",
       "      <td>208</td>\n",
       "      <td>822</td>\n",
       "      <td>3</td>\n",
       "      <td>0.992084</td>\n",
       "      <td>0.798058</td>\n",
       "    </tr>\n",
       "    <tr>\n",
       "      <th>3</th>\n",
       "      <td>0.03</td>\n",
       "      <td>374</td>\n",
       "      <td>267</td>\n",
       "      <td>763</td>\n",
       "      <td>5</td>\n",
       "      <td>0.986807</td>\n",
       "      <td>0.740777</td>\n",
       "    </tr>\n",
       "    <tr>\n",
       "      <th>4</th>\n",
       "      <td>0.04</td>\n",
       "      <td>372</td>\n",
       "      <td>311</td>\n",
       "      <td>719</td>\n",
       "      <td>7</td>\n",
       "      <td>0.981530</td>\n",
       "      <td>0.698058</td>\n",
       "    </tr>\n",
       "    <tr>\n",
       "      <th>...</th>\n",
       "      <td>...</td>\n",
       "      <td>...</td>\n",
       "      <td>...</td>\n",
       "      <td>...</td>\n",
       "      <td>...</td>\n",
       "      <td>...</td>\n",
       "      <td>...</td>\n",
       "    </tr>\n",
       "    <tr>\n",
       "      <th>96</th>\n",
       "      <td>0.96</td>\n",
       "      <td>0</td>\n",
       "      <td>1030</td>\n",
       "      <td>0</td>\n",
       "      <td>379</td>\n",
       "      <td>0.000000</td>\n",
       "      <td>0.000000</td>\n",
       "    </tr>\n",
       "    <tr>\n",
       "      <th>97</th>\n",
       "      <td>0.97</td>\n",
       "      <td>0</td>\n",
       "      <td>1030</td>\n",
       "      <td>0</td>\n",
       "      <td>379</td>\n",
       "      <td>0.000000</td>\n",
       "      <td>0.000000</td>\n",
       "    </tr>\n",
       "    <tr>\n",
       "      <th>98</th>\n",
       "      <td>0.98</td>\n",
       "      <td>0</td>\n",
       "      <td>1030</td>\n",
       "      <td>0</td>\n",
       "      <td>379</td>\n",
       "      <td>0.000000</td>\n",
       "      <td>0.000000</td>\n",
       "    </tr>\n",
       "    <tr>\n",
       "      <th>99</th>\n",
       "      <td>0.99</td>\n",
       "      <td>0</td>\n",
       "      <td>1030</td>\n",
       "      <td>0</td>\n",
       "      <td>379</td>\n",
       "      <td>0.000000</td>\n",
       "      <td>0.000000</td>\n",
       "    </tr>\n",
       "    <tr>\n",
       "      <th>100</th>\n",
       "      <td>1.00</td>\n",
       "      <td>0</td>\n",
       "      <td>1030</td>\n",
       "      <td>0</td>\n",
       "      <td>379</td>\n",
       "      <td>0.000000</td>\n",
       "      <td>0.000000</td>\n",
       "    </tr>\n",
       "  </tbody>\n",
       "</table>\n",
       "<p>101 rows × 7 columns</p>\n",
       "</div>"
      ],
      "text/plain": [
       "     threshold   tp    tn    fp   fn       tpr       fpr\n",
       "0         0.00  379     0  1030    0  1.000000  1.000000\n",
       "1         0.01  379   113   917    0  1.000000  0.890291\n",
       "2         0.02  376   208   822    3  0.992084  0.798058\n",
       "3         0.03  374   267   763    5  0.986807  0.740777\n",
       "4         0.04  372   311   719    7  0.981530  0.698058\n",
       "..         ...  ...   ...   ...  ...       ...       ...\n",
       "96        0.96    0  1030     0  379  0.000000  0.000000\n",
       "97        0.97    0  1030     0  379  0.000000  0.000000\n",
       "98        0.98    0  1030     0  379  0.000000  0.000000\n",
       "99        0.99    0  1030     0  379  0.000000  0.000000\n",
       "100       1.00    0  1030     0  379  0.000000  0.000000\n",
       "\n",
       "[101 rows x 7 columns]"
      ]
     },
     "execution_count": 44,
     "metadata": {},
     "output_type": "execute_result"
    }
   ],
   "source": [
    "df_scores"
   ]
  },
  {
   "cell_type": "code",
   "execution_count": 45,
   "metadata": {},
   "outputs": [
    {
     "data": {
      "text/plain": [
       "<matplotlib.legend.Legend at 0x7fcf7b6753f0>"
      ]
     },
     "execution_count": 45,
     "metadata": {},
     "output_type": "execute_result"
    },
    {
     "data": {
      "image/png": "[encoded data removed]",
      "text/plain": [
       "<Figure size 640x480 with 1 Axes>"
      ]
     },
     "metadata": {},
     "output_type": "display_data"
    }
   ],
   "source": [
    "plt.plot(df_scores[\"threshold\"], df_scores[\"tpr\"], label=\"TPR\")\n",
    "plt.plot(df_scores[\"threshold\"], df_scores[\"fpr\"], label=\"FPR\")\n",
    "plt.legend()"
   ]
  },
  {
   "cell_type": "markdown",
   "metadata": {},
   "source": [
    "The ROC plot gives us an idea about how many of each type of mistake the model makes. However we have no baseline to compare it to. Therefore we will make a random model next which basically flips a coin and see how well it performs."
   ]
  },
  {
   "cell_type": "markdown",
   "metadata": {},
   "source": [
    "### Random Model"
   ]
  },
  {
   "cell_type": "code",
   "execution_count": 46,
   "metadata": {},
   "outputs": [],
   "source": [
    "np.random.seed(1)\n",
    "y_rand = np.random.uniform(0, 1, size=len(y_val))"
   ]
  },
  {
   "cell_type": "code",
   "execution_count": 47,
   "metadata": {},
   "outputs": [
    {
     "data": {
      "text/plain": [
       "array([0.417, 0.72 , 0.   , ..., 0.774, 0.334, 0.089])"
      ]
     },
     "execution_count": 47,
     "metadata": {},
     "output_type": "execute_result"
    }
   ],
   "source": [
    "y_rand.round(3)"
   ]
  },
  {
   "cell_type": "code",
   "execution_count": 48,
   "metadata": {},
   "outputs": [
    {
     "data": {
      "text/plain": [
       "np.float64(0.48261178140525196)"
      ]
     },
     "execution_count": 48,
     "metadata": {},
     "output_type": "execute_result"
    }
   ],
   "source": [
    "((y_rand >= 0.5) == y_val).mean()"
   ]
  },
  {
   "cell_type": "markdown",
   "metadata": {},
   "source": [
    "We have an accuracy close to 50%, which is expected."
   ]
  },
  {
   "cell_type": "code",
   "execution_count": 51,
   "metadata": {},
   "outputs": [],
   "source": [
    "def tpr_fpr_dataframe(y_val, y_pred):\n",
    "\n",
    "    thresholds = np.linspace(0, 1, 101)\n",
    "    scores = []\n",
    "\n",
    "    for t in thresholds:\n",
    "        actual_positive = (y_val == 1)\n",
    "        actual_negative = (y_val == 0)\n",
    "\n",
    "        predict_positive = (y_pred >= t)\n",
    "        predict_negative = (y_pred < t)\n",
    "        \n",
    "        tp = (predict_positive & actual_positive).sum()\n",
    "        tn = (predict_negative & actual_negative).sum()\n",
    "        \n",
    "        fp = (predict_positive & actual_negative).sum()\n",
    "        fn = (predict_negative & actual_positive).sum()\n",
    "\n",
    "        scores.append((t, tp, tn, fp, fn))\n",
    "\n",
    "    df_scores = pd.DataFrame(data=scores, columns=[\"threshold\", \"tp\", \"tn\", \"fp\", \"fn\"])\n",
    "\n",
    "    df_scores[\"tpr\"] = df_scores[\"tp\"] / (df_scores[\"tp\"] + df_scores[\"fn\"])\n",
    "    df_scores[\"fpr\"] = df_scores[\"fp\"] / (df_scores[\"fp\"] + df_scores[\"tn\"])\n",
    "\n",
    "    return df_scores"
   ]
  },
  {
   "cell_type": "code",
   "execution_count": 52,
   "metadata": {},
   "outputs": [],
   "source": [
    "df_rand = tpr_fpr_dataframe(y_val, y_rand)"
   ]
  },
  {
   "cell_type": "code",
   "execution_count": 53,
   "metadata": {},
   "outputs": [
    {
     "data": {
      "text/html": [
       "<div>\n",
       "<style scoped>\n",
       "    .dataframe tbody tr th:only-of-type {\n",
       "        vertical-align: middle;\n",
       "    }\n",
       "\n",
       "    .dataframe tbody tr th {\n",
       "        vertical-align: top;\n",
       "    }\n",
       "\n",
       "    .dataframe thead th {\n",
       "        text-align: right;\n",
       "    }\n",
       "</style>\n",
       "<table border=\"1\" class=\"dataframe\">\n",
       "  <thead>\n",
       "    <tr style=\"text-align: right;\">\n",
       "      <th></th>\n",
       "      <th>threshold</th>\n",
       "      <th>tp</th>\n",
       "      <th>tn</th>\n",
       "      <th>fp</th>\n",
       "      <th>fn</th>\n",
       "      <th>tpr</th>\n",
       "      <th>fpr</th>\n",
       "    </tr>\n",
       "  </thead>\n",
       "  <tbody>\n",
       "    <tr>\n",
       "      <th>0</th>\n",
       "      <td>0.00</td>\n",
       "      <td>379</td>\n",
       "      <td>0</td>\n",
       "      <td>1030</td>\n",
       "      <td>0</td>\n",
       "      <td>1.000000</td>\n",
       "      <td>1.000000</td>\n",
       "    </tr>\n",
       "    <tr>\n",
       "      <th>1</th>\n",
       "      <td>0.01</td>\n",
       "      <td>374</td>\n",
       "      <td>9</td>\n",
       "      <td>1021</td>\n",
       "      <td>5</td>\n",
       "      <td>0.986807</td>\n",
       "      <td>0.991262</td>\n",
       "    </tr>\n",
       "    <tr>\n",
       "      <th>2</th>\n",
       "      <td>0.02</td>\n",
       "      <td>369</td>\n",
       "      <td>27</td>\n",
       "      <td>1003</td>\n",
       "      <td>10</td>\n",
       "      <td>0.973615</td>\n",
       "      <td>0.973786</td>\n",
       "    </tr>\n",
       "    <tr>\n",
       "      <th>3</th>\n",
       "      <td>0.03</td>\n",
       "      <td>363</td>\n",
       "      <td>39</td>\n",
       "      <td>991</td>\n",
       "      <td>16</td>\n",
       "      <td>0.957784</td>\n",
       "      <td>0.962136</td>\n",
       "    </tr>\n",
       "    <tr>\n",
       "      <th>4</th>\n",
       "      <td>0.04</td>\n",
       "      <td>357</td>\n",
       "      <td>46</td>\n",
       "      <td>984</td>\n",
       "      <td>22</td>\n",
       "      <td>0.941953</td>\n",
       "      <td>0.955340</td>\n",
       "    </tr>\n",
       "    <tr>\n",
       "      <th>...</th>\n",
       "      <td>...</td>\n",
       "      <td>...</td>\n",
       "      <td>...</td>\n",
       "      <td>...</td>\n",
       "      <td>...</td>\n",
       "      <td>...</td>\n",
       "      <td>...</td>\n",
       "    </tr>\n",
       "    <tr>\n",
       "      <th>96</th>\n",
       "      <td>0.96</td>\n",
       "      <td>13</td>\n",
       "      <td>988</td>\n",
       "      <td>42</td>\n",
       "      <td>366</td>\n",
       "      <td>0.034301</td>\n",
       "      <td>0.040777</td>\n",
       "    </tr>\n",
       "    <tr>\n",
       "      <th>97</th>\n",
       "      <td>0.97</td>\n",
       "      <td>11</td>\n",
       "      <td>994</td>\n",
       "      <td>36</td>\n",
       "      <td>368</td>\n",
       "      <td>0.029024</td>\n",
       "      <td>0.034951</td>\n",
       "    </tr>\n",
       "    <tr>\n",
       "      <th>98</th>\n",
       "      <td>0.98</td>\n",
       "      <td>4</td>\n",
       "      <td>1007</td>\n",
       "      <td>23</td>\n",
       "      <td>375</td>\n",
       "      <td>0.010554</td>\n",
       "      <td>0.022330</td>\n",
       "    </tr>\n",
       "    <tr>\n",
       "      <th>99</th>\n",
       "      <td>0.99</td>\n",
       "      <td>1</td>\n",
       "      <td>1018</td>\n",
       "      <td>12</td>\n",
       "      <td>378</td>\n",
       "      <td>0.002639</td>\n",
       "      <td>0.011650</td>\n",
       "    </tr>\n",
       "    <tr>\n",
       "      <th>100</th>\n",
       "      <td>1.00</td>\n",
       "      <td>0</td>\n",
       "      <td>1030</td>\n",
       "      <td>0</td>\n",
       "      <td>379</td>\n",
       "      <td>0.000000</td>\n",
       "      <td>0.000000</td>\n",
       "    </tr>\n",
       "  </tbody>\n",
       "</table>\n",
       "<p>101 rows × 7 columns</p>\n",
       "</div>"
      ],
      "text/plain": [
       "     threshold   tp    tn    fp   fn       tpr       fpr\n",
       "0         0.00  379     0  1030    0  1.000000  1.000000\n",
       "1         0.01  374     9  1021    5  0.986807  0.991262\n",
       "2         0.02  369    27  1003   10  0.973615  0.973786\n",
       "3         0.03  363    39   991   16  0.957784  0.962136\n",
       "4         0.04  357    46   984   22  0.941953  0.955340\n",
       "..         ...  ...   ...   ...  ...       ...       ...\n",
       "96        0.96   13   988    42  366  0.034301  0.040777\n",
       "97        0.97   11   994    36  368  0.029024  0.034951\n",
       "98        0.98    4  1007    23  375  0.010554  0.022330\n",
       "99        0.99    1  1018    12  378  0.002639  0.011650\n",
       "100       1.00    0  1030     0  379  0.000000  0.000000\n",
       "\n",
       "[101 rows x 7 columns]"
      ]
     },
     "execution_count": 53,
     "metadata": {},
     "output_type": "execute_result"
    }
   ],
   "source": [
    "df_rand"
   ]
  },
  {
   "cell_type": "code",
   "execution_count": 56,
   "metadata": {},
   "outputs": [
    {
     "data": {
      "text/plain": [
       "<matplotlib.legend.Legend at 0x7fcf7b6316f0>"
      ]
     },
     "execution_count": 56,
     "metadata": {},
     "output_type": "execute_result"
    },
    {
     "data": {
      "image/png": "[encoded data removed]",
      "text/plain": [
       "<Figure size 640x480 with 1 Axes>"
      ]
     },
     "metadata": {},
     "output_type": "display_data"
    }
   ],
   "source": [
    "plt.plot(df_rand[\"threshold\"], df_rand[\"tpr\"], label=\"TPR\")\n",
    "plt.plot(df_rand[\"threshold\"], df_rand[\"fpr\"], label=\"FPR\")\n",
    "plt.legend()"
   ]
  },
  {
   "cell_type": "markdown",
   "metadata": {},
   "source": [
    "### Ideal Model"
   ]
  },
  {
   "cell_type": "code",
   "execution_count": 59,
   "metadata": {},
   "outputs": [
    {
     "data": {
      "text/plain": [
       "(np.int64(1030), np.int64(379))"
      ]
     },
     "execution_count": 59,
     "metadata": {},
     "output_type": "execute_result"
    }
   ],
   "source": [
    "num_neg = (y_val == 0).sum()\n",
    "num_pos = (y_val == 1).sum()\n",
    "num_neg, num_pos"
   ]
  },
  {
   "cell_type": "code",
   "execution_count": 61,
   "metadata": {},
   "outputs": [
    {
     "data": {
      "text/plain": [
       "array([0, 0, 0, ..., 1, 1, 1])"
      ]
     },
     "execution_count": 61,
     "metadata": {},
     "output_type": "execute_result"
    }
   ],
   "source": [
    "y_ideal = np.repeat([0, 1], repeats=[num_neg, num_pos])\n",
    "y_ideal"
   ]
  },
  {
   "cell_type": "code",
   "execution_count": 62,
   "metadata": {},
   "outputs": [],
   "source": [
    "y_ideal_pred = np.linspace(0, 1, len(y_val))"
   ]
  },
  {
   "cell_type": "code",
   "execution_count": 63,
   "metadata": {},
   "outputs": [
    {
     "data": {
      "text/plain": [
       "np.float64(0.7310149041873669)"
      ]
     },
     "execution_count": 63,
     "metadata": {},
     "output_type": "execute_result"
    }
   ],
   "source": [
    "1-y_val.mean()"
   ]
  },
  {
   "cell_type": "code",
   "execution_count": 64,
   "metadata": {},
   "outputs": [
    {
     "data": {
      "text/plain": [
       "np.float64(1.0)"
      ]
     },
     "execution_count": 64,
     "metadata": {},
     "output_type": "execute_result"
    }
   ],
   "source": [
    "((y_ideal_pred >= 0.731) == y_ideal).mean()"
   ]
  },
  {
   "cell_type": "code",
   "execution_count": 70,
   "metadata": {},
   "outputs": [
    {
     "data": {
      "text/plain": [
       "<matplotlib.legend.Legend at 0x7fcf7ad6f490>"
      ]
     },
     "execution_count": 70,
     "metadata": {},
     "output_type": "execute_result"
    },
    {
     "data": {
      "image/png": "[encoded data removed]",
      "text/plain": [
       "<Figure size 640x480 with 1 Axes>"
      ]
     },
     "metadata": {},
     "output_type": "display_data"
    }
   ],
   "source": [
    "df_ideal = tpr_fpr_dataframe(y_ideal, y_ideal_pred)\n",
    "plt.plot(df_scores[\"threshold\"], df_scores[\"tpr\"], label=\"TPR\")\n",
    "plt.plot(df_scores[\"threshold\"], df_scores[\"fpr\"], label=\"FPR\")\n",
    "plt.plot(df_ideal[\"threshold\"], df_ideal[\"tpr\"], label=\"TPR\", color=\"black\")\n",
    "plt.plot(df_ideal[\"threshold\"], df_ideal[\"fpr\"], label=\"FPR\", color=\"black\")\n",
    "plt.legend()"
   ]
  },
  {
   "cell_type": "code",
   "execution_count": 76,
   "metadata": {},
   "outputs": [
    {
     "data": {
      "text/plain": [
       "<matplotlib.legend.Legend at 0x7fcf7ad63fa0>"
      ]
     },
     "execution_count": 76,
     "metadata": {},
     "output_type": "execute_result"
    },
    {
     "data": {
      "image/png": "[encoded data removed]",
      "text/plain": [
       "<Figure size 500x500 with 1 Axes>"
      ]
     },
     "metadata": {},
     "output_type": "display_data"
    }
   ],
   "source": [
    "plt.figure(figsize=(5,5))\n",
    "plt.plot(df_scores.fpr, df_scores.tpr, label=\"model\")\n",
    "# plt.plot(df_rand.fpr, df_rand.tpr, label=\"random\")\n",
    "plt.plot([0, 1], [0, 1], label=\"random\")\n",
    "plt.plot(df_ideal.fpr, df_ideal.tpr, label=\"ideal\")\n",
    "plt.legend()"
   ]
  },
  {
   "cell_type": "markdown",
   "metadata": {},
   "source": [
    "ssWe"
   ]
  },
  {
   "cell_type": "markdown",
   "metadata": {},
   "source": [
    "## 4.6 [ROC AUC](https://github.com/DataTalksClub/machine-learning-zoomcamp/blob/master/04-evaluation/06-auc.md)\n"
   ]
  },
  {
   "cell_type": "markdown",
   "metadata": {},
   "source": []
  },
  {
   "cell_type": "markdown",
   "metadata": {},
   "source": [
    "## 4.7 [Cross-Validation](https://github.com/DataTalksClub/machine-learning-zoomcamp/blob/master/04-evaluation/07-cross-validation.md)\n"
   ]
  },
  {
   "cell_type": "markdown",
   "metadata": {},
   "source": []
  },
  {
   "cell_type": "markdown",
   "metadata": {},
   "source": [
    "## 4.8 [Summary](https://github.com/DataTalksClub/machine-learning-zoomcamp/blob/master/04-evaluation/08-summary.md)\n"
   ]
  },
  {
   "cell_type": "markdown",
   "metadata": {},
   "source": []
  },
  {
   "cell_type": "markdown",
   "metadata": {},
   "source": [
    "## 4.9 [Explore more](https://github.com/DataTalksClub/machine-learning-zoomcamp/blob/master/04-evaluation/09-explore-more.md)\n"
   ]
  },
  {
   "cell_type": "code",
   "execution_count": null,
   "metadata": {},
   "outputs": [],
   "source": [
    "import pandas as pd\n",
    "\n",
    "\n",
    "def prepare_df():\n",
    "\n",
    "    # read data\n",
    "    df = pd.read_csv(\"data-week-3.csv\")\n",
    "\n",
    "    # normalize columns\n",
    "    df.columns = (\n",
    "        df.columns\n",
    "        .str.replace(\" \", \"_\")\n",
    "        .str.lower()\n",
    "    )\n",
    "\n",
    "    # normalize data of type 'object'\n",
    "    for col in df.select_dtypes(object).columns:\n",
    "        df[col] = (\n",
    "            df[col]\n",
    "            .str.lower()\n",
    "            .str.replace(\" \", \"_\")\n",
    "        )\n",
    "\n",
    "    return (\n",
    "        df\n",
    "        .assign(\n",
    "            partner=lambda df_: pd.to_numeric((df_.partner==\"yes\").astype(int), downcast=\"integer\"),\n",
    "            seniorcitizen=lambda df_: pd.to_numeric(df_.seniorcitizen, downcast=\"integer\"),\n",
    "            dependents=lambda df_: pd.to_numeric((df_.dependents==\"yes\").astype(int), downcast=\"integer\"),\n",
    "            phoneservice=lambda df_: pd.to_numeric((df_.phoneservice==\"yes\").astype(int), downcast=\"integer\"),\n",
    "            paperlessbilling=lambda df_: pd.to_numeric((df_.paperlessbilling==\"yes\").astype(int), downcast=\"integer\"),\n",
    "            tenure=lambda df_: pd.to_numeric(df_.tenure, downcast=\"integer\"),\n",
    "            monthlycharges=lambda df_: pd.to_numeric(df_.monthlycharges, downcast=\"float\"),\n",
    "            totalcharges=lambda df_: pd.to_numeric(df_.totalcharges.replace(\"_\", \"0\"), errors=\"coerce\", downcast=\"float\"),\n",
    "            churn=lambda df_: pd.to_numeric((df_.churn==\"yes\").astype(int), downcast=\"integer\"),\n",
    "        )\n",
    "        .astype(\n",
    "            {\n",
    "                \"customerid\": \"string\",\n",
    "                \"gender\": \"category\",\n",
    "                \"multiplelines\": \"category\",\n",
    "                \"internetservice\": \"category\",\n",
    "                \"onlinesecurity\": \"category\",\n",
    "                \"onlinebackup\": \"category\",\n",
    "                \"deviceprotection\": \"category\",\n",
    "                \"techsupport\": \"category\",\n",
    "                \"streamingtv\": \"category\",\n",
    "                \"streamingmovies\": \"category\",\n",
    "                \"contract\": \"category\",\n",
    "                \"paymentmethod\": \"category\",\n",
    "            }\n",
    "        )\n",
    "    )\n",
    "\n",
    "df = prepare_df()"
   ]
  },
  {
   "cell_type": "code",
   "execution_count": null,
   "metadata": {},
   "outputs": [],
   "source": [
    "from sklearn.model_selection import train_test_split \n",
    "from sklearn.feature_extraction import DictVectorizer\n",
    "from sklearn.linear_model import LogisticRegression\n",
    "from sklearn.metrics import accuracy_score\n",
    "\n",
    "\n",
    "df_full_train, df_test = train_test_split(df, test_size=0.2, random_state=42)\n",
    "df_train, df_val = train_test_split(df_full_train, test_size=0.25, random_state=42)\n",
    "\n",
    "dv = DictVectorizer(sparse=False)\n",
    "\n",
    "y_full_train = df_full_train.churn.values\n",
    "y_test = df_test.churn.values\n",
    "y_train = df_train.churn.values\n",
    "y_val = df_val.churn.values\n",
    "\n",
    "dicts_train = df_train.drop(columns=\"churn\").to_dict(orient=\"records\")\n",
    "dicts_val = df_val.drop(columns=\"churn\").to_dict(orient=\"records\")\n",
    "\n",
    "dv.fit(dicts_train)\n",
    "X_train = dv.transform(dicts_train)\n",
    "X_val = dv.transform(dicts_val)\n",
    "\n",
    "model = LogisticRegression(solver=\"liblinear\")\n",
    "model.fit(X_train, y_train)\n",
    "y_pred = model.predict(X_val)\n",
    "\n",
    "accuracy_score(y_pred, y_val)"
   ]
  },
  {
   "cell_type": "markdown",
   "metadata": {},
   "source": [
    "We find a validation accuracy score of about 80%. This mean that our model is right, 80% of the time. Is this good?\n",
    "\n",
    "To answer this question, let's create a dummy model which always predicts that a customer won't churn. Before we create the model itself, let's think about the expected score in such a case. If we always predict a customer won't churn, we will be right in all the cases that there is no churn and wrong in the cases that there is churn:"
   ]
  },
  {
   "cell_type": "code",
   "execution_count": null,
   "metadata": {},
   "outputs": [],
   "source": [
    "(y_val==0).mean() * 1 + y_val.mean() * 0 "
   ]
  },
  {
   "cell_type": "markdown",
   "metadata": {},
   "source": [
    "We would expect our model to be right 73% of the time. Now let's create the dummy model:"
   ]
  },
  {
   "cell_type": "code",
   "execution_count": null,
   "metadata": {},
   "outputs": [],
   "source": [
    "from sklearn.dummy import DummyClassifier\n",
    "\n",
    "dummy_model = DummyClassifier()\n",
    "\n",
    "dummy_model.fit(X_train, y_train)\n",
    "y_pred = dummy_model.predict(X_val)\n",
    "\n",
    "accuracy_score(y_pred, y_val)"
   ]
  },
  {
   "cell_type": "markdown",
   "metadata": {},
   "source": [
    "As expected we find that such a model yields a score of 73%. The added value of our logistic regression prediction therefore is 7%."
   ]
  },
  {
   "cell_type": "markdown",
   "metadata": {},
   "source": [
    "## 4.10 [Homework](https://github.com/DataTalksClub/machine-learning-zoomcamp/blob/master/04-evaluation/homework.md)"
   ]
  },
  {
   "cell_type": "markdown",
   "metadata": {},
   "source": []
  }
 ],
 "metadata": {
  "kernelspec": {
   "display_name": "ml-zoomcamp",
   "language": "python",
   "name": "python3"
  },
  "language_info": {
   "codemirror_mode": {
    "name": "ipython",
    "version": 3
   },
   "file_extension": ".py",
   "mimetype": "text/x-python",
   "name": "python",
   "nbconvert_exporter": "python",
   "pygments_lexer": "ipython3",
   "version": "3.10.14"
  }
 },
 "nbformat": 4,
 "nbformat_minor": 2
}
