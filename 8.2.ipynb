{
 "cells": [
  {
   "cell_type": "code",
   "execution_count": 2,
   "id": "c157b6be-1a71-406a-b865-7b42554e750a",
   "metadata": {
    "execution": {
     "iopub.execute_input": "2024-11-27T16:51:11.153984Z",
     "iopub.status.busy": "2024-11-27T16:51:11.153602Z",
     "iopub.status.idle": "2024-11-27T16:51:11.157095Z",
     "shell.execute_reply": "2024-11-27T16:51:11.156408Z",
     "shell.execute_reply.started": "2024-11-27T16:51:11.153960Z"
    }
   },
   "outputs": [],
   "source": [
    "import numpy as np"
   ]
  },
  {
   "cell_type": "code",
   "execution_count": 3,
   "id": "2abb9f21-41d8-4add-9363-d78fede23062",
   "metadata": {
    "execution": {
     "iopub.execute_input": "2024-11-27T16:47:44.681958Z",
     "iopub.status.busy": "2024-11-27T16:47:44.681588Z",
     "iopub.status.idle": "2024-11-27T16:47:44.685132Z",
     "shell.execute_reply": "2024-11-27T16:47:44.684536Z",
     "shell.execute_reply.started": "2024-11-27T16:47:44.681933Z"
    }
   },
   "outputs": [
    {
     "ename": "ModuleNotFoundError",
     "evalue": "No module named 'tensorflow'",
     "output_type": "error",
     "traceback": [
      "\u001b[0;31m---------------------------------------------------------------------------\u001b[0m",
      "\u001b[0;31mModuleNotFoundError\u001b[0m                       Traceback (most recent call last)",
      "Cell \u001b[0;32mIn[3], line 1\u001b[0m\n\u001b[0;32m----> 1\u001b[0m \u001b[38;5;28;01mfrom\u001b[39;00m \u001b[38;5;21;01mtensorflow\u001b[39;00m\u001b[38;5;21;01m.\u001b[39;00m\u001b[38;5;21;01mkeras\u001b[39;00m\u001b[38;5;21;01m.\u001b[39;00m\u001b[38;5;21;01mutils\u001b[39;00m \u001b[38;5;28;01mimport\u001b[39;00m load_img\n",
      "\u001b[0;31mModuleNotFoundError\u001b[0m: No module named 'tensorflow'"
     ]
    }
   ],
   "source": [
    "from tensorflow.keras.utils import load_img"
   ]
  },
  {
   "cell_type": "code",
   "execution_count": 5,
   "id": "323f8d2f-1fa7-41c5-bcb2-ead3e54220b5",
   "metadata": {
    "execution": {
     "iopub.execute_input": "2024-11-27T16:49:15.779116Z",
     "iopub.status.busy": "2024-11-27T16:49:15.778772Z",
     "iopub.status.idle": "2024-11-27T16:49:15.782117Z",
     "shell.execute_reply": "2024-11-27T16:49:15.781453Z",
     "shell.execute_reply.started": "2024-11-27T16:49:15.779091Z"
    }
   },
   "outputs": [],
   "source": [
    "path = \"./clothing-dataset-small/train/t-shirt/\"\n",
    "name = \"5f0a3fa0-6a3d-4b68-b213-72766a643de7.jpg\""
   ]
  },
  {
   "cell_type": "code",
   "execution_count": 8,
   "id": "f7812bb3-b6e4-48cf-8635-efe36f4a4c1d",
   "metadata": {
    "execution": {
     "iopub.execute_input": "2024-11-27T16:49:50.741333Z",
     "iopub.status.busy": "2024-11-27T16:49:50.740988Z",
     "iopub.status.idle": "2024-11-27T16:49:50.745427Z",
     "shell.execute_reply": "2024-11-27T16:49:50.744891Z",
     "shell.execute_reply.started": "2024-11-27T16:49:50.741308Z"
    }
   },
   "outputs": [],
   "source": [
    "fullname = f\"{path}/{name}\""
   ]
  },
  {
   "cell_type": "code",
   "execution_count": null,
   "id": "a6ac2d6b-f7ab-407f-9d78-05d41c9f8bed",
   "metadata": {
    "execution": {
     "iopub.execute_input": "2024-11-27T16:50:58.903484Z",
     "iopub.status.busy": "2024-11-27T16:50:58.903107Z",
     "iopub.status.idle": "2024-11-27T16:50:58.908170Z",
     "shell.execute_reply": "2024-11-27T16:50:58.907525Z",
     "shell.execute_reply.started": "2024-11-27T16:50:58.903457Z"
    }
   },
   "outputs": [],
   "source": [
    "img = load_img(fullname, target_size=(150, 150))\n"
   ]
  },
  {
   "cell_type": "code",
   "execution_count": 17,
   "id": "9a476675-408e-4959-be87-7eb52d744dac",
   "metadata": {
    "execution": {
     "iopub.execute_input": "2024-11-27T16:51:25.539026Z",
     "iopub.status.busy": "2024-11-27T16:51:25.538672Z",
     "iopub.status.idle": "2024-11-27T16:51:25.544503Z",
     "shell.execute_reply": "2024-11-27T16:51:25.543830Z",
     "shell.execute_reply.started": "2024-11-27T16:51:25.539002Z"
    }
   },
   "outputs": [
    {
     "data": {
      "text/plain": [
       "array([[[177, 169,  97],\n",
       "        [178, 169, 100],\n",
       "        [182, 173, 104],\n",
       "        ...,\n",
       "        [251, 253, 250],\n",
       "        [251, 253, 248],\n",
       "        [251, 254, 247]],\n",
       "\n",
       "       [[200, 190, 128],\n",
       "        [203, 193, 132],\n",
       "        [203, 193, 132],\n",
       "        ...,\n",
       "        [250, 251, 246],\n",
       "        [250, 251, 245],\n",
       "        [250, 251, 245]],\n",
       "\n",
       "       [[200, 189, 133],\n",
       "        [203, 192, 136],\n",
       "        [202, 191, 135],\n",
       "        ...,\n",
       "        [253, 250, 245],\n",
       "        [252, 249, 242],\n",
       "        [251, 248, 239]],\n",
       "\n",
       "       ...,\n",
       "\n",
       "       [[171, 157,  82],\n",
       "        [170, 156,  81],\n",
       "        [171, 157,  82],\n",
       "        ...,\n",
       "        [184, 142,  32],\n",
       "        [180, 133,  25],\n",
       "        [182, 135,  27]],\n",
       "\n",
       "       [[171, 157,  82],\n",
       "        [170, 156,  81],\n",
       "        [171, 157,  82],\n",
       "        ...,\n",
       "        [187, 144,  32],\n",
       "        [179, 132,  24],\n",
       "        [181, 134,  26]],\n",
       "\n",
       "       [[170, 156,  81],\n",
       "        [171, 157,  82],\n",
       "        [170, 156,  81],\n",
       "        ...,\n",
       "        [184, 138,  26],\n",
       "        [182, 134,  23],\n",
       "        [181, 133,  22]]], dtype=uint8)"
      ]
     },
     "execution_count": 17,
     "metadata": {},
     "output_type": "execute_result"
    }
   ],
   "source": [
    "np.array(img)"
   ]
  },
  {
   "cell_type": "code",
   "execution_count": null,
   "id": "922db040-c3c1-463d-9cec-449a89fb8fb3",
   "metadata": {},
   "outputs": [],
   "source": []
  }
 ],
 "metadata": {
  "kernelspec": {
   "display_name": "ml-zoomcamp-py313",
   "language": "python",
   "name": "python3"
  },
  "language_info": {
   "codemirror_mode": {
    "name": "ipython",
    "version": 3
   },
   "file_extension": ".py",
   "mimetype": "text/x-python",
   "name": "python",
   "nbconvert_exporter": "python",
   "pygments_lexer": "ipython3",
   "version": "3.13.0"
  }
 },
 "nbformat": 4,
 "nbformat_minor": 5
}
