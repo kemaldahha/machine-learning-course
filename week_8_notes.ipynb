{
 "cells": [
  {
   "cell_type": "markdown",
   "metadata": {},
   "source": [
    "# 8.1 [Fashion classification](https://github.com/DataTalksClub/machine-learning-zoomcamp/blob/master/08-deep-learning/01-fashion-classification.md)"
   ]
  },
  {
   "cell_type": "markdown",
   "metadata": {},
   "source": [
    "This week our data will be images rather than tabular data. The images are of clothing and the objective is to classify the images into one of 10 categories (multi-class classification).\n",
    "\n",
    "A user can for example upload a picture to a website to sell clothing. Then there is a service which will suggest a category to the user. The classification service will use a neural network.\n",
    "\n",
    "For training neural networks, we will use Tensorflow and Keras. For further theoretical understanding, checkout [cs231n](htts://cs231n.github.io)."
   ]
  },
  {
   "cell_type": "markdown",
   "metadata": {},
   "source": [
    "# 8.1b [Setting up the Environment on Saturn Cloud](https://github.com/DataTalksClub/machine-learning-zoomcamp/blob/master/08-deep-learning/01b-saturn-cloud.md)\n"
   ]
  },
  {
   "cell_type": "markdown",
   "metadata": {},
   "source": [
    "Set up Saturn Cloud with Github. Instead of using my general github SSH key, I created a specific one for my ml-zoomcamp repository.\n",
    "\n",
    "Steps I followed:\n",
    "1. Generate a new SSH key pair\n",
    "1. Added public key to Github (in the settings of the repository, not account-level settings)\n",
    "1. Associate the key with the repository by adding this to `~/.ssh/config`\n",
    "    ```bash\n",
    "    Host github-my-repo\n",
    "    HostName github.com\n",
    "    User git\n",
    "    IdentityFile ~/.ssh/my-repo-key\n",
    "    ```\n",
    "1. Add private key to Saturn om (same as course instruction)\n",
    "\n",
    "I ran into an error in Saturn terminal when I tried to verify my SSH connection or when I did `SSH -V`:\n",
    "\n",
    "```\n",
    "Saturn Cloud: OpenSSL version mismatch. Built against 30000020, you have 30300020\n",
    "```\n",
    "\n",
    "This error occurs because the OpenSSH client is built against a specific version of OpenSSL (e.g., 3.0.0), but the system tries to use a different version (e.g., 3.0.3). This mismatch prevents the SSH client from working properly.\n",
    "\n",
    "Solution:\n",
    "Set the correct OpenSSL library path by running the following line in the terminal:\n",
    "```bash\n",
    "export LD_LIBRARY_PATH=/usr/lib/x86_64-linux-gnu\n",
    "```\n"
   ]
  },
  {
   "cell_type": "markdown",
   "metadata": {},
   "source": [
    "# 8.2 [TensorFlow and Keras](https://github.com/DataTalksClub/machine-learning-zoomcamp/blob/master/08-deep-learning/02-tensorflow-keras.md)\n"
   ]
  },
  {
   "cell_type": "markdown",
   "metadata": {},
   "source": [
    "Go to: [8.2.ipynb](8.2.ipynb)"
   ]
  },
  {
   "cell_type": "markdown",
   "metadata": {},
   "source": [
    "# 8.3 [Pre-trained convolutional neural networks](https://github.com/DataTalksClub/machine-learning-zoomcamp/blob/master/08-deep-learning/03-pretrained-models.md)\n"
   ]
  },
  {
   "cell_type": "code",
   "execution_count": null,
   "metadata": {},
   "outputs": [],
   "source": []
  },
  {
   "cell_type": "markdown",
   "metadata": {},
   "source": [
    "# 8.4 [Convolutional neural networks](https://github.com/DataTalksClub/machine-learning-zoomcamp/blob/master/08-deep-learning/04-conv-neural-nets.md)\n"
   ]
  },
  {
   "cell_type": "code",
   "execution_count": null,
   "metadata": {},
   "outputs": [],
   "source": []
  },
  {
   "cell_type": "markdown",
   "metadata": {},
   "source": [
    "# 8.5 [Transfer learning](https://github.com/DataTalksClub/machine-learning-zoomcamp/blob/master/08-deep-learning/05-transfer-learning.md)\n"
   ]
  },
  {
   "cell_type": "code",
   "execution_count": null,
   "metadata": {},
   "outputs": [],
   "source": []
  },
  {
   "cell_type": "markdown",
   "metadata": {},
   "source": [
    "# 8.6 [Adjusting the learning rate](https://github.com/DataTalksClub/machine-learning-zoomcamp/blob/master/08-deep-learning/06-learning-rate.md)\n"
   ]
  },
  {
   "cell_type": "code",
   "execution_count": null,
   "metadata": {},
   "outputs": [],
   "source": []
  },
  {
   "cell_type": "markdown",
   "metadata": {},
   "source": [
    "# 8.7 [Checkpointing](https://github.com/DataTalksClub/machine-learning-zoomcamp/blob/master/08-deep-learning/07-checkpointing.md)\n"
   ]
  },
  {
   "cell_type": "code",
   "execution_count": null,
   "metadata": {},
   "outputs": [],
   "source": []
  },
  {
   "cell_type": "markdown",
   "metadata": {},
   "source": [
    "# 8.8 [Adding more layers](https://github.com/DataTalksClub/machine-learning-zoomcamp/blob/master/08-deep-learning/08-more-layers.md)\n"
   ]
  },
  {
   "cell_type": "code",
   "execution_count": null,
   "metadata": {},
   "outputs": [],
   "source": []
  },
  {
   "cell_type": "markdown",
   "metadata": {},
   "source": [
    "# 8.9 [Regularization and dropout](https://github.com/DataTalksClub/machine-learning-zoomcamp/blob/master/08-deep-learning/09-dropout.md)\n"
   ]
  },
  {
   "cell_type": "code",
   "execution_count": null,
   "metadata": {},
   "outputs": [],
   "source": []
  },
  {
   "cell_type": "markdown",
   "metadata": {},
   "source": [
    "# 8.10 [Data augmentation](https://github.com/DataTalksClub/machine-learning-zoomcamp/blob/master/08-deep-learning/10-augmentation.md)\n"
   ]
  },
  {
   "cell_type": "code",
   "execution_count": null,
   "metadata": {},
   "outputs": [],
   "source": []
  },
  {
   "cell_type": "markdown",
   "metadata": {},
   "source": [
    "# 8.11 [Training a larger model](https://github.com/DataTalksClub/machine-learning-zoomcamp/blob/master/08-deep-learning/11-large-model.md)\n"
   ]
  },
  {
   "cell_type": "code",
   "execution_count": null,
   "metadata": {},
   "outputs": [],
   "source": []
  },
  {
   "cell_type": "markdown",
   "metadata": {},
   "source": [
    "# 8.12 [Using the model](https://github.com/DataTalksClub/machine-learning-zoomcamp/blob/master/08-deep-learning/12-using-model.md)\n"
   ]
  },
  {
   "cell_type": "code",
   "execution_count": null,
   "metadata": {},
   "outputs": [],
   "source": []
  },
  {
   "cell_type": "markdown",
   "metadata": {},
   "source": [
    "# 8.13 [Summary](https://github.com/DataTalksClub/machine-learning-zoomcamp/blob/master/08-deep-learning/13-summary.md)\n"
   ]
  },
  {
   "cell_type": "code",
   "execution_count": null,
   "metadata": {},
   "outputs": [],
   "source": []
  },
  {
   "cell_type": "markdown",
   "metadata": {},
   "source": [
    "# 8.14 [Explore more](https://github.com/DataTalksClub/machine-learning-zoomcamp/blob/master/08-deep-learning/14-explore-more.md)\n"
   ]
  },
  {
   "cell_type": "code",
   "execution_count": null,
   "metadata": {},
   "outputs": [],
   "source": []
  },
  {
   "cell_type": "markdown",
   "metadata": {},
   "source": [
    "# 8.15 [Homework](https://github.com/DataTalksClub/machine-learning-zoomcamp/blob/master/08-deep-learning/homework.md)"
   ]
  },
  {
   "cell_type": "code",
   "execution_count": null,
   "metadata": {},
   "outputs": [],
   "source": []
  }
 ],
 "metadata": {
  "kernelspec": {
   "display_name": "ml-zoomcamp-py313",
   "language": "python",
   "name": "python3"
  },
  "language_info": {
   "codemirror_mode": {
    "name": "ipython",
    "version": 3
   },
   "file_extension": ".py",
   "mimetype": "text/x-python",
   "name": "python",
   "nbconvert_exporter": "python",
   "pygments_lexer": "ipython3",
   "version": "3.13.0"
  }
 },
 "nbformat": 4,
 "nbformat_minor": 2
}
