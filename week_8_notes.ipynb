{
 "cells": [
  {
   "cell_type": "markdown",
   "id": "d9757e00-1647-4083-a983-177a8f83abd7",
   "metadata": {},
   "source": [
    "# Week 8 Notes"
   ]
  },
  {
   "cell_type": "markdown",
   "id": "e91b509e-a1b4-438e-93dd-86e5de5907e4",
   "metadata": {},
   "source": [
    "## 8.1 [Fashion classification](https://github.com/DataTalksClub/machine-learning-zoomcamp/blob/master/08-deep-learning/01-fashion-classification.md)"
   ]
  },
  {
   "cell_type": "markdown",
   "id": "7a8d6ffc-cc2d-4188-b524-a518d8835aa6",
   "metadata": {},
   "source": [
    "This week our data will be images rather than tabular data. The images are of clothing and the objective is to classify the images into one of 10 categories (multi-class classification).\n",
    "\n",
    "A user can for example upload a picture to a website to sell clothing. Then there is a service which will suggest a category to the user. The classification service will use a neural network.\n",
    "\n",
    "For training neural networks, we will use Tensorflow and Keras. For further theoretical understanding, checkout [cs231n](htts://cs231n.github.io)."
   ]
  },
  {
   "cell_type": "markdown",
   "id": "8757269b-6aeb-4bf3-9ee8-a13d8ded1ad0",
   "metadata": {},
   "source": [
    "## 8.1b [Setting up the Environment on Saturn Cloud](https://github.com/DataTalksClub/machine-learning-zoomcamp/blob/master/08-deep-learning/01b-saturn-cloud.md)\n"
   ]
  },
  {
   "cell_type": "markdown",
   "id": "e3938c96-ac42-43c9-bf50-2ea5ae8811f7",
   "metadata": {},
   "source": [
    "Set up Saturn Cloud with Github. Instead of using my general github SSH key, I created a specific one for my ml-zoomcamp repository.\n",
    "\n",
    "Steps I followed:\n",
    "1. Generate a new SSH key pair\n",
    "1. Added public key to Github (in the settings of the repository, not account-level settings)\n",
    "1. Associate the key with the repository by adding this to `~/.ssh/config`\n",
    "    ```bash\n",
    "    Host github-my-repo\n",
    "    HostName github.com\n",
    "    User git\n",
    "    IdentityFile ~/.ssh/my-repo-key\n",
    "    ```\n",
    "1. Add private key to Saturn om (same as course instruction)\n",
    "\n",
    "I ran into an error in Saturn terminal when I tried to verify my SSH connection or when I did `SSH -V`:\n",
    "\n",
    "```\n",
    "Saturn Cloud: OpenSSL version mismatch. Built against 30000020, you have 30300020\n",
    "```\n",
    "\n",
    "This error occurs because the OpenSSH client is built against a specific version of OpenSSL (e.g., 3.0.0), but the system tries to use a different version (e.g., 3.0.3). This mismatch prevents the SSH client from working properly.\n",
    "\n",
    "Solution:\n",
    "Set the correct OpenSSL library path by running the following line in the terminal:\n",
    "```bash\n",
    "export LD_LIBRARY_PATH=/usr/lib/x86_64-linux-gnu\n",
    "```\n"
   ]
  },
  {
   "cell_type": "markdown",
   "id": "23fae8c5-c122-4ab5-9b2b-182eedbf0e70",
   "metadata": {},
   "source": [
    "## 8.2 [TensorFlow and Keras](https://github.com/DataTalksClub/machine-learning-zoomcamp/blob/master/08-deep-learning/02-tensorflow-keras.md)\n"
   ]
  },
  {
   "cell_type": "code",
   "execution_count": 1,
   "id": "c157b6be-1a71-406a-b865-7b42554e750a",
   "metadata": {
    "execution": {
     "iopub.execute_input": "2024-11-29T07:19:45.958384Z",
     "iopub.status.busy": "2024-11-29T07:19:45.958171Z",
     "iopub.status.idle": "2024-11-29T07:19:46.300256Z",
     "shell.execute_reply": "2024-11-29T07:19:46.299795Z",
     "shell.execute_reply.started": "2024-11-29T07:19:45.958365Z"
    }
   },
   "outputs": [],
   "source": [
    "import numpy as np"
   ]
  },
  {
   "cell_type": "code",
   "execution_count": 2,
   "id": "2abb9f21-41d8-4add-9363-d78fede23062",
   "metadata": {
    "execution": {
     "iopub.execute_input": "2024-11-29T07:19:46.301160Z",
     "iopub.status.busy": "2024-11-29T07:19:46.300884Z",
     "iopub.status.idle": "2024-11-29T07:19:53.782962Z",
     "shell.execute_reply": "2024-11-29T07:19:53.782431Z",
     "shell.execute_reply.started": "2024-11-29T07:19:46.301138Z"
    }
   },
   "outputs": [
    {
     "name": "stderr",
     "output_type": "stream",
     "text": [
      "2024-11-29 07:19:46.638818: I tensorflow/core/util/port.cc:153] oneDNN custom operations are on. You may see slightly different numerical results due to floating-point round-off errors from different computation orders. To turn them off, set the environment variable `TF_ENABLE_ONEDNN_OPTS=0`.\n",
      "2024-11-29 07:19:46.655247: E external/local_xla/xla/stream_executor/cuda/cuda_fft.cc:485] Unable to register cuFFT factory: Attempting to register factory for plugin cuFFT when one has already been registered\n",
      "2024-11-29 07:19:46.671460: E external/local_xla/xla/stream_executor/cuda/cuda_dnn.cc:8454] Unable to register cuDNN factory: Attempting to register factory for plugin cuDNN when one has already been registered\n",
      "2024-11-29 07:19:46.676099: E external/local_xla/xla/stream_executor/cuda/cuda_blas.cc:1452] Unable to register cuBLAS factory: Attempting to register factory for plugin cuBLAS when one has already been registered\n",
      "2024-11-29 07:19:46.689778: I tensorflow/core/platform/cpu_feature_guard.cc:210] This TensorFlow binary is optimized to use available CPU instructions in performance-critical operations.\n",
      "To enable the following instructions: AVX2 AVX512F AVX512_VNNI FMA, in other operations, rebuild TensorFlow with the appropriate compiler flags.\n",
      "2024-11-29 07:19:50.168430: W tensorflow/compiler/tf2tensorrt/utils/py_utils.cc:38] TF-TRT Warning: Could not find TensorRT\n"
     ]
    }
   ],
   "source": [
    "import tensorflow as tf\n",
    "from tensorflow.keras.utils import load_img"
   ]
  },
  {
   "cell_type": "code",
   "execution_count": 3,
   "id": "323f8d2f-1fa7-41c5-bcb2-ead3e54220b5",
   "metadata": {
    "execution": {
     "iopub.execute_input": "2024-11-29T07:19:53.784523Z",
     "iopub.status.busy": "2024-11-29T07:19:53.784092Z",
     "iopub.status.idle": "2024-11-29T07:19:53.787512Z",
     "shell.execute_reply": "2024-11-29T07:19:53.786993Z",
     "shell.execute_reply.started": "2024-11-29T07:19:53.784503Z"
    }
   },
   "outputs": [],
   "source": [
    "path = \"./clothing-dataset-small/train/t-shirt/\"\n",
    "name = \"5f0a3fa0-6a3d-4b68-b213-72766a643de7.jpg\""
   ]
  },
  {
   "cell_type": "code",
   "execution_count": 4,
   "id": "f7812bb3-b6e4-48cf-8635-efe36f4a4c1d",
   "metadata": {
    "execution": {
     "iopub.execute_input": "2024-11-29T07:19:53.788588Z",
     "iopub.status.busy": "2024-11-29T07:19:53.788113Z",
     "iopub.status.idle": "2024-11-29T07:19:53.794245Z",
     "shell.execute_reply": "2024-11-29T07:19:53.793755Z",
     "shell.execute_reply.started": "2024-11-29T07:19:53.788527Z"
    }
   },
   "outputs": [],
   "source": [
    "fullname = f\"{path}/{name}\""
   ]
  },
  {
   "cell_type": "code",
   "execution_count": 5,
   "id": "a6ac2d6b-f7ab-407f-9d78-05d41c9f8bed",
   "metadata": {
    "execution": {
     "iopub.execute_input": "2024-11-29T07:19:53.802242Z",
     "iopub.status.busy": "2024-11-29T07:19:53.801859Z",
     "iopub.status.idle": "2024-11-29T07:19:53.859295Z",
     "shell.execute_reply": "2024-11-29T07:19:53.858805Z",
     "shell.execute_reply.started": "2024-11-29T07:19:53.802214Z"
    }
   },
   "outputs": [],
   "source": [
    "img = load_img(fullname, target_size=(299, 299))\n"
   ]
  },
  {
   "cell_type": "code",
   "execution_count": 6,
   "id": "9a476675-408e-4959-be87-7eb52d744dac",
   "metadata": {
    "execution": {
     "iopub.execute_input": "2024-11-29T07:19:53.860196Z",
     "iopub.status.busy": "2024-11-29T07:19:53.859900Z",
     "iopub.status.idle": "2024-11-29T07:19:53.863434Z",
     "shell.execute_reply": "2024-11-29T07:19:53.862977Z",
     "shell.execute_reply.started": "2024-11-29T07:19:53.860166Z"
    }
   },
   "outputs": [],
   "source": [
    "x = np.array(img)"
   ]
  },
  {
   "cell_type": "markdown",
   "id": "9d2d9b09-47f9-469b-8ff4-589cce114628",
   "metadata": {},
   "source": [
    "## 8.3 [Pre-Trained Convolutional Neural Networks](https://github.com/DataTalksClub/machine-learning-zoomcamp/blob/master/08-deep-learning/03-pretrained-models.md)"
   ]
  },
  {
   "cell_type": "markdown",
   "id": "ce26b856-26e3-40dc-b7db-4f8586f3565c",
   "metadata": {},
   "source": [
    "We will use an off-the-shelf neural network. These are available in Keras."
   ]
  },
  {
   "cell_type": "code",
   "execution_count": 7,
   "id": "5764bceb-7e15-4740-b664-3f793a72d7e9",
   "metadata": {
    "execution": {
     "iopub.execute_input": "2024-11-29T07:20:37.614140Z",
     "iopub.status.busy": "2024-11-29T07:20:37.613804Z",
     "iopub.status.idle": "2024-11-29T07:20:37.618896Z",
     "shell.execute_reply": "2024-11-29T07:20:37.618405Z",
     "shell.execute_reply.started": "2024-11-29T07:20:37.614121Z"
    }
   },
   "outputs": [],
   "source": [
    "from tensorflow.keras.applications import Xception\n",
    "from tensorflow.keras.applications.xception import preprocess_input\n",
    "from tensorflow.keras.applications.xception import decode_predictions"
   ]
  },
  {
   "cell_type": "code",
   "execution_count": 8,
   "id": "a90bc072-6d43-4885-8fd3-843f3c21c3c2",
   "metadata": {
    "execution": {
     "iopub.execute_input": "2024-11-29T07:20:38.606621Z",
     "iopub.status.busy": "2024-11-29T07:20:38.606298Z",
     "iopub.status.idle": "2024-11-29T07:20:41.088515Z",
     "shell.execute_reply": "2024-11-29T07:20:41.087974Z",
     "shell.execute_reply.started": "2024-11-29T07:20:38.606600Z"
    }
   },
   "outputs": [
    {
     "name": "stderr",
     "output_type": "stream",
     "text": [
      "WARNING: All log messages before absl::InitializeLog() is called are written to STDERR\n",
      "I0000 00:00:1732864838.695094     557 cuda_executor.cc:1015] successful NUMA node read from SysFS had negative value (-1), but there must be at least one NUMA node, so returning NUMA node zero. See more at https://github.com/torvalds/linux/blob/v6.0/Documentation/ABI/testing/sysfs-bus-pci#L344-L355\n",
      "I0000 00:00:1732864838.740838     557 cuda_executor.cc:1015] successful NUMA node read from SysFS had negative value (-1), but there must be at least one NUMA node, so returning NUMA node zero. See more at https://github.com/torvalds/linux/blob/v6.0/Documentation/ABI/testing/sysfs-bus-pci#L344-L355\n",
      "I0000 00:00:1732864838.741075     557 cuda_executor.cc:1015] successful NUMA node read from SysFS had negative value (-1), but there must be at least one NUMA node, so returning NUMA node zero. See more at https://github.com/torvalds/linux/blob/v6.0/Documentation/ABI/testing/sysfs-bus-pci#L344-L355\n",
      "I0000 00:00:1732864838.742014     557 cuda_executor.cc:1015] successful NUMA node read from SysFS had negative value (-1), but there must be at least one NUMA node, so returning NUMA node zero. See more at https://github.com/torvalds/linux/blob/v6.0/Documentation/ABI/testing/sysfs-bus-pci#L344-L355\n",
      "I0000 00:00:1732864838.742205     557 cuda_executor.cc:1015] successful NUMA node read from SysFS had negative value (-1), but there must be at least one NUMA node, so returning NUMA node zero. See more at https://github.com/torvalds/linux/blob/v6.0/Documentation/ABI/testing/sysfs-bus-pci#L344-L355\n",
      "I0000 00:00:1732864838.742345     557 cuda_executor.cc:1015] successful NUMA node read from SysFS had negative value (-1), but there must be at least one NUMA node, so returning NUMA node zero. See more at https://github.com/torvalds/linux/blob/v6.0/Documentation/ABI/testing/sysfs-bus-pci#L344-L355\n",
      "I0000 00:00:1732864838.870499     557 cuda_executor.cc:1015] successful NUMA node read from SysFS had negative value (-1), but there must be at least one NUMA node, so returning NUMA node zero. See more at https://github.com/torvalds/linux/blob/v6.0/Documentation/ABI/testing/sysfs-bus-pci#L344-L355\n",
      "I0000 00:00:1732864838.870708     557 cuda_executor.cc:1015] successful NUMA node read from SysFS had negative value (-1), but there must be at least one NUMA node, so returning NUMA node zero. See more at https://github.com/torvalds/linux/blob/v6.0/Documentation/ABI/testing/sysfs-bus-pci#L344-L355\n",
      "I0000 00:00:1732864838.870858     557 cuda_executor.cc:1015] successful NUMA node read from SysFS had negative value (-1), but there must be at least one NUMA node, so returning NUMA node zero. See more at https://github.com/torvalds/linux/blob/v6.0/Documentation/ABI/testing/sysfs-bus-pci#L344-L355\n",
      "2024-11-29 07:20:38.870981: I tensorflow/core/common_runtime/gpu/gpu_device.cc:2021] Created device /job:localhost/replica:0/task:0/device:GPU:0 with 13942 MB memory:  -> device: 0, name: Tesla T4, pci bus id: 0000:00:1e.0, compute capability: 7.5\n"
     ]
    }
   ],
   "source": [
    "model = Xception(\n",
    "    # include_top=True,\n",
    "    weights=\"imagenet\",\n",
    "    # input_tensor=None,\n",
    "    input_shape=(299, 299, 3),\n",
    "    # pooling=None,\n",
    "    # classes=1000,\n",
    "    # classifier_activation=\"softmax\",\n",
    ")"
   ]
  },
  {
   "cell_type": "markdown",
   "id": "8f1b82bc-9ad0-4bcf-8b1f-83b102a60ab1",
   "metadata": {},
   "source": [
    "`x` is a single image. `X` are multiple images."
   ]
  },
  {
   "cell_type": "code",
   "execution_count": 9,
   "id": "7c067443-ec84-4d90-9509-2d984d9692f1",
   "metadata": {
    "execution": {
     "iopub.execute_input": "2024-11-29T07:20:42.720326Z",
     "iopub.status.busy": "2024-11-29T07:20:42.719975Z",
     "iopub.status.idle": "2024-11-29T07:20:42.723573Z",
     "shell.execute_reply": "2024-11-29T07:20:42.723014Z",
     "shell.execute_reply.started": "2024-11-29T07:20:42.720304Z"
    }
   },
   "outputs": [],
   "source": [
    "X = np.array([x])"
   ]
  },
  {
   "cell_type": "code",
   "execution_count": 10,
   "id": "a26a2131-d095-4877-8b20-88c1b0e446ba",
   "metadata": {
    "execution": {
     "iopub.execute_input": "2024-11-29T07:20:43.606417Z",
     "iopub.status.busy": "2024-11-29T07:20:43.606078Z",
     "iopub.status.idle": "2024-11-29T07:20:43.612333Z",
     "shell.execute_reply": "2024-11-29T07:20:43.611739Z",
     "shell.execute_reply.started": "2024-11-29T07:20:43.606396Z"
    }
   },
   "outputs": [
    {
     "data": {
      "text/plain": [
       "(1, 299, 299, 3)"
      ]
     },
     "execution_count": 10,
     "metadata": {},
     "output_type": "execute_result"
    }
   ],
   "source": [
    "X.shape"
   ]
  },
  {
   "cell_type": "markdown",
   "id": "5290fae7-6ea8-4317-8376-48740f75ab63",
   "metadata": {},
   "source": [
    "We will first infer with the model without preprocessing the image. This gives bogus results as shown below."
   ]
  },
  {
   "cell_type": "code",
   "execution_count": 11,
   "id": "18ebb329-b6ac-4fcc-ad61-57f5792d1c95",
   "metadata": {
    "execution": {
     "iopub.execute_input": "2024-11-29T07:20:44.799293Z",
     "iopub.status.busy": "2024-11-29T07:20:44.798961Z",
     "iopub.status.idle": "2024-11-29T07:20:48.044092Z",
     "shell.execute_reply": "2024-11-29T07:20:48.043496Z",
     "shell.execute_reply.started": "2024-11-29T07:20:44.799273Z"
    }
   },
   "outputs": [
    {
     "name": "stderr",
     "output_type": "stream",
     "text": [
      "WARNING: All log messages before absl::InitializeLog() is called are written to STDERR\n",
      "I0000 00:00:1732864845.796917    1042 service.cc:146] XLA service 0x7fdfb4003040 initialized for platform CUDA (this does not guarantee that XLA will be used). Devices:\n",
      "I0000 00:00:1732864845.796947    1042 service.cc:154]   StreamExecutor device (0): Tesla T4, Compute Capability 7.5\n",
      "2024-11-29 07:20:45.832677: I tensorflow/compiler/mlir/tensorflow/utils/dump_mlir_util.cc:268] disabling MLIR crash reproducer, set env var `MLIR_CRASH_REPRODUCER_DIRECTORY` to enable.\n",
      "2024-11-29 07:20:46.182394: I external/local_xla/xla/stream_executor/cuda/cuda_dnn.cc:531] Loaded cuDNN version 8907\n"
     ]
    },
    {
     "name": "stdout",
     "output_type": "stream",
     "text": [
      "\u001b[1m1/1\u001b[0m \u001b[32m━━━━━━━━━━━━━━━━━━━━\u001b[0m\u001b[37m\u001b[0m \u001b[1m3s\u001b[0m 3s/step\n"
     ]
    },
    {
     "name": "stderr",
     "output_type": "stream",
     "text": [
      "I0000 00:00:1732864848.019381    1042 device_compiler.h:188] Compiled cluster using XLA!  This line is logged at most once for the lifetime of the process.\n"
     ]
    },
    {
     "data": {
      "text/plain": [
       "array([[0.0000000e+00, 0.0000000e+00, 0.0000000e+00, 0.0000000e+00,\n",
       "        0.0000000e+00, 0.0000000e+00, 0.0000000e+00, 0.0000000e+00,\n",
       "        0.0000000e+00, 0.0000000e+00, 0.0000000e+00, 0.0000000e+00,\n",
       "        0.0000000e+00, 0.0000000e+00, 0.0000000e+00, 0.0000000e+00,\n",
       "        0.0000000e+00, 0.0000000e+00, 0.0000000e+00, 0.0000000e+00,\n",
       "        0.0000000e+00, 0.0000000e+00, 0.0000000e+00, 0.0000000e+00,\n",
       "        0.0000000e+00, 0.0000000e+00, 0.0000000e+00, 0.0000000e+00,\n",
       "        0.0000000e+00, 0.0000000e+00, 0.0000000e+00, 0.0000000e+00,\n",
       "        0.0000000e+00, 0.0000000e+00, 0.0000000e+00, 0.0000000e+00,\n",
       "        0.0000000e+00, 0.0000000e+00, 0.0000000e+00, 0.0000000e+00,\n",
       "        0.0000000e+00, 0.0000000e+00, 0.0000000e+00, 0.0000000e+00,\n",
       "        0.0000000e+00, 0.0000000e+00, 0.0000000e+00, 0.0000000e+00,\n",
       "        0.0000000e+00, 0.0000000e+00, 0.0000000e+00, 0.0000000e+00,\n",
       "        0.0000000e+00, 0.0000000e+00, 0.0000000e+00, 0.0000000e+00,\n",
       "        0.0000000e+00, 0.0000000e+00, 0.0000000e+00, 0.0000000e+00,\n",
       "        0.0000000e+00, 0.0000000e+00, 0.0000000e+00, 0.0000000e+00,\n",
       "        0.0000000e+00, 0.0000000e+00, 0.0000000e+00, 0.0000000e+00,\n",
       "        0.0000000e+00, 0.0000000e+00, 0.0000000e+00, 0.0000000e+00,\n",
       "        0.0000000e+00, 0.0000000e+00, 0.0000000e+00, 0.0000000e+00,\n",
       "        0.0000000e+00, 0.0000000e+00, 0.0000000e+00, 0.0000000e+00,\n",
       "        0.0000000e+00, 0.0000000e+00, 0.0000000e+00, 0.0000000e+00,\n",
       "        0.0000000e+00, 0.0000000e+00, 0.0000000e+00, 0.0000000e+00,\n",
       "        0.0000000e+00, 0.0000000e+00, 0.0000000e+00, 0.0000000e+00,\n",
       "        0.0000000e+00, 0.0000000e+00, 0.0000000e+00, 0.0000000e+00,\n",
       "        0.0000000e+00, 0.0000000e+00, 0.0000000e+00, 0.0000000e+00,\n",
       "        0.0000000e+00, 0.0000000e+00, 0.0000000e+00, 0.0000000e+00,\n",
       "        0.0000000e+00, 0.0000000e+00, 4.3371609e-33, 0.0000000e+00,\n",
       "        0.0000000e+00, 0.0000000e+00, 0.0000000e+00, 0.0000000e+00,\n",
       "        0.0000000e+00, 0.0000000e+00, 0.0000000e+00, 0.0000000e+00,\n",
       "        0.0000000e+00, 0.0000000e+00, 0.0000000e+00, 0.0000000e+00,\n",
       "        0.0000000e+00, 0.0000000e+00, 0.0000000e+00, 0.0000000e+00,\n",
       "        0.0000000e+00, 0.0000000e+00, 0.0000000e+00, 0.0000000e+00,\n",
       "        0.0000000e+00, 0.0000000e+00, 0.0000000e+00, 0.0000000e+00,\n",
       "        0.0000000e+00, 0.0000000e+00, 0.0000000e+00, 0.0000000e+00,\n",
       "        0.0000000e+00, 0.0000000e+00, 0.0000000e+00, 1.4012985e-45,\n",
       "        0.0000000e+00, 0.0000000e+00, 0.0000000e+00, 1.3338680e-40,\n",
       "        0.0000000e+00, 0.0000000e+00, 0.0000000e+00, 0.0000000e+00,\n",
       "        0.0000000e+00, 0.0000000e+00, 0.0000000e+00, 0.0000000e+00,\n",
       "        0.0000000e+00, 0.0000000e+00, 0.0000000e+00, 0.0000000e+00,\n",
       "        0.0000000e+00, 0.0000000e+00, 0.0000000e+00, 0.0000000e+00,\n",
       "        0.0000000e+00, 0.0000000e+00, 0.0000000e+00, 0.0000000e+00,\n",
       "        0.0000000e+00, 0.0000000e+00, 0.0000000e+00, 0.0000000e+00,\n",
       "        0.0000000e+00, 0.0000000e+00, 0.0000000e+00, 0.0000000e+00,\n",
       "        0.0000000e+00, 0.0000000e+00, 5.8923199e-41, 0.0000000e+00,\n",
       "        0.0000000e+00, 0.0000000e+00, 0.0000000e+00, 0.0000000e+00,\n",
       "        0.0000000e+00, 0.0000000e+00, 5.5071030e-43, 0.0000000e+00,\n",
       "        0.0000000e+00, 0.0000000e+00, 0.0000000e+00, 0.0000000e+00,\n",
       "        0.0000000e+00, 0.0000000e+00, 0.0000000e+00, 0.0000000e+00,\n",
       "        0.0000000e+00, 0.0000000e+00, 0.0000000e+00, 0.0000000e+00,\n",
       "        0.0000000e+00, 0.0000000e+00, 0.0000000e+00, 0.0000000e+00,\n",
       "        0.0000000e+00, 0.0000000e+00, 0.0000000e+00, 0.0000000e+00,\n",
       "        0.0000000e+00, 0.0000000e+00, 0.0000000e+00, 0.0000000e+00,\n",
       "        0.0000000e+00, 0.0000000e+00, 0.0000000e+00, 0.0000000e+00,\n",
       "        0.0000000e+00, 0.0000000e+00, 0.0000000e+00, 0.0000000e+00,\n",
       "        0.0000000e+00, 0.0000000e+00, 0.0000000e+00, 0.0000000e+00,\n",
       "        0.0000000e+00, 0.0000000e+00, 0.0000000e+00, 2.8025969e-45,\n",
       "        1.5635122e-38, 0.0000000e+00, 0.0000000e+00, 0.0000000e+00,\n",
       "        0.0000000e+00, 0.0000000e+00, 0.0000000e+00, 0.0000000e+00,\n",
       "        0.0000000e+00, 0.0000000e+00, 0.0000000e+00, 4.9835179e-33,\n",
       "        0.0000000e+00, 0.0000000e+00, 0.0000000e+00, 0.0000000e+00,\n",
       "        0.0000000e+00, 0.0000000e+00, 0.0000000e+00, 0.0000000e+00,\n",
       "        0.0000000e+00, 0.0000000e+00, 0.0000000e+00, 0.0000000e+00,\n",
       "        0.0000000e+00, 0.0000000e+00, 0.0000000e+00, 0.0000000e+00,\n",
       "        0.0000000e+00, 0.0000000e+00, 0.0000000e+00, 0.0000000e+00,\n",
       "        0.0000000e+00, 0.0000000e+00, 0.0000000e+00, 0.0000000e+00,\n",
       "        0.0000000e+00, 1.1012267e-31, 0.0000000e+00, 0.0000000e+00,\n",
       "        0.0000000e+00, 0.0000000e+00, 0.0000000e+00, 0.0000000e+00,\n",
       "        0.0000000e+00, 0.0000000e+00, 0.0000000e+00, 0.0000000e+00,\n",
       "        0.0000000e+00, 3.2472584e-39, 0.0000000e+00, 0.0000000e+00,\n",
       "        0.0000000e+00, 0.0000000e+00, 0.0000000e+00, 0.0000000e+00,\n",
       "        0.0000000e+00, 0.0000000e+00, 0.0000000e+00, 0.0000000e+00,\n",
       "        0.0000000e+00, 0.0000000e+00, 0.0000000e+00, 0.0000000e+00,\n",
       "        0.0000000e+00, 0.0000000e+00, 0.0000000e+00, 0.0000000e+00,\n",
       "        0.0000000e+00, 0.0000000e+00, 0.0000000e+00, 0.0000000e+00,\n",
       "        0.0000000e+00, 0.0000000e+00, 0.0000000e+00, 0.0000000e+00,\n",
       "        0.0000000e+00, 0.0000000e+00, 0.0000000e+00, 0.0000000e+00,\n",
       "        0.0000000e+00, 0.0000000e+00, 0.0000000e+00, 0.0000000e+00,\n",
       "        0.0000000e+00, 0.0000000e+00, 0.0000000e+00, 0.0000000e+00,\n",
       "        0.0000000e+00, 0.0000000e+00, 0.0000000e+00, 0.0000000e+00,\n",
       "        0.0000000e+00, 0.0000000e+00, 0.0000000e+00, 0.0000000e+00,\n",
       "        0.0000000e+00, 0.0000000e+00, 0.0000000e+00, 0.0000000e+00,\n",
       "        0.0000000e+00, 0.0000000e+00, 0.0000000e+00, 0.0000000e+00,\n",
       "        4.2214024e-38, 0.0000000e+00, 0.0000000e+00, 0.0000000e+00,\n",
       "        0.0000000e+00, 0.0000000e+00, 0.0000000e+00, 0.0000000e+00,\n",
       "        0.0000000e+00, 0.0000000e+00, 0.0000000e+00, 0.0000000e+00,\n",
       "        0.0000000e+00, 0.0000000e+00, 0.0000000e+00, 0.0000000e+00,\n",
       "        1.4012985e-45, 0.0000000e+00, 0.0000000e+00, 0.0000000e+00,\n",
       "        0.0000000e+00, 0.0000000e+00, 0.0000000e+00, 0.0000000e+00,\n",
       "        0.0000000e+00, 2.8025969e-44, 0.0000000e+00, 0.0000000e+00,\n",
       "        0.0000000e+00, 0.0000000e+00, 6.0705001e-38, 9.6344275e-32,\n",
       "        0.0000000e+00, 0.0000000e+00, 0.0000000e+00, 0.0000000e+00,\n",
       "        0.0000000e+00, 0.0000000e+00, 0.0000000e+00, 0.0000000e+00,\n",
       "        0.0000000e+00, 0.0000000e+00, 0.0000000e+00, 0.0000000e+00,\n",
       "        0.0000000e+00, 0.0000000e+00, 0.0000000e+00, 0.0000000e+00,\n",
       "        0.0000000e+00, 0.0000000e+00, 0.0000000e+00, 0.0000000e+00,\n",
       "        0.0000000e+00, 0.0000000e+00, 0.0000000e+00, 0.0000000e+00,\n",
       "        0.0000000e+00, 0.0000000e+00, 0.0000000e+00, 0.0000000e+00,\n",
       "        0.0000000e+00, 0.0000000e+00, 0.0000000e+00, 0.0000000e+00,\n",
       "        0.0000000e+00, 0.0000000e+00, 0.0000000e+00, 0.0000000e+00,\n",
       "        0.0000000e+00, 0.0000000e+00, 2.2891612e-41, 0.0000000e+00,\n",
       "        0.0000000e+00, 0.0000000e+00, 0.0000000e+00, 0.0000000e+00,\n",
       "        0.0000000e+00, 0.0000000e+00, 0.0000000e+00, 0.0000000e+00,\n",
       "        5.6051939e-45, 0.0000000e+00, 0.0000000e+00, 0.0000000e+00,\n",
       "        0.0000000e+00, 0.0000000e+00, 1.5984962e-39, 0.0000000e+00,\n",
       "        0.0000000e+00, 0.0000000e+00, 0.0000000e+00, 0.0000000e+00,\n",
       "        0.0000000e+00, 0.0000000e+00, 0.0000000e+00, 0.0000000e+00,\n",
       "        0.0000000e+00, 0.0000000e+00, 0.0000000e+00, 0.0000000e+00,\n",
       "        0.0000000e+00, 0.0000000e+00, 0.0000000e+00, 0.0000000e+00,\n",
       "        0.0000000e+00, 0.0000000e+00, 0.0000000e+00, 0.0000000e+00,\n",
       "        0.0000000e+00, 0.0000000e+00, 0.0000000e+00, 0.0000000e+00,\n",
       "        0.0000000e+00, 0.0000000e+00, 0.0000000e+00, 4.8130596e-36,\n",
       "        0.0000000e+00, 0.0000000e+00, 0.0000000e+00, 0.0000000e+00,\n",
       "        0.0000000e+00, 0.0000000e+00, 0.0000000e+00, 0.0000000e+00,\n",
       "        0.0000000e+00, 0.0000000e+00, 0.0000000e+00, 0.0000000e+00,\n",
       "        0.0000000e+00, 0.0000000e+00, 0.0000000e+00, 0.0000000e+00,\n",
       "        0.0000000e+00, 0.0000000e+00, 0.0000000e+00, 0.0000000e+00,\n",
       "        0.0000000e+00, 1.4869991e-39, 0.0000000e+00, 0.0000000e+00,\n",
       "        0.0000000e+00, 0.0000000e+00, 0.0000000e+00, 0.0000000e+00,\n",
       "        0.0000000e+00, 0.0000000e+00, 0.0000000e+00, 0.0000000e+00,\n",
       "        8.4077908e-45, 0.0000000e+00, 1.4012985e-45, 0.0000000e+00,\n",
       "        0.0000000e+00, 0.0000000e+00, 0.0000000e+00, 0.0000000e+00,\n",
       "        0.0000000e+00, 0.0000000e+00, 0.0000000e+00, 0.0000000e+00,\n",
       "        0.0000000e+00, 0.0000000e+00, 4.2038954e-45, 0.0000000e+00,\n",
       "        0.0000000e+00, 0.0000000e+00, 0.0000000e+00, 0.0000000e+00,\n",
       "        0.0000000e+00, 0.0000000e+00, 0.0000000e+00, 0.0000000e+00,\n",
       "        0.0000000e+00, 0.0000000e+00, 0.0000000e+00, 0.0000000e+00,\n",
       "        0.0000000e+00, 0.0000000e+00, 0.0000000e+00, 0.0000000e+00,\n",
       "        0.0000000e+00, 0.0000000e+00, 0.0000000e+00, 0.0000000e+00,\n",
       "        0.0000000e+00, 0.0000000e+00, 0.0000000e+00, 0.0000000e+00,\n",
       "        0.0000000e+00, 0.0000000e+00, 5.9003634e-40, 0.0000000e+00,\n",
       "        0.0000000e+00, 0.0000000e+00, 0.0000000e+00, 0.0000000e+00,\n",
       "        0.0000000e+00, 0.0000000e+00, 0.0000000e+00, 0.0000000e+00,\n",
       "        0.0000000e+00, 0.0000000e+00, 2.8025969e-45, 0.0000000e+00,\n",
       "        0.0000000e+00, 0.0000000e+00, 0.0000000e+00, 0.0000000e+00,\n",
       "        0.0000000e+00, 0.0000000e+00, 0.0000000e+00, 0.0000000e+00,\n",
       "        0.0000000e+00, 0.0000000e+00, 0.0000000e+00, 0.0000000e+00,\n",
       "        0.0000000e+00, 0.0000000e+00, 0.0000000e+00, 0.0000000e+00,\n",
       "        0.0000000e+00, 3.8847352e-34, 0.0000000e+00, 0.0000000e+00,\n",
       "        0.0000000e+00, 0.0000000e+00, 0.0000000e+00, 0.0000000e+00,\n",
       "        0.0000000e+00, 0.0000000e+00, 0.0000000e+00, 0.0000000e+00,\n",
       "        0.0000000e+00, 0.0000000e+00, 0.0000000e+00, 0.0000000e+00,\n",
       "        0.0000000e+00, 0.0000000e+00, 0.0000000e+00, 0.0000000e+00,\n",
       "        0.0000000e+00, 0.0000000e+00, 0.0000000e+00, 0.0000000e+00,\n",
       "        0.0000000e+00, 0.0000000e+00, 1.0298883e-23, 0.0000000e+00,\n",
       "        0.0000000e+00, 0.0000000e+00, 0.0000000e+00, 9.6929917e-40,\n",
       "        0.0000000e+00, 0.0000000e+00, 0.0000000e+00, 0.0000000e+00,\n",
       "        0.0000000e+00, 0.0000000e+00, 0.0000000e+00, 0.0000000e+00,\n",
       "        0.0000000e+00, 0.0000000e+00, 0.0000000e+00, 0.0000000e+00,\n",
       "        0.0000000e+00, 0.0000000e+00, 0.0000000e+00, 0.0000000e+00,\n",
       "        0.0000000e+00, 0.0000000e+00, 0.0000000e+00, 0.0000000e+00,\n",
       "        0.0000000e+00, 0.0000000e+00, 0.0000000e+00, 0.0000000e+00,\n",
       "        0.0000000e+00, 0.0000000e+00, 0.0000000e+00, 0.0000000e+00,\n",
       "        0.0000000e+00, 0.0000000e+00, 0.0000000e+00, 0.0000000e+00,\n",
       "        0.0000000e+00, 0.0000000e+00, 0.0000000e+00, 0.0000000e+00,\n",
       "        0.0000000e+00, 0.0000000e+00, 0.0000000e+00, 1.9287357e-31,\n",
       "        0.0000000e+00, 0.0000000e+00, 0.0000000e+00, 0.0000000e+00,\n",
       "        0.0000000e+00, 0.0000000e+00, 0.0000000e+00, 0.0000000e+00,\n",
       "        0.0000000e+00, 0.0000000e+00, 0.0000000e+00, 0.0000000e+00,\n",
       "        0.0000000e+00, 0.0000000e+00, 0.0000000e+00, 0.0000000e+00,\n",
       "        0.0000000e+00, 0.0000000e+00, 0.0000000e+00, 0.0000000e+00,\n",
       "        0.0000000e+00, 0.0000000e+00, 0.0000000e+00, 0.0000000e+00,\n",
       "        0.0000000e+00, 0.0000000e+00, 0.0000000e+00, 0.0000000e+00,\n",
       "        0.0000000e+00, 0.0000000e+00, 7.7141480e-42, 0.0000000e+00,\n",
       "        0.0000000e+00, 0.0000000e+00, 0.0000000e+00, 0.0000000e+00,\n",
       "        0.0000000e+00, 0.0000000e+00, 0.0000000e+00, 9.9503917e-01,\n",
       "        0.0000000e+00, 0.0000000e+00, 0.0000000e+00, 0.0000000e+00,\n",
       "        0.0000000e+00, 0.0000000e+00, 0.0000000e+00, 0.0000000e+00,\n",
       "        0.0000000e+00, 0.0000000e+00, 0.0000000e+00, 0.0000000e+00,\n",
       "        0.0000000e+00, 0.0000000e+00, 0.0000000e+00, 0.0000000e+00,\n",
       "        0.0000000e+00, 0.0000000e+00, 0.0000000e+00, 4.0632050e-40,\n",
       "        0.0000000e+00, 0.0000000e+00, 0.0000000e+00, 0.0000000e+00,\n",
       "        0.0000000e+00, 0.0000000e+00, 0.0000000e+00, 0.0000000e+00,\n",
       "        0.0000000e+00, 0.0000000e+00, 3.5452851e-42, 0.0000000e+00,\n",
       "        0.0000000e+00, 0.0000000e+00, 0.0000000e+00, 0.0000000e+00,\n",
       "        0.0000000e+00, 0.0000000e+00, 0.0000000e+00, 0.0000000e+00,\n",
       "        0.0000000e+00, 0.0000000e+00, 0.0000000e+00, 0.0000000e+00,\n",
       "        0.0000000e+00, 0.0000000e+00, 0.0000000e+00, 0.0000000e+00,\n",
       "        0.0000000e+00, 4.5226908e-41, 7.8844184e-39, 0.0000000e+00,\n",
       "        0.0000000e+00, 0.0000000e+00, 0.0000000e+00, 0.0000000e+00,\n",
       "        0.0000000e+00, 0.0000000e+00, 0.0000000e+00, 0.0000000e+00,\n",
       "        0.0000000e+00, 2.8598974e-31, 4.9608331e-03, 3.9236357e-44,\n",
       "        0.0000000e+00, 0.0000000e+00, 0.0000000e+00, 0.0000000e+00,\n",
       "        0.0000000e+00, 0.0000000e+00, 0.0000000e+00, 0.0000000e+00,\n",
       "        0.0000000e+00, 0.0000000e+00, 0.0000000e+00, 0.0000000e+00,\n",
       "        2.7310132e-33, 0.0000000e+00, 0.0000000e+00, 0.0000000e+00,\n",
       "        4.4285235e-41, 0.0000000e+00, 0.0000000e+00, 0.0000000e+00,\n",
       "        0.0000000e+00, 0.0000000e+00, 0.0000000e+00, 0.0000000e+00,\n",
       "        0.0000000e+00, 0.0000000e+00, 0.0000000e+00, 0.0000000e+00,\n",
       "        0.0000000e+00, 1.2611686e-44, 0.0000000e+00, 0.0000000e+00,\n",
       "        0.0000000e+00, 0.0000000e+00, 0.0000000e+00, 0.0000000e+00,\n",
       "        0.0000000e+00, 0.0000000e+00, 0.0000000e+00, 0.0000000e+00,\n",
       "        0.0000000e+00, 0.0000000e+00, 0.0000000e+00, 6.9300353e-22,\n",
       "        0.0000000e+00, 0.0000000e+00, 0.0000000e+00, 0.0000000e+00,\n",
       "        9.1089358e-31, 4.0371409e-42, 0.0000000e+00, 0.0000000e+00,\n",
       "        0.0000000e+00, 0.0000000e+00, 0.0000000e+00, 0.0000000e+00,\n",
       "        0.0000000e+00, 2.3811592e-26, 0.0000000e+00, 0.0000000e+00,\n",
       "        0.0000000e+00, 0.0000000e+00, 0.0000000e+00, 0.0000000e+00,\n",
       "        0.0000000e+00, 0.0000000e+00, 5.9274925e-43, 0.0000000e+00,\n",
       "        0.0000000e+00, 0.0000000e+00, 0.0000000e+00, 1.4012985e-45,\n",
       "        5.8854536e-44, 0.0000000e+00, 0.0000000e+00, 0.0000000e+00,\n",
       "        0.0000000e+00, 0.0000000e+00, 1.1086065e-39, 0.0000000e+00,\n",
       "        0.0000000e+00, 0.0000000e+00, 0.0000000e+00, 0.0000000e+00,\n",
       "        0.0000000e+00, 0.0000000e+00, 0.0000000e+00, 0.0000000e+00,\n",
       "        0.0000000e+00, 1.0166097e-37, 0.0000000e+00, 0.0000000e+00,\n",
       "        0.0000000e+00, 0.0000000e+00, 1.9511671e-30, 0.0000000e+00,\n",
       "        0.0000000e+00, 0.0000000e+00, 0.0000000e+00, 0.0000000e+00,\n",
       "        0.0000000e+00, 0.0000000e+00, 0.0000000e+00, 0.0000000e+00,\n",
       "        5.4788870e-38, 0.0000000e+00, 0.0000000e+00, 0.0000000e+00,\n",
       "        0.0000000e+00, 0.0000000e+00, 0.0000000e+00, 0.0000000e+00,\n",
       "        8.2676609e-43, 4.0558472e-29, 4.2038954e-45, 0.0000000e+00,\n",
       "        0.0000000e+00, 0.0000000e+00, 0.0000000e+00, 0.0000000e+00,\n",
       "        0.0000000e+00, 0.0000000e+00, 3.7468242e-23, 0.0000000e+00,\n",
       "        0.0000000e+00, 1.2179666e-40, 0.0000000e+00, 0.0000000e+00,\n",
       "        0.0000000e+00, 0.0000000e+00, 0.0000000e+00, 0.0000000e+00,\n",
       "        0.0000000e+00, 0.0000000e+00, 0.0000000e+00, 0.0000000e+00,\n",
       "        0.0000000e+00, 0.0000000e+00, 0.0000000e+00, 0.0000000e+00,\n",
       "        0.0000000e+00, 0.0000000e+00, 0.0000000e+00, 0.0000000e+00,\n",
       "        0.0000000e+00, 0.0000000e+00, 0.0000000e+00, 0.0000000e+00,\n",
       "        4.0613984e-25, 0.0000000e+00, 0.0000000e+00, 0.0000000e+00,\n",
       "        0.0000000e+00, 0.0000000e+00, 0.0000000e+00, 1.1215496e-33,\n",
       "        0.0000000e+00, 0.0000000e+00, 0.0000000e+00, 0.0000000e+00,\n",
       "        0.0000000e+00, 0.0000000e+00, 0.0000000e+00, 0.0000000e+00,\n",
       "        0.0000000e+00, 0.0000000e+00, 0.0000000e+00, 0.0000000e+00,\n",
       "        0.0000000e+00, 0.0000000e+00, 0.0000000e+00, 0.0000000e+00,\n",
       "        0.0000000e+00, 0.0000000e+00, 0.0000000e+00, 0.0000000e+00,\n",
       "        0.0000000e+00, 0.0000000e+00, 0.0000000e+00, 0.0000000e+00,\n",
       "        0.0000000e+00, 0.0000000e+00, 0.0000000e+00, 0.0000000e+00,\n",
       "        0.0000000e+00, 0.0000000e+00, 0.0000000e+00, 0.0000000e+00,\n",
       "        0.0000000e+00, 0.0000000e+00, 0.0000000e+00, 0.0000000e+00,\n",
       "        1.0438974e-32, 0.0000000e+00, 0.0000000e+00, 0.0000000e+00,\n",
       "        0.0000000e+00, 0.0000000e+00, 0.0000000e+00, 0.0000000e+00,\n",
       "        0.0000000e+00, 0.0000000e+00, 0.0000000e+00, 0.0000000e+00,\n",
       "        0.0000000e+00, 0.0000000e+00, 0.0000000e+00, 0.0000000e+00,\n",
       "        0.0000000e+00, 0.0000000e+00, 0.0000000e+00, 0.0000000e+00,\n",
       "        0.0000000e+00, 0.0000000e+00, 0.0000000e+00, 0.0000000e+00,\n",
       "        0.0000000e+00, 0.0000000e+00, 0.0000000e+00, 0.0000000e+00,\n",
       "        0.0000000e+00, 0.0000000e+00, 0.0000000e+00, 0.0000000e+00,\n",
       "        0.0000000e+00, 0.0000000e+00, 4.2345634e-38, 2.1441229e-38,\n",
       "        0.0000000e+00, 0.0000000e+00, 0.0000000e+00, 0.0000000e+00,\n",
       "        0.0000000e+00, 0.0000000e+00, 0.0000000e+00, 0.0000000e+00,\n",
       "        0.0000000e+00, 0.0000000e+00, 0.0000000e+00, 0.0000000e+00,\n",
       "        0.0000000e+00, 0.0000000e+00, 0.0000000e+00, 0.0000000e+00,\n",
       "        2.7632294e-31, 1.4573504e-43, 0.0000000e+00, 0.0000000e+00,\n",
       "        0.0000000e+00, 0.0000000e+00, 0.0000000e+00, 0.0000000e+00,\n",
       "        0.0000000e+00, 0.0000000e+00, 0.0000000e+00, 0.0000000e+00,\n",
       "        0.0000000e+00, 0.0000000e+00, 0.0000000e+00, 0.0000000e+00,\n",
       "        0.0000000e+00, 0.0000000e+00, 0.0000000e+00, 0.0000000e+00,\n",
       "        0.0000000e+00, 0.0000000e+00, 0.0000000e+00, 0.0000000e+00,\n",
       "        0.0000000e+00, 0.0000000e+00, 0.0000000e+00, 0.0000000e+00,\n",
       "        0.0000000e+00, 0.0000000e+00, 0.0000000e+00, 0.0000000e+00]],\n",
       "      dtype=float32)"
      ]
     },
     "execution_count": 11,
     "metadata": {},
     "output_type": "execute_result"
    }
   ],
   "source": [
    "model.predict(X)"
   ]
  },
  {
   "cell_type": "markdown",
   "id": "2f402e93-8b6e-47a4-bff0-18a0820e3612",
   "metadata": {},
   "source": [
    "Now, let's preprocess:"
   ]
  },
  {
   "cell_type": "code",
   "execution_count": 12,
   "id": "63f8e2fd-77fd-4cb9-a9eb-b7757d4a49dd",
   "metadata": {
    "execution": {
     "iopub.execute_input": "2024-11-29T07:20:48.045320Z",
     "iopub.status.busy": "2024-11-29T07:20:48.044999Z",
     "iopub.status.idle": "2024-11-29T07:20:48.048619Z",
     "shell.execute_reply": "2024-11-29T07:20:48.048150Z",
     "shell.execute_reply.started": "2024-11-29T07:20:48.045298Z"
    }
   },
   "outputs": [],
   "source": [
    "X = preprocess_input(X)"
   ]
  },
  {
   "cell_type": "code",
   "execution_count": 13,
   "id": "07899e64-e0fe-482d-84fe-79b2519ff386",
   "metadata": {
    "execution": {
     "iopub.execute_input": "2024-11-29T07:20:48.050075Z",
     "iopub.status.busy": "2024-11-29T07:20:48.049747Z",
     "iopub.status.idle": "2024-11-29T07:20:48.055862Z",
     "shell.execute_reply": "2024-11-29T07:20:48.055279Z",
     "shell.execute_reply.started": "2024-11-29T07:20:48.050056Z"
    }
   },
   "outputs": [
    {
     "data": {
      "text/plain": [
       "array([[[ 0.4039216 ,  0.3411765 , -0.2235294 ],\n",
       "        [ 0.4039216 ,  0.3411765 , -0.2235294 ],\n",
       "        [ 0.41960788,  0.35686278, -0.20784312],\n",
       "        ...,\n",
       "        [ 0.96862745,  0.9843137 ,  0.94509804],\n",
       "        [ 0.96862745,  0.9843137 ,  0.94509804],\n",
       "        [ 0.96862745,  0.99215686,  0.9372549 ]],\n",
       "\n",
       "       [[ 0.47450984,  0.4039216 , -0.12156862],\n",
       "        [ 0.4666667 ,  0.39607847, -0.12941176],\n",
       "        [ 0.45882356,  0.38823533, -0.15294117],\n",
       "        ...,\n",
       "        [ 0.96862745,  0.9764706 ,  0.9372549 ],\n",
       "        [ 0.96862745,  0.9764706 ,  0.9372549 ],\n",
       "        [ 0.96862745,  0.9764706 ,  0.92941177]],\n",
       "\n",
       "       [[ 0.56078434,  0.48235297, -0.00392157],\n",
       "        [ 0.5686275 ,  0.4901961 ,  0.00392163],\n",
       "        [ 0.5686275 ,  0.49803925, -0.01176471],\n",
       "        ...,\n",
       "        [ 0.9607843 ,  0.96862745,  0.92156863],\n",
       "        [ 0.9607843 ,  0.96862745,  0.92156863],\n",
       "        [ 0.9607843 ,  0.96862745,  0.92156863]],\n",
       "\n",
       "       ...,\n",
       "\n",
       "       [[ 0.2941177 ,  0.18431377, -0.40392154],\n",
       "        [ 0.35686278,  0.24705887, -0.34117645],\n",
       "        [ 0.3411765 ,  0.2313726 , -0.35686272],\n",
       "        ...,\n",
       "        [ 0.43529415,  0.05882359, -0.8039216 ],\n",
       "        [ 0.41960788,  0.04313731, -0.827451  ],\n",
       "        [ 0.43529415,  0.05882359, -0.8117647 ]],\n",
       "\n",
       "       [[ 0.2941177 ,  0.18431377, -0.40392154],\n",
       "        [ 0.35686278,  0.24705887, -0.34117645],\n",
       "        [ 0.3411765 ,  0.2313726 , -0.35686272],\n",
       "        ...,\n",
       "        [ 0.427451  ,  0.05098045, -0.81960785],\n",
       "        [ 0.41176474,  0.03529418, -0.8352941 ],\n",
       "        [ 0.427451  ,  0.05098045, -0.81960785]],\n",
       "\n",
       "       [[ 0.2941177 ,  0.18431377, -0.40392154],\n",
       "        [ 0.35686278,  0.24705887, -0.34117645],\n",
       "        [ 0.3411765 ,  0.2313726 , -0.35686272],\n",
       "        ...,\n",
       "        [ 0.41960788,  0.04313731, -0.827451  ],\n",
       "        [ 0.4039216 ,  0.02745104, -0.84313726],\n",
       "        [ 0.427451  ,  0.05098045, -0.81960785]]], dtype=float32)"
      ]
     },
     "execution_count": 13,
     "metadata": {},
     "output_type": "execute_result"
    }
   ],
   "source": [
    "X[0]"
   ]
  },
  {
   "cell_type": "markdown",
   "id": "35550080-0059-406d-af8b-734b5e0e4f14",
   "metadata": {},
   "source": [
    "We can see the numbers are no longer ranging from 0-255, but are between -1 and 1. They have been scaled. It's important to note that when the model was trained, it was on this preprocessed data. So when we make a prediction, we need to preprocess the images. This is similar to what we did it with sklearn when scaling certain features or other preprocessing steps."
   ]
  },
  {
   "cell_type": "code",
   "execution_count": 14,
   "id": "d2f2ec33-9528-4c1d-89c5-35bf9e29e506",
   "metadata": {
    "execution": {
     "iopub.execute_input": "2024-11-29T07:20:48.057192Z",
     "iopub.status.busy": "2024-11-29T07:20:48.056915Z",
     "iopub.status.idle": "2024-11-29T07:20:50.154751Z",
     "shell.execute_reply": "2024-11-29T07:20:50.154270Z",
     "shell.execute_reply.started": "2024-11-29T07:20:48.057174Z"
    }
   },
   "outputs": [
    {
     "name": "stdout",
     "output_type": "stream",
     "text": [
      "\u001b[1m1/1\u001b[0m \u001b[32m━━━━━━━━━━━━━━━━━━━━\u001b[0m\u001b[37m\u001b[0m \u001b[1m2s\u001b[0m 2s/step\n"
     ]
    }
   ],
   "source": [
    "pred = model.predict(X)"
   ]
  },
  {
   "cell_type": "code",
   "execution_count": 15,
   "id": "0a60e7ba-5960-4394-931c-0bb92bc1af88",
   "metadata": {
    "execution": {
     "iopub.execute_input": "2024-11-29T07:20:50.155924Z",
     "iopub.status.busy": "2024-11-29T07:20:50.155616Z",
     "iopub.status.idle": "2024-11-29T07:20:50.160105Z",
     "shell.execute_reply": "2024-11-29T07:20:50.159618Z",
     "shell.execute_reply.started": "2024-11-29T07:20:50.155904Z"
    }
   },
   "outputs": [
    {
     "data": {
      "text/plain": [
       "(1, 1000)"
      ]
     },
     "execution_count": 15,
     "metadata": {},
     "output_type": "execute_result"
    }
   ],
   "source": [
    "pred.shape"
   ]
  },
  {
   "cell_type": "markdown",
   "id": "46a99027-ea9e-4439-bc40-7faff79b1b4a",
   "metadata": {},
   "source": [
    "There is 1 image and 1000 classes. Each number is the probability for a given class."
   ]
  },
  {
   "cell_type": "code",
   "execution_count": 16,
   "id": "08912b8c-4711-40dc-8eb8-11a3c2dc3391",
   "metadata": {
    "execution": {
     "iopub.execute_input": "2024-11-29T07:20:50.161032Z",
     "iopub.status.busy": "2024-11-29T07:20:50.160687Z",
     "iopub.status.idle": "2024-11-29T07:20:50.166445Z",
     "shell.execute_reply": "2024-11-29T07:20:50.165943Z",
     "shell.execute_reply.started": "2024-11-29T07:20:50.161013Z"
    }
   },
   "outputs": [
    {
     "data": {
      "text/plain": [
       "'Class 610 has the highest probability: 0.68'"
      ]
     },
     "execution_count": 16,
     "metadata": {},
     "output_type": "execute_result"
    }
   ],
   "source": [
    "f\"Class {pred.argmax()} has the highest probability: {pred.max():.2f}\""
   ]
  },
  {
   "cell_type": "markdown",
   "id": "dfc0ecf7-9cb0-442d-ac37-c7874f0c021d",
   "metadata": {},
   "source": [
    "There is a utility function for this in Keras:"
   ]
  },
  {
   "cell_type": "code",
   "execution_count": 17,
   "id": "6af5a4e8-66b6-4de1-907c-744b41a47779",
   "metadata": {
    "execution": {
     "iopub.execute_input": "2024-11-29T07:20:50.168145Z",
     "iopub.status.busy": "2024-11-29T07:20:50.167864Z",
     "iopub.status.idle": "2024-11-29T07:20:50.174405Z",
     "shell.execute_reply": "2024-11-29T07:20:50.173845Z",
     "shell.execute_reply.started": "2024-11-29T07:20:50.168127Z"
    }
   },
   "outputs": [
    {
     "data": {
      "text/plain": [
       "[[('n03595614', 'jersey', 0.68196344),\n",
       "  ('n02916936', 'bulletproof_vest', 0.0381399),\n",
       "  ('n04370456', 'sweatshirt', 0.034324728),\n",
       "  ('n03710637', 'maillot', 0.011354211),\n",
       "  ('n04525038', 'velvet', 0.0018453576)]]"
      ]
     },
     "execution_count": 17,
     "metadata": {},
     "output_type": "execute_result"
    }
   ],
   "source": [
    "decode_predictions(pred)"
   ]
  },
  {
   "cell_type": "markdown",
   "id": "f3131814-2f6d-4280-9aa8-3b8d9fce6b97",
   "metadata": {
    "execution": {
     "iopub.execute_input": "2024-11-28T07:29:32.485893Z",
     "iopub.status.busy": "2024-11-28T07:29:32.485550Z",
     "iopub.status.idle": "2024-11-28T07:29:32.510877Z",
     "shell.execute_reply": "2024-11-28T07:29:32.510025Z",
     "shell.execute_reply.started": "2024-11-28T07:29:32.485870Z"
    }
   },
   "source": [
    "## 8.4 [Convolutional Neural Networks](https://github.com/DataTalksClub/machine-learning-zoomcamp/blob/master/08-deep-learning/04-conv-neural-nets.md)"
   ]
  },
  {
   "attachments": {},
   "cell_type": "markdown",
   "id": "a06bc18f-416a-4015-a9b4-95dcae657651",
   "metadata": {},
   "source": [
    "Convolutional neural networks are mostly used for images. They contain a convolutional layer. The Xception model we used is such a convolutional neural network.\n",
    "\n",
    "Convolutional Neural Networks (CNN) contain two types of layers:\n",
    "1. Convolutional layers\n",
    "2. Dense layers\n",
    "\n",
    "### Convolutional layers\n",
    "\n",
    "These are like filters containing many small image segments (e.g. 5x5) with lines, shapes, gradients. These small image segments are slid across our input image and the similarity is checked between the image segment and the input image. What results is a feature map, an array with a similarity score between the small image segment (i.e. filter) and a particular location of the image.\n",
    "Each filter results in a feature map. This set of feature maps, can be fed to a second convolutional layer with its own filters. Typically the first layer learns simple filters, subsequent layers learn increasingly more complicated filters. How this happens is that feature maps from one layer are compared. When they have high scores in the same area, these are then combined for the next layer.\n",
    "\n",
    "<img src=\"cnn.png\" width=600>\n",
    "\n",
    "The features are learned, so it is not necessary to instruct the neural network to learn certain shapes.\n",
    "\n",
    "After the convolutional layers, there will be a vector representation of the image. This is fed into the dense layers.\n",
    "\n",
    "### Dense layers\n",
    "\n",
    "The dense layers take the vector representation and turn it into a prediction. If we were to do binary classification, we could for example take the vector representation, multiply each of the elements with a weight, and sum them (i.e. take the inner product). Then we feed that number into the sigmoid function and get a prediction (e.g. whether it is a t-shirt or not).\n",
    "\n",
    "Now, if we want to do multi-class classification, we can create a model for each class. For example, one for t-shirts, one for shirts, one for dressed, and so on. Each model has its own weights. We calculate the inner products for each class. Then, instead of feeding it into a sigmoid for each class, we use the softmax function, which outputs probabilities for all classes, ensuring they sum to 1.\n",
    "\n",
    "The naming 'dense layer' is because each element of the input is connected to each element of the output. Similar as with the convolutional layers, we can have multiple dense layers."
   ]
  },
  {
   "cell_type": "markdown",
   "id": "d9692ff5-de9c-478e-b11f-666596d67ffe",
   "metadata": {},
   "source": [
    "## 8.5 [Transfer Learning](https://github.com/DataTalksClub/machine-learning-zoomcamp/blob/master/08-deep-learning/05-transfer-learning.md)"
   ]
  },
  {
   "cell_type": "markdown",
   "id": "00ba82de-141f-4a0e-826a-a7d9ba718196",
   "metadata": {},
   "source": [
    "In convolutional neural netweorks, the convolutional layers are generic. They require a very large number of images to come up with filters. In transfer learning, where we take a neural network and tune it for our purposes, we typically do not touch the convolutional layers. The dense layers on the other hand are more specific to the problem at hand. So we will keep the convolutional layers and train the dense layers."
   ]
  },
  {
   "cell_type": "code",
   "execution_count": 18,
   "id": "c8c79a7e-85c6-4b0e-aa70-b4cf261b8b3c",
   "metadata": {
    "execution": {
     "iopub.execute_input": "2024-11-29T07:20:51.132227Z",
     "iopub.status.busy": "2024-11-29T07:20:51.131901Z",
     "iopub.status.idle": "2024-11-29T07:20:51.135978Z",
     "shell.execute_reply": "2024-11-29T07:20:51.135482Z",
     "shell.execute_reply.started": "2024-11-29T07:20:51.132208Z"
    }
   },
   "outputs": [],
   "source": [
    "from tensorflow.keras.preprocessing.image import ImageDataGenerator"
   ]
  },
  {
   "cell_type": "code",
   "execution_count": 19,
   "id": "3b32b593-c5ff-453e-bdeb-c664c26e7be6",
   "metadata": {
    "execution": {
     "iopub.execute_input": "2024-11-29T07:20:51.677411Z",
     "iopub.status.busy": "2024-11-29T07:20:51.677094Z",
     "iopub.status.idle": "2024-11-29T07:20:51.680439Z",
     "shell.execute_reply": "2024-11-29T07:20:51.679857Z",
     "shell.execute_reply.started": "2024-11-29T07:20:51.677391Z"
    }
   },
   "outputs": [],
   "source": [
    "train_gen = ImageDataGenerator(preprocessing_function=preprocess_input)"
   ]
  },
  {
   "cell_type": "code",
   "execution_count": 20,
   "id": "929f1f41-d191-4def-b306-444991ef4c45",
   "metadata": {
    "execution": {
     "iopub.execute_input": "2024-11-29T07:20:52.063436Z",
     "iopub.status.busy": "2024-11-29T07:20:52.063137Z",
     "iopub.status.idle": "2024-11-29T07:20:52.160263Z",
     "shell.execute_reply": "2024-11-29T07:20:52.159800Z",
     "shell.execute_reply.started": "2024-11-29T07:20:52.063395Z"
    }
   },
   "outputs": [
    {
     "name": "stdout",
     "output_type": "stream",
     "text": [
      "Found 3068 images belonging to 10 classes.\n"
     ]
    }
   ],
   "source": [
    "train_ds = train_gen.flow_from_directory(\"./clothing-dataset-small/train\", target_size=(150, 150), batch_size=32)"
   ]
  },
  {
   "cell_type": "code",
   "execution_count": 21,
   "id": "d51c5b14-6a0a-41a4-9532-eaa896fc5aad",
   "metadata": {
    "execution": {
     "iopub.execute_input": "2024-11-29T07:20:52.790035Z",
     "iopub.status.busy": "2024-11-29T07:20:52.789723Z",
     "iopub.status.idle": "2024-11-29T07:20:52.794440Z",
     "shell.execute_reply": "2024-11-29T07:20:52.793896Z",
     "shell.execute_reply.started": "2024-11-29T07:20:52.790014Z"
    }
   },
   "outputs": [
    {
     "data": {
      "text/plain": [
       "{'dress': 0,\n",
       " 'hat': 1,\n",
       " 'longsleeve': 2,\n",
       " 'outwear': 3,\n",
       " 'pants': 4,\n",
       " 'shirt': 5,\n",
       " 'shoes': 6,\n",
       " 'shorts': 7,\n",
       " 'skirt': 8,\n",
       " 't-shirt': 9}"
      ]
     },
     "execution_count": 21,
     "metadata": {},
     "output_type": "execute_result"
    }
   ],
   "source": [
    "train_ds.class_indices"
   ]
  },
  {
   "cell_type": "code",
   "execution_count": 22,
   "id": "705f8d5c-13b1-4a3d-9d56-c48c361ec610",
   "metadata": {
    "execution": {
     "iopub.execute_input": "2024-11-29T07:20:53.397881Z",
     "iopub.status.busy": "2024-11-29T07:20:53.397555Z",
     "iopub.status.idle": "2024-11-29T07:20:53.454415Z",
     "shell.execute_reply": "2024-11-29T07:20:53.453718Z",
     "shell.execute_reply.started": "2024-11-29T07:20:53.397860Z"
    }
   },
   "outputs": [],
   "source": [
    "X, y = next(train_ds)"
   ]
  },
  {
   "cell_type": "markdown",
   "id": "a364b516-a34a-4c72-86c7-f6bdaf62cbdc",
   "metadata": {},
   "source": [
    "`X` contains the images. We have a batch of 32 images with size 150x150, 3 channels (RGB)."
   ]
  },
  {
   "cell_type": "code",
   "execution_count": 23,
   "id": "ed4e4e09-879e-4103-91b1-4787773116b5",
   "metadata": {
    "execution": {
     "iopub.execute_input": "2024-11-29T07:20:54.510838Z",
     "iopub.status.busy": "2024-11-29T07:20:54.510125Z",
     "iopub.status.idle": "2024-11-29T07:20:54.515053Z",
     "shell.execute_reply": "2024-11-29T07:20:54.514414Z",
     "shell.execute_reply.started": "2024-11-29T07:20:54.510802Z"
    }
   },
   "outputs": [
    {
     "data": {
      "text/plain": [
       "(32, 150, 150, 3)"
      ]
     },
     "execution_count": 23,
     "metadata": {},
     "output_type": "execute_result"
    }
   ],
   "source": [
    "X.shape"
   ]
  },
  {
   "cell_type": "markdown",
   "id": "75f23ebf-cdf4-4f74-b5be-c88024659f60",
   "metadata": {},
   "source": [
    "`y` is the label. It is one-hot encoded. In the example below, the image is of a skirt."
   ]
  },
  {
   "cell_type": "code",
   "execution_count": 24,
   "id": "b5bab8b5-9aa6-4bc0-920b-b49e538832b7",
   "metadata": {
    "execution": {
     "iopub.execute_input": "2024-11-29T07:20:55.499582Z",
     "iopub.status.busy": "2024-11-29T07:20:55.499229Z",
     "iopub.status.idle": "2024-11-29T07:20:55.503698Z",
     "shell.execute_reply": "2024-11-29T07:20:55.503130Z",
     "shell.execute_reply.started": "2024-11-29T07:20:55.499559Z"
    }
   },
   "outputs": [
    {
     "data": {
      "text/plain": [
       "array([0., 0., 0., 0., 1., 0., 0., 0., 0., 0.], dtype=float32)"
      ]
     },
     "execution_count": 24,
     "metadata": {},
     "output_type": "execute_result"
    }
   ],
   "source": [
    "y[0]"
   ]
  },
  {
   "cell_type": "markdown",
   "id": "3d43d593-d7bb-41a6-82d5-8124e3573122",
   "metadata": {},
   "source": [
    "We do the same for the validation data:"
   ]
  },
  {
   "cell_type": "code",
   "execution_count": 25,
   "id": "fb57d9e1-22de-40b5-8af4-2f80c69a6071",
   "metadata": {
    "execution": {
     "iopub.execute_input": "2024-11-29T07:20:56.333727Z",
     "iopub.status.busy": "2024-11-29T07:20:56.333402Z",
     "iopub.status.idle": "2024-11-29T07:20:56.350182Z",
     "shell.execute_reply": "2024-11-29T07:20:56.349648Z",
     "shell.execute_reply.started": "2024-11-29T07:20:56.333707Z"
    }
   },
   "outputs": [
    {
     "name": "stdout",
     "output_type": "stream",
     "text": [
      "Found 341 images belonging to 10 classes.\n"
     ]
    }
   ],
   "source": [
    "val_gen = ImageDataGenerator(preprocessing_function=preprocess_input)\n",
    "val_ds = val_gen.flow_from_directory(\"./clothing-dataset-small/validation\", target_size=(150, 150), batch_size=32, shuffle=False)"
   ]
  },
  {
   "cell_type": "markdown",
   "id": "ddde6c5e-eb45-47be-a9e0-cb30d5d59819",
   "metadata": {},
   "source": [
    "In Keras, the top refers to what comes after the vector representation (i.e. the dense layers) and bottom refers to what comes before it (i.e. convolutional layers). By setting `include_top=False`, we exclude the dense layers. \n",
    "\n",
    "With `base_model.trainable = False`, we say to Keras that we don't want train convolutional layers.\n",
    "\n",
    "The base model consists of the convolutional layers.\n",
    "\n",
    "<img src=\"basemodel.png\" width=600>"
   ]
  },
  {
   "cell_type": "code",
   "execution_count": 26,
   "id": "71416d9f-e481-4fd6-bf91-d7c011b8c89d",
   "metadata": {
    "execution": {
     "iopub.execute_input": "2024-11-29T07:20:57.328590Z",
     "iopub.status.busy": "2024-11-29T07:20:57.328260Z",
     "iopub.status.idle": "2024-11-29T07:20:58.315725Z",
     "shell.execute_reply": "2024-11-29T07:20:58.315144Z",
     "shell.execute_reply.started": "2024-11-29T07:20:57.328568Z"
    }
   },
   "outputs": [],
   "source": [
    "base_model = Xception(weights=\"imagenet\", include_top=False, input_shape=(150, 150, 3))\n",
    "base_model.trainable = False  "
   ]
  },
  {
   "cell_type": "markdown",
   "id": "abec1518-95f0-4537-8620-df0137832992",
   "metadata": {},
   "source": [
    "Now we want to create a new top."
   ]
  },
  {
   "cell_type": "code",
   "execution_count": 27,
   "id": "0b452fec-bd2b-498b-8b4d-5de28930277f",
   "metadata": {
    "execution": {
     "iopub.execute_input": "2024-11-29T07:21:00.230541Z",
     "iopub.status.busy": "2024-11-29T07:21:00.230213Z",
     "iopub.status.idle": "2024-11-29T07:21:00.236711Z",
     "shell.execute_reply": "2024-11-29T07:21:00.236178Z",
     "shell.execute_reply.started": "2024-11-29T07:21:00.230519Z"
    }
   },
   "outputs": [],
   "source": [
    "inputs = tf.keras.Input(shape=(150, 150, 3))\n",
    "\n",
    "base = base_model(inputs)  # we want to apply inputs to base_model and the result is called base\n",
    "\n",
    "outputs = base\n",
    "\n",
    "model = tf.keras.Model(inputs, outputs)  # we need to wrap a keras model around inputs and outputs"
   ]
  },
  {
   "cell_type": "code",
   "execution_count": 28,
   "id": "57b24ef6-f51c-4b4f-8bff-9011667a6ff4",
   "metadata": {
    "execution": {
     "iopub.execute_input": "2024-11-29T07:21:07.230268Z",
     "iopub.status.busy": "2024-11-29T07:21:07.229945Z",
     "iopub.status.idle": "2024-11-29T07:21:12.809819Z",
     "shell.execute_reply": "2024-11-29T07:21:12.809338Z",
     "shell.execute_reply.started": "2024-11-29T07:21:07.230247Z"
    }
   },
   "outputs": [
    {
     "name": "stdout",
     "output_type": "stream",
     "text": [
      "\u001b[1m1/1\u001b[0m \u001b[32m━━━━━━━━━━━━━━━━━━━━\u001b[0m\u001b[37m\u001b[0m \u001b[1m6s\u001b[0m 6s/step\n"
     ]
    }
   ],
   "source": [
    "preds = model.predict(X)"
   ]
  },
  {
   "cell_type": "code",
   "execution_count": 29,
   "id": "6465156c-0281-41b2-b66e-f2f67ee892b3",
   "metadata": {
    "execution": {
     "iopub.execute_input": "2024-11-29T07:21:13.142758Z",
     "iopub.status.busy": "2024-11-29T07:21:13.142466Z",
     "iopub.status.idle": "2024-11-29T07:21:13.147024Z",
     "shell.execute_reply": "2024-11-29T07:21:13.146505Z",
     "shell.execute_reply.started": "2024-11-29T07:21:13.142736Z"
    }
   },
   "outputs": [
    {
     "data": {
      "text/plain": [
       "(32, 5, 5, 2048)"
      ]
     },
     "execution_count": 29,
     "metadata": {},
     "output_type": "execute_result"
    }
   ],
   "source": [
    "preds.shape"
   ]
  },
  {
   "cell_type": "code",
   "execution_count": 30,
   "id": "bc6be261-e99d-46e8-8656-8ce4e9ee42cc",
   "metadata": {
    "execution": {
     "iopub.execute_input": "2024-11-29T07:21:13.870568Z",
     "iopub.status.busy": "2024-11-29T07:21:13.870252Z",
     "iopub.status.idle": "2024-11-29T07:21:13.874801Z",
     "shell.execute_reply": "2024-11-29T07:21:13.874233Z",
     "shell.execute_reply.started": "2024-11-29T07:21:13.870547Z"
    }
   },
   "outputs": [
    {
     "data": {
      "text/plain": [
       "(32, 150, 150, 3)"
      ]
     },
     "execution_count": 30,
     "metadata": {},
     "output_type": "execute_result"
    }
   ],
   "source": [
    "X.shape"
   ]
  },
  {
   "cell_type": "markdown",
   "id": "d8b6eef1-759a-4d52-82ce-bc557d0bf64a",
   "metadata": {},
   "source": [
    "So we have our image which is an input with shape (150, 150, 3). It goes into the base_model and what we get out is called base. That is assigned to outputs. Then a keras model is made with inputs and outputs. Then we can use `model.predict(X)`, where `X` is a batch of 32 images.\n",
    "\n",
    "The predictions `preds` have a strange shape (32, 5, 5, 2048). It is not a vector representation yet. We will turn base into into a vector. The way we do this is by taking the (5, 5) matrices inside `preds` and average it. This is called **two-dimensional average pooling**."
   ]
  },
  {
   "cell_type": "code",
   "execution_count": 31,
   "id": "3aac6f34-ceb9-4cec-982e-9d52ad70f467",
   "metadata": {
    "execution": {
     "iopub.execute_input": "2024-11-29T07:21:14.740553Z",
     "iopub.status.busy": "2024-11-29T07:21:14.740216Z",
     "iopub.status.idle": "2024-11-29T07:21:14.747907Z",
     "shell.execute_reply": "2024-11-29T07:21:14.747160Z",
     "shell.execute_reply.started": "2024-11-29T07:21:14.740531Z"
    }
   },
   "outputs": [],
   "source": [
    "inputs = tf.keras.Input(shape=(150, 150, 3))\n",
    "\n",
    "base = base_model(inputs)  # we want to apply inputs to base_model and the result is called base\n",
    "\n",
    "vectors = tf.keras.layers.GlobalAveragePooling2D()(base)\n",
    "# vectors = pooling(base)\n",
    "\n",
    "outputs = vectors\n",
    "\n",
    "model = tf.keras.Model(inputs, outputs)  # we need to wrap a keras model around inputs and outputs"
   ]
  },
  {
   "cell_type": "code",
   "execution_count": 32,
   "id": "aefd0cce-fdb2-4ba8-81be-4adbd53b12a3",
   "metadata": {
    "execution": {
     "iopub.execute_input": "2024-11-29T07:21:14.957070Z",
     "iopub.status.busy": "2024-11-29T07:21:14.956762Z",
     "iopub.status.idle": "2024-11-29T07:21:17.099449Z",
     "shell.execute_reply": "2024-11-29T07:21:17.098851Z",
     "shell.execute_reply.started": "2024-11-29T07:21:14.957050Z"
    }
   },
   "outputs": [
    {
     "name": "stdout",
     "output_type": "stream",
     "text": [
      "\u001b[1m1/1\u001b[0m \u001b[32m━━━━━━━━━━━━━━━━━━━━\u001b[0m\u001b[37m\u001b[0m \u001b[1m2s\u001b[0m 2s/step\n"
     ]
    },
    {
     "data": {
      "text/plain": [
       "(32, 2048)"
      ]
     },
     "execution_count": 32,
     "metadata": {},
     "output_type": "execute_result"
    }
   ],
   "source": [
    "model.predict(X).shape"
   ]
  },
  {
   "cell_type": "markdown",
   "id": "34b96431-73bc-4aaa-a8f0-36e115459736",
   "metadata": {},
   "source": [
    "Now for each of the 32 images in the batch we have a vector of length 2048. The next step is to tune the dense layers and get a final output which will have shape (32, 10). 32 images with class prediction."
   ]
  },
  {
   "cell_type": "code",
   "execution_count": 33,
   "id": "4c0d1d7f-dd78-4158-a39e-f85f671bad40",
   "metadata": {
    "execution": {
     "iopub.execute_input": "2024-11-29T07:21:17.100710Z",
     "iopub.status.busy": "2024-11-29T07:21:17.100394Z",
     "iopub.status.idle": "2024-11-29T07:21:17.860173Z",
     "shell.execute_reply": "2024-11-29T07:21:17.859578Z",
     "shell.execute_reply.started": "2024-11-29T07:21:17.100678Z"
    }
   },
   "outputs": [],
   "source": [
    "base_model = Xception(weights=\"imagenet\", include_top=False, input_shape=(150, 150, 3))\n",
    "base_model.trainable = False  \n",
    "\n",
    "inputs = tf.keras.Input(shape=(150, 150, 3))\n",
    "\n",
    "base = base_model(inputs, training=False)  # we want to apply inputs to base_model and the result is called base\n",
    "\n",
    "vectors = tf.keras.layers.GlobalAveragePooling2D()(base)\n",
    "\n",
    "outputs = tf.keras.layers.Dense(10)(vectors)\n",
    "\n",
    "model = tf.keras.Model(inputs, outputs)  # we need to wrap a keras model around inputs and outputs"
   ]
  },
  {
   "cell_type": "code",
   "execution_count": 34,
   "id": "2742f1fc-50b1-4a12-83ee-cecec1aba47e",
   "metadata": {
    "execution": {
     "iopub.execute_input": "2024-11-29T07:21:17.861282Z",
     "iopub.status.busy": "2024-11-29T07:21:17.860897Z",
     "iopub.status.idle": "2024-11-29T07:21:19.870683Z",
     "shell.execute_reply": "2024-11-29T07:21:19.870183Z",
     "shell.execute_reply.started": "2024-11-29T07:21:17.861252Z"
    }
   },
   "outputs": [
    {
     "name": "stdout",
     "output_type": "stream",
     "text": [
      "WARNING:tensorflow:5 out of the last 5 calls to <function TensorFlowTrainer.make_predict_function.<locals>.one_step_on_data_distributed at 0x7fe0542dca40> triggered tf.function retracing. Tracing is expensive and the excessive number of tracings could be due to (1) creating @tf.function repeatedly in a loop, (2) passing tensors with different shapes, (3) passing Python objects instead of tensors. For (1), please define your @tf.function outside of the loop. For (2), @tf.function has reduce_retracing=True option that can avoid unnecessary retracing. For (3), please refer to https://www.tensorflow.org/guide/function#controlling_retracing and https://www.tensorflow.org/api_docs/python/tf/function for  more details.\n",
      "\u001b[1m1/1\u001b[0m \u001b[32m━━━━━━━━━━━━━━━━━━━━\u001b[0m\u001b[37m\u001b[0m \u001b[1m2s\u001b[0m 2s/step\n"
     ]
    },
    {
     "data": {
      "text/plain": [
       "array([ 0.02681635,  0.22456197, -0.24789464,  0.92747885, -0.306142  ,\n",
       "       -0.09458305, -1.3396821 , -0.20722556,  0.23267235,  0.05532575],\n",
       "      dtype=float32)"
      ]
     },
     "execution_count": 34,
     "metadata": {},
     "output_type": "execute_result"
    }
   ],
   "source": [
    "model.predict(X)[0]"
   ]
  },
  {
   "cell_type": "markdown",
   "id": "58f22f0f-4bb8-44d3-ae52-5e00f2662db7",
   "metadata": {},
   "source": [
    "These are the predictions for the first image. These are bogus numbers at this point, because we haven't trained the model yet. We only created the model, which will initialize with random numbers. Now we will train it. We need a couple things to do this. One is the optimizer. Another thing we need is the loss function. It's what the optimizer tries to minimize."
   ]
  },
  {
   "cell_type": "code",
   "execution_count": 35,
   "id": "f62d3bc0-0d24-4330-b6f9-7dbed82a9bf3",
   "metadata": {
    "execution": {
     "iopub.execute_input": "2024-11-29T07:21:19.872018Z",
     "iopub.status.busy": "2024-11-29T07:21:19.871744Z",
     "iopub.status.idle": "2024-11-29T07:21:19.879818Z",
     "shell.execute_reply": "2024-11-29T07:21:19.879232Z",
     "shell.execute_reply.started": "2024-11-29T07:21:19.871997Z"
    }
   },
   "outputs": [],
   "source": [
    "learning_rate = 0.01\n",
    "optimizer = tf.keras.optimizers.Adam(learning_rate=learning_rate)\n",
    "\n",
    "loss = tf.keras.losses.CategoricalCrossentropy(from_logits=True)"
   ]
  },
  {
   "cell_type": "markdown",
   "id": "8e01a77d-b8c8-456e-9e49-1ccc13971f7a",
   "metadata": {},
   "source": [
    "By specifying `from_logits=True`, we are using the inner product of all the parameters and weights in a layer directly, rather than using an activation function. If we specify `from_logits=False`, we'd have to specify an activation function in the output layer:\n",
    "```python\n",
    "outputs = tf.keras.layers.Dense(10, activation=\"softmax\")(vectors)\n",
    "```\n",
    "\n",
    "Now we will compile the model:"
   ]
  },
  {
   "cell_type": "code",
   "execution_count": 36,
   "id": "be76cd6e-c000-4289-8698-c78a4a26f371",
   "metadata": {
    "execution": {
     "iopub.execute_input": "2024-11-29T07:21:19.880725Z",
     "iopub.status.busy": "2024-11-29T07:21:19.880467Z",
     "iopub.status.idle": "2024-11-29T07:21:19.888376Z",
     "shell.execute_reply": "2024-11-29T07:21:19.887887Z",
     "shell.execute_reply.started": "2024-11-29T07:21:19.880705Z"
    }
   },
   "outputs": [],
   "source": [
    "model.compile(optimizer=optimizer, loss=loss, metrics=[\"accuracy\"])"
   ]
  },
  {
   "cell_type": "markdown",
   "id": "42fcef95-384e-45b2-ad91-8eebf38da4a1",
   "metadata": {},
   "source": [
    "We will fit the model on each batch of 32 images. After cycling to all batches, we will have completed one epoch."
   ]
  },
  {
   "cell_type": "code",
   "execution_count": 92,
   "id": "fc74e83e-da39-477e-be5e-5eb6a40f9089",
   "metadata": {
    "execution": {
     "iopub.execute_input": "2024-11-28T19:58:41.672982Z",
     "iopub.status.busy": "2024-11-28T19:58:41.672682Z",
     "iopub.status.idle": "2024-11-28T19:59:53.004928Z",
     "shell.execute_reply": "2024-11-28T19:59:53.004352Z",
     "shell.execute_reply.started": "2024-11-28T19:58:41.672963Z"
    }
   },
   "outputs": [
    {
     "name": "stdout",
     "output_type": "stream",
     "text": [
      "Epoch 1/10\n",
      "\u001b[1m96/96\u001b[0m \u001b[32m━━━━━━━━━━━━━━━━━━━━\u001b[0m\u001b[37m\u001b[0m \u001b[1m16s\u001b[0m 112ms/step - accuracy: 0.5788 - loss: 1.5939 - val_accuracy: 0.7713 - val_loss: 0.7887\n",
      "Epoch 2/10\n",
      "\u001b[1m96/96\u001b[0m \u001b[32m━━━━━━━━━━━━━━━━━━━━\u001b[0m\u001b[37m\u001b[0m \u001b[1m6s\u001b[0m 63ms/step - accuracy: 0.8358 - loss: 0.5021 - val_accuracy: 0.7830 - val_loss: 0.7465\n",
      "Epoch 3/10\n",
      "\u001b[1m96/96\u001b[0m \u001b[32m━━━━━━━━━━━━━━━━━━━━\u001b[0m\u001b[37m\u001b[0m \u001b[1m6s\u001b[0m 65ms/step - accuracy: 0.9062 - loss: 0.2998 - val_accuracy: 0.7889 - val_loss: 0.8590\n",
      "Epoch 4/10\n",
      "\u001b[1m96/96\u001b[0m \u001b[32m━━━━━━━━━━━━━━━━━━━━\u001b[0m\u001b[37m\u001b[0m \u001b[1m6s\u001b[0m 65ms/step - accuracy: 0.9144 - loss: 0.2523 - val_accuracy: 0.7889 - val_loss: 0.9633\n",
      "Epoch 5/10\n",
      "\u001b[1m96/96\u001b[0m \u001b[32m━━━━━━━━━━━━━━━━━━━━\u001b[0m\u001b[37m\u001b[0m \u001b[1m6s\u001b[0m 61ms/step - accuracy: 0.9554 - loss: 0.1316 - val_accuracy: 0.8270 - val_loss: 0.7505\n",
      "Epoch 6/10\n",
      "\u001b[1m96/96\u001b[0m \u001b[32m━━━━━━━━━━━━━━━━━━━━\u001b[0m\u001b[37m\u001b[0m \u001b[1m6s\u001b[0m 62ms/step - accuracy: 0.9733 - loss: 0.0927 - val_accuracy: 0.8094 - val_loss: 0.8519\n",
      "Epoch 7/10\n",
      "\u001b[1m96/96\u001b[0m \u001b[32m━━━━━━━━━━━━━━━━━━━━\u001b[0m\u001b[37m\u001b[0m \u001b[1m6s\u001b[0m 63ms/step - accuracy: 0.9743 - loss: 0.0762 - val_accuracy: 0.8240 - val_loss: 0.8847\n",
      "Epoch 8/10\n",
      "\u001b[1m96/96\u001b[0m \u001b[32m━━━━━━━━━━━━━━━━━━━━\u001b[0m\u001b[37m\u001b[0m \u001b[1m6s\u001b[0m 65ms/step - accuracy: 0.9899 - loss: 0.0400 - val_accuracy: 0.8182 - val_loss: 0.8398\n",
      "Epoch 9/10\n",
      "\u001b[1m96/96\u001b[0m \u001b[32m━━━━━━━━━━━━━━━━━━━━\u001b[0m\u001b[37m\u001b[0m \u001b[1m6s\u001b[0m 63ms/step - accuracy: 0.9847 - loss: 0.0504 - val_accuracy: 0.8123 - val_loss: 0.8708\n",
      "Epoch 10/10\n",
      "\u001b[1m96/96\u001b[0m \u001b[32m━━━━━━━━━━━━━━━━━━━━\u001b[0m\u001b[37m\u001b[0m \u001b[1m6s\u001b[0m 64ms/step - accuracy: 0.9981 - loss: 0.0194 - val_accuracy: 0.8152 - val_loss: 0.8309\n"
     ]
    },
    {
     "data": {
      "text/plain": [
       "<keras.src.callbacks.history.History at 0x7f9c78868b90>"
      ]
     },
     "execution_count": 92,
     "metadata": {},
     "output_type": "execute_result"
    }
   ],
   "source": [
    "history = model.fit(train_ds, epochs=10, validation_data=val_ds)"
   ]
  },
  {
   "cell_type": "markdown",
   "id": "fd59cbe5-2811-4686-abad-8f1b4e03871f",
   "metadata": {
    "execution": {
     "iopub.execute_input": "2024-11-28T20:00:15.242917Z",
     "iopub.status.busy": "2024-11-28T20:00:15.242584Z",
     "iopub.status.idle": "2024-11-28T20:00:15.247561Z",
     "shell.execute_reply": "2024-11-28T20:00:15.246940Z",
     "shell.execute_reply.started": "2024-11-28T20:00:15.242894Z"
    }
   },
   "source": [
    "Accuracy on training is quite high, but validation not as high. This indicates overfitting."
   ]
  },
  {
   "cell_type": "code",
   "execution_count": 98,
   "id": "c2003224-8315-47e3-aae6-a9cbd6fffc61",
   "metadata": {
    "execution": {
     "iopub.execute_input": "2024-11-28T20:02:54.473119Z",
     "iopub.status.busy": "2024-11-28T20:02:54.472800Z",
     "iopub.status.idle": "2024-11-28T20:02:54.621894Z",
     "shell.execute_reply": "2024-11-28T20:02:54.621266Z",
     "shell.execute_reply.started": "2024-11-28T20:02:54.473096Z"
    }
   },
   "outputs": [
    {
     "data": {
      "text/plain": [
       "<matplotlib.legend.Legend at 0x7f9c6885a210>"
      ]
     },
     "execution_count": 98,
     "metadata": {},
     "output_type": "execute_result"
    },
    {
     "data": {
      "image/png": "[encoded data removed]",
      "text/plain": [
       "<Figure size 640x480 with 1 Axes>"
      ]
     },
     "metadata": {},
     "output_type": "display_data"
    }
   ],
   "source": [
    "import matplotlib.pyplot as plt\n",
    "\n",
    "\n",
    "plt.plot(history.history[\"accuracy\"], label=\"train\")\n",
    "plt.plot(history.history[\"val_accuracy\"], label=\"validation\")\n",
    "plt.xticks(range(len(history.history[\"accuracy\"])))\n",
    "plt.legend()"
   ]
  },
  {
   "cell_type": "markdown",
   "id": "99c91838-26fe-4df1-ad30-671842f049a3",
   "metadata": {},
   "source": [
    "## 8.6 [Adjusting the Learning Rate](https://github.com/DataTalksClub/machine-learning-zoomcamp/blob/master/08-deep-learning/06-learning-rate.md)"
   ]
  },
  {
   "cell_type": "markdown",
   "id": "9cd4fb61-5cb3-44f1-923b-772d8b6fc07a",
   "metadata": {},
   "source": [
    "Learning rate is one of the most important hyperparameters for neural network training. If learning rate is too high, training will be relatively faster, but you'll likely overfit and perform poorly on validation. if it is too low, model training will be too slow. You'll likely underfit and perform poorly on validation. If you balance the learning rate well, the model training will not take too long and perform well on the validation data."
   ]
  },
  {
   "cell_type": "code",
   "execution_count": 37,
   "id": "98b682d5-6277-4a8c-a1e6-f0054aaabae2",
   "metadata": {
    "execution": {
     "iopub.execute_input": "2024-11-29T07:27:08.810369Z",
     "iopub.status.busy": "2024-11-29T07:27:08.810014Z",
     "iopub.status.idle": "2024-11-29T07:27:08.815060Z",
     "shell.execute_reply": "2024-11-29T07:27:08.814462Z",
     "shell.execute_reply.started": "2024-11-29T07:27:08.810347Z"
    }
   },
   "outputs": [],
   "source": [
    "def _create_architecture():\n",
    "    base_model = Xception(\n",
    "        weights=\"imagenet\", \n",
    "        include_top=False, \n",
    "        input_shape=(150, 150, 3))\n",
    "    \n",
    "    base_model.trainable = False  \n",
    "    inputs = tf.keras.Input(shape=(150, 150, 3))\n",
    "    base = base_model(inputs, training=False)  # we want to apply inputs to base_model and the result is called base\n",
    "    vectors = tf.keras.layers.GlobalAveragePooling2D()(base)\n",
    "    outputs = tf.keras.layers.Dense(10)(vectors)\n",
    "    model = tf.keras.Model(inputs, outputs)  # we need to wrap a keras model around inputs and outputs\n",
    "    \n",
    "    return model\n",
    "\n",
    "def make_model(learning_rate=0.01):\n",
    "    model = _create_architecture()\n",
    "    optimizer = tf.keras.optimizers.Adam(learning_rate=learning_rate)\n",
    "    loss = tf.keras.losses.CategoricalCrossentropy(from_logits=True)\n",
    "\n",
    "    model.compile(\n",
    "        optimizer=optimizer, \n",
    "        loss=loss, \n",
    "        metrics=[\"accuracy\"]\n",
    "    )\n",
    "\n",
    "    return model    "
   ]
  },
  {
   "cell_type": "code",
   "execution_count": 42,
   "id": "cd688f9d-5259-4af2-b3d0-deecbc352ef0",
   "metadata": {
    "execution": {
     "iopub.execute_input": "2024-11-29T07:32:58.092254Z",
     "iopub.status.busy": "2024-11-29T07:32:58.091914Z",
     "iopub.status.idle": "2024-11-29T07:36:29.272595Z",
     "shell.execute_reply": "2024-11-29T07:36:29.272045Z",
     "shell.execute_reply.started": "2024-11-29T07:32:58.092232Z"
    }
   },
   "outputs": [
    {
     "name": "stdout",
     "output_type": "stream",
     "text": [
      "0.001\n",
      "Epoch 1/10\n",
      "\u001b[1m96/96\u001b[0m \u001b[32m━━━━━━━━━━━━━━━━━━━━\u001b[0m\u001b[37m\u001b[0m \u001b[1m15s\u001b[0m 103ms/step - accuracy: 0.4708 - loss: 1.5176 - val_accuracy: 0.7889 - val_loss: 0.7233\n",
      "Epoch 2/10\n",
      "\u001b[1m96/96\u001b[0m \u001b[32m━━━━━━━━━━━━━━━━━━━━\u001b[0m\u001b[37m\u001b[0m \u001b[1m6s\u001b[0m 57ms/step - accuracy: 0.7718 - loss: 0.6571 - val_accuracy: 0.8035 - val_loss: 0.6508\n",
      "Epoch 3/10\n",
      "\u001b[1m96/96\u001b[0m \u001b[32m━━━━━━━━━━━━━━━━━━━━\u001b[0m\u001b[37m\u001b[0m \u001b[1m6s\u001b[0m 57ms/step - accuracy: 0.8311 - loss: 0.5083 - val_accuracy: 0.8123 - val_loss: 0.5854\n",
      "Epoch 4/10\n",
      "\u001b[1m96/96\u001b[0m \u001b[32m━━━━━━━━━━━━━━━━━━━━\u001b[0m\u001b[37m\u001b[0m \u001b[1m6s\u001b[0m 59ms/step - accuracy: 0.8585 - loss: 0.4293 - val_accuracy: 0.8299 - val_loss: 0.5490\n",
      "Epoch 5/10\n",
      "\u001b[1m96/96\u001b[0m \u001b[32m━━━━━━━━━━━━━━━━━━━━\u001b[0m\u001b[37m\u001b[0m \u001b[1m6s\u001b[0m 59ms/step - accuracy: 0.8828 - loss: 0.3799 - val_accuracy: 0.8123 - val_loss: 0.5650\n",
      "Epoch 6/10\n",
      "\u001b[1m96/96\u001b[0m \u001b[32m━━━━━━━━━━━━━━━━━━━━\u001b[0m\u001b[37m\u001b[0m \u001b[1m6s\u001b[0m 61ms/step - accuracy: 0.9043 - loss: 0.3230 - val_accuracy: 0.8123 - val_loss: 0.5563\n",
      "Epoch 7/10\n",
      "\u001b[1m96/96\u001b[0m \u001b[32m━━━━━━━━━━━━━━━━━━━━\u001b[0m\u001b[37m\u001b[0m \u001b[1m6s\u001b[0m 59ms/step - accuracy: 0.9344 - loss: 0.2679 - val_accuracy: 0.8211 - val_loss: 0.5492\n",
      "Epoch 8/10\n",
      "\u001b[1m96/96\u001b[0m \u001b[32m━━━━━━━━━━━━━━━━━━━━\u001b[0m\u001b[37m\u001b[0m \u001b[1m6s\u001b[0m 59ms/step - accuracy: 0.9415 - loss: 0.2452 - val_accuracy: 0.8182 - val_loss: 0.5299\n",
      "Epoch 9/10\n",
      "\u001b[1m96/96\u001b[0m \u001b[32m━━━━━━━━━━━━━━━━━━━━\u001b[0m\u001b[37m\u001b[0m \u001b[1m6s\u001b[0m 61ms/step - accuracy: 0.9493 - loss: 0.2243 - val_accuracy: 0.8211 - val_loss: 0.5355\n",
      "Epoch 10/10\n",
      "\u001b[1m96/96\u001b[0m \u001b[32m━━━━━━━━━━━━━━━━━━━━\u001b[0m\u001b[37m\u001b[0m \u001b[1m6s\u001b[0m 59ms/step - accuracy: 0.9611 - loss: 0.1966 - val_accuracy: 0.8123 - val_loss: 0.5356\n",
      "\n",
      "\n",
      "\n",
      "0.01\n",
      "Epoch 1/10\n",
      "\u001b[1m96/96\u001b[0m \u001b[32m━━━━━━━━━━━━━━━━━━━━\u001b[0m\u001b[37m\u001b[0m \u001b[1m15s\u001b[0m 102ms/step - accuracy: 0.5815 - loss: 1.6829 - val_accuracy: 0.7654 - val_loss: 0.8521\n",
      "Epoch 2/10\n",
      "\u001b[1m96/96\u001b[0m \u001b[32m━━━━━━━━━━━━━━━━━━━━\u001b[0m\u001b[37m\u001b[0m \u001b[1m15s\u001b[0m 60ms/step - accuracy: 0.8106 - loss: 0.5910 - val_accuracy: 0.7654 - val_loss: 0.8438\n",
      "Epoch 3/10\n",
      "\u001b[1m96/96\u001b[0m \u001b[32m━━━━━━━━━━━━━━━━━━━━\u001b[0m\u001b[37m\u001b[0m \u001b[1m6s\u001b[0m 57ms/step - accuracy: 0.8663 - loss: 0.3873 - val_accuracy: 0.7977 - val_loss: 0.9874\n",
      "Epoch 4/10\n",
      "\u001b[1m96/96\u001b[0m \u001b[32m━━━━━━━━━━━━━━━━━━━━\u001b[0m\u001b[37m\u001b[0m \u001b[1m6s\u001b[0m 59ms/step - accuracy: 0.9203 - loss: 0.2171 - val_accuracy: 0.7566 - val_loss: 1.0730\n",
      "Epoch 5/10\n",
      "\u001b[1m96/96\u001b[0m \u001b[32m━━━━━━━━━━━━━━━━━━━━\u001b[0m\u001b[37m\u001b[0m \u001b[1m6s\u001b[0m 58ms/step - accuracy: 0.9323 - loss: 0.2134 - val_accuracy: 0.8035 - val_loss: 0.8117\n",
      "Epoch 6/10\n",
      "\u001b[1m96/96\u001b[0m \u001b[32m━━━━━━━━━━━━━━━━━━━━\u001b[0m\u001b[37m\u001b[0m \u001b[1m6s\u001b[0m 59ms/step - accuracy: 0.9614 - loss: 0.1090 - val_accuracy: 0.8211 - val_loss: 0.8010\n",
      "Epoch 7/10\n",
      "\u001b[1m96/96\u001b[0m \u001b[32m━━━━━━━━━━━━━━━━━━━━\u001b[0m\u001b[37m\u001b[0m \u001b[1m6s\u001b[0m 60ms/step - accuracy: 0.9812 - loss: 0.0541 - val_accuracy: 0.7771 - val_loss: 1.1464\n",
      "Epoch 8/10\n",
      "\u001b[1m96/96\u001b[0m \u001b[32m━━━━━━━━━━━━━━━━━━━━\u001b[0m\u001b[37m\u001b[0m \u001b[1m6s\u001b[0m 60ms/step - accuracy: 0.9695 - loss: 0.0902 - val_accuracy: 0.8123 - val_loss: 0.9369\n",
      "Epoch 9/10\n",
      "\u001b[1m96/96\u001b[0m \u001b[32m━━━━━━━━━━━━━━━━━━━━\u001b[0m\u001b[37m\u001b[0m \u001b[1m6s\u001b[0m 58ms/step - accuracy: 0.9845 - loss: 0.0537 - val_accuracy: 0.8035 - val_loss: 0.9657\n",
      "Epoch 10/10\n",
      "\u001b[1m96/96\u001b[0m \u001b[32m━━━━━━━━━━━━━━━━━━━━\u001b[0m\u001b[37m\u001b[0m \u001b[1m6s\u001b[0m 60ms/step - accuracy: 0.9901 - loss: 0.0371 - val_accuracy: 0.8240 - val_loss: 0.9260\n",
      "\n",
      "\n",
      "\n",
      "0.1\n",
      "Epoch 1/10\n",
      "\u001b[1m96/96\u001b[0m \u001b[32m━━━━━━━━━━━━━━━━━━━━\u001b[0m\u001b[37m\u001b[0m \u001b[1m15s\u001b[0m 103ms/step - accuracy: 0.5531 - loss: 14.4601 - val_accuracy: 0.7273 - val_loss: 7.2077\n",
      "Epoch 2/10\n",
      "\u001b[1m96/96\u001b[0m \u001b[32m━━━━━━━━━━━━━━━━━━━━\u001b[0m\u001b[37m\u001b[0m \u001b[1m6s\u001b[0m 59ms/step - accuracy: 0.7893 - loss: 4.0906 - val_accuracy: 0.7126 - val_loss: 9.6982\n",
      "Epoch 3/10\n",
      "\u001b[1m96/96\u001b[0m \u001b[32m━━━━━━━━━━━━━━━━━━━━\u001b[0m\u001b[37m\u001b[0m \u001b[1m6s\u001b[0m 60ms/step - accuracy: 0.8369 - loss: 3.1922 - val_accuracy: 0.7859 - val_loss: 5.9080\n",
      "Epoch 4/10\n",
      "\u001b[1m96/96\u001b[0m \u001b[32m━━━━━━━━━━━━━━━━━━━━\u001b[0m\u001b[37m\u001b[0m \u001b[1m6s\u001b[0m 59ms/step - accuracy: 0.8426 - loss: 3.4402 - val_accuracy: 0.7771 - val_loss: 8.7444\n",
      "Epoch 5/10\n",
      "\u001b[1m96/96\u001b[0m \u001b[32m━━━━━━━━━━━━━━━━━━━━\u001b[0m\u001b[37m\u001b[0m \u001b[1m6s\u001b[0m 60ms/step - accuracy: 0.8870 - loss: 1.9617 - val_accuracy: 0.7654 - val_loss: 8.3521\n",
      "Epoch 6/10\n",
      "\u001b[1m96/96\u001b[0m \u001b[32m━━━━━━━━━━━━━━━━━━━━\u001b[0m\u001b[37m\u001b[0m \u001b[1m6s\u001b[0m 62ms/step - accuracy: 0.9058 - loss: 1.9481 - val_accuracy: 0.7977 - val_loss: 7.6104\n",
      "Epoch 7/10\n",
      "\u001b[1m96/96\u001b[0m \u001b[32m━━━━━━━━━━━━━━━━━━━━\u001b[0m\u001b[37m\u001b[0m \u001b[1m6s\u001b[0m 59ms/step - accuracy: 0.9244 - loss: 1.4313 - val_accuracy: 0.7830 - val_loss: 9.6331\n",
      "Epoch 8/10\n",
      "\u001b[1m96/96\u001b[0m \u001b[32m━━━━━━━━━━━━━━━━━━━━\u001b[0m\u001b[37m\u001b[0m \u001b[1m6s\u001b[0m 58ms/step - accuracy: 0.8996 - loss: 2.0167 - val_accuracy: 0.7801 - val_loss: 8.5245\n",
      "Epoch 9/10\n",
      "\u001b[1m96/96\u001b[0m \u001b[32m━━━━━━━━━━━━━━━━━━━━\u001b[0m\u001b[37m\u001b[0m \u001b[1m6s\u001b[0m 60ms/step - accuracy: 0.9394 - loss: 1.1271 - val_accuracy: 0.8035 - val_loss: 8.9306\n",
      "Epoch 10/10\n",
      "\u001b[1m96/96\u001b[0m \u001b[32m━━━━━━━━━━━━━━━━━━━━\u001b[0m\u001b[37m\u001b[0m \u001b[1m6s\u001b[0m 61ms/step - accuracy: 0.9357 - loss: 1.2218 - val_accuracy: 0.7947 - val_loss: 10.7231\n",
      "\n",
      "\n",
      "\n"
     ]
    }
   ],
   "source": [
    "scores = {}\n",
    "for lr in [0.0001, 0.001, 0.01, 0.1]:\n",
    "    print(lr)\n",
    "    model = make_model(learning_rate=lr)\n",
    "    history = model.fit(train_ds, epochs=10, validation_data=val_ds)\n",
    "    scores[lr] = history.history\n",
    "    print(\"\\n\\n\")"
   ]
  },
  {
   "cell_type": "code",
   "execution_count": 69,
   "id": "a01e60d3-9bc9-40f1-b90d-bb0a4a8cc033",
   "metadata": {
    "execution": {
     "iopub.execute_input": "2024-11-29T07:52:08.123080Z",
     "iopub.status.busy": "2024-11-29T07:52:08.122493Z",
     "iopub.status.idle": "2024-11-29T07:52:08.455390Z",
     "shell.execute_reply": "2024-11-29T07:52:08.454789Z",
     "shell.execute_reply.started": "2024-11-29T07:52:08.123054Z"
    }
   },
   "outputs": [
    {
     "data": {
      "image/png": "[encoded data removed]",
      "text/plain": [
       "<Figure size 1500x500 with 2 Axes>"
      ]
     },
     "metadata": {},
     "output_type": "display_data"
    }
   ],
   "source": [
    "import matplotlib.pyplot as plt\n",
    "\n",
    "fig, ax = plt.subplots(nrows=1, ncols=2, figsize=(15,5))\n",
    "\n",
    "for lr, history in scores.items():\n",
    "    ax[0].plot(history[\"accuracy\"], label=f\"lr={lr}\")\n",
    "    ax[1].plot(history[\"val_accuracy\"], label=f\"lr={lr}\")\n",
    "ax[0].legend()\n",
    "ax[1].legend()\n",
    "ax[0].set_ylim([0, 1])\n",
    "ax[1].set_ylim([0, 1])\n",
    "ax[0].set_title(\"Training\")\n",
    "ax[1].set_title(\"Validation\")\n",
    "ax[0].set_xticks(np.arange(0,10));\n",
    "ax[1].set_xticks(np.arange(0,10));"
   ]
  },
  {
   "cell_type": "markdown",
   "id": "5de614e5-fc9d-44de-8721-04f466d4689b",
   "metadata": {},
   "source": [
    "The validation score converges to about 0.8. The orange line (lr=0.001) performs the best. We will pick that one."
   ]
  },
  {
   "cell_type": "code",
   "execution_count": null,
   "id": "c7172326-06ad-4c95-ac28-27f16a73b0c3",
   "metadata": {},
   "outputs": [],
   "source": []
  }
 ],
 "metadata": {
  "kernelspec": {
   "display_name": "saturn (Python 3)",
   "language": "python",
   "name": "python3"
  },
  "language_info": {
   "codemirror_mode": {
    "name": "ipython",
    "version": 3
   },
   "file_extension": ".py",
   "mimetype": "text/x-python",
   "name": "python",
   "nbconvert_exporter": "python",
   "pygments_lexer": "ipython3",
   "version": "3.12.7"
  }
 },
 "nbformat": 4,
 "nbformat_minor": 5
}
