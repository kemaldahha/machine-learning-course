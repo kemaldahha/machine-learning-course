{
 "cells": [
  {
   "cell_type": "markdown",
   "id": "d9757e00-1647-4083-a983-177a8f83abd7",
   "metadata": {},
   "source": [
    "# Week 8 Notes"
   ]
  },
  {
   "cell_type": "markdown",
   "id": "e91b509e-a1b4-438e-93dd-86e5de5907e4",
   "metadata": {},
   "source": [
    "## 8.1 [Fashion classification](https://github.com/DataTalksClub/machine-learning-zoomcamp/blob/master/08-deep-learning/01-fashion-classification.md)"
   ]
  },
  {
   "cell_type": "markdown",
   "id": "7a8d6ffc-cc2d-4188-b524-a518d8835aa6",
   "metadata": {},
   "source": [
    "This week our data will be images rather than tabular data. The images are of clothing and the objective is to classify the images into one of 10 categories (multi-class classification).\n",
    "\n",
    "A user can for example upload a picture to a website to sell clothing. Then there is a service which will suggest a category to the user. The classification service will use a neural network.\n",
    "\n",
    "For training neural networks, we will use Tensorflow and Keras. For further theoretical understanding, checkout [cs231n](htts://cs231n.github.io)."
   ]
  },
  {
   "cell_type": "markdown",
   "id": "8757269b-6aeb-4bf3-9ee8-a13d8ded1ad0",
   "metadata": {},
   "source": [
    "## 8.1b [Setting up the Environment on Saturn Cloud](https://github.com/DataTalksClub/machine-learning-zoomcamp/blob/master/08-deep-learning/01b-saturn-cloud.md)\n"
   ]
  },
  {
   "cell_type": "markdown",
   "id": "e3938c96-ac42-43c9-bf50-2ea5ae8811f7",
   "metadata": {},
   "source": [
    "Set up Saturn Cloud with Github. Instead of using my general github SSH key, I created a specific one for my ml-zoomcamp repository.\n",
    "\n",
    "Steps I followed:\n",
    "1. Generate a new SSH key pair\n",
    "1. Added public key to Github (in the settings of the repository, not account-level settings)\n",
    "1. Associate the key with the repository by adding this to `~/.ssh/config`\n",
    "    ```bash\n",
    "    Host github-my-repo\n",
    "    HostName github.com\n",
    "    User git\n",
    "    IdentityFile ~/.ssh/my-repo-key\n",
    "    ```\n",
    "1. Add private key to Saturn om (same as course instruction)\n",
    "\n",
    "I ran into an error in Saturn terminal when I tried to verify my SSH connection or when I did `SSH -V`:\n",
    "\n",
    "```\n",
    "Saturn Cloud: OpenSSL version mismatch. Built against 30000020, you have 30300020\n",
    "```\n",
    "\n",
    "This error occurs because the OpenSSH client is built against a specific version of OpenSSL (e.g., 3.0.0), but the system tries to use a different version (e.g., 3.0.3). This mismatch prevents the SSH client from working properly.\n",
    "\n",
    "Solution:\n",
    "Set the correct OpenSSL library path by running the following line in the terminal:\n",
    "```bash\n",
    "export LD_LIBRARY_PATH=/usr/lib/x86_64-linux-gnu\n",
    "```\n"
   ]
  },
  {
   "cell_type": "markdown",
   "id": "23fae8c5-c122-4ab5-9b2b-182eedbf0e70",
   "metadata": {},
   "source": [
    "## 8.2 [TensorFlow and Keras](https://github.com/DataTalksClub/machine-learning-zoomcamp/blob/master/08-deep-learning/02-tensorflow-keras.md)\n"
   ]
  },
  {
   "cell_type": "code",
   "execution_count": 3,
   "id": "c157b6be-1a71-406a-b865-7b42554e750a",
   "metadata": {
    "execution": {
     "iopub.execute_input": "2024-11-28T18:14:52.186528Z",
     "iopub.status.busy": "2024-11-28T18:14:52.186176Z",
     "iopub.status.idle": "2024-11-28T18:14:52.189776Z",
     "shell.execute_reply": "2024-11-28T18:14:52.189102Z",
     "shell.execute_reply.started": "2024-11-28T18:14:52.186508Z"
    }
   },
   "outputs": [],
   "source": [
    "import numpy as np"
   ]
  },
  {
   "cell_type": "code",
   "execution_count": 4,
   "id": "2abb9f21-41d8-4add-9363-d78fede23062",
   "metadata": {
    "execution": {
     "iopub.execute_input": "2024-11-28T18:14:52.736061Z",
     "iopub.status.busy": "2024-11-28T18:14:52.735721Z",
     "iopub.status.idle": "2024-11-28T18:14:52.740489Z",
     "shell.execute_reply": "2024-11-28T18:14:52.739941Z",
     "shell.execute_reply.started": "2024-11-28T18:14:52.736040Z"
    }
   },
   "outputs": [],
   "source": [
    "import tensorflow as tf\n",
    "from tensorflow.keras.utils import load_img"
   ]
  },
  {
   "cell_type": "code",
   "execution_count": 5,
   "id": "323f8d2f-1fa7-41c5-bcb2-ead3e54220b5",
   "metadata": {
    "execution": {
     "iopub.execute_input": "2024-11-28T18:14:53.922498Z",
     "iopub.status.busy": "2024-11-28T18:14:53.922147Z",
     "iopub.status.idle": "2024-11-28T18:14:53.925440Z",
     "shell.execute_reply": "2024-11-28T18:14:53.924853Z",
     "shell.execute_reply.started": "2024-11-28T18:14:53.922477Z"
    }
   },
   "outputs": [],
   "source": [
    "path = \"./clothing-dataset-small/train/t-shirt/\"\n",
    "name = \"5f0a3fa0-6a3d-4b68-b213-72766a643de7.jpg\""
   ]
  },
  {
   "cell_type": "code",
   "execution_count": 6,
   "id": "f7812bb3-b6e4-48cf-8635-efe36f4a4c1d",
   "metadata": {
    "execution": {
     "iopub.execute_input": "2024-11-28T18:14:54.730133Z",
     "iopub.status.busy": "2024-11-28T18:14:54.729762Z",
     "iopub.status.idle": "2024-11-28T18:14:54.733296Z",
     "shell.execute_reply": "2024-11-28T18:14:54.732698Z",
     "shell.execute_reply.started": "2024-11-28T18:14:54.730109Z"
    }
   },
   "outputs": [],
   "source": [
    "fullname = f\"{path}/{name}\""
   ]
  },
  {
   "cell_type": "code",
   "execution_count": 7,
   "id": "a6ac2d6b-f7ab-407f-9d78-05d41c9f8bed",
   "metadata": {
    "execution": {
     "iopub.execute_input": "2024-11-28T18:14:55.514794Z",
     "iopub.status.busy": "2024-11-28T18:14:55.514478Z",
     "iopub.status.idle": "2024-11-28T18:14:55.579558Z",
     "shell.execute_reply": "2024-11-28T18:14:55.579007Z",
     "shell.execute_reply.started": "2024-11-28T18:14:55.514773Z"
    }
   },
   "outputs": [],
   "source": [
    "img = load_img(fullname, target_size=(299, 299))\n"
   ]
  },
  {
   "cell_type": "code",
   "execution_count": 8,
   "id": "9a476675-408e-4959-be87-7eb52d744dac",
   "metadata": {
    "execution": {
     "iopub.execute_input": "2024-11-28T18:14:56.515136Z",
     "iopub.status.busy": "2024-11-28T18:14:56.514794Z",
     "iopub.status.idle": "2024-11-28T18:14:56.518492Z",
     "shell.execute_reply": "2024-11-28T18:14:56.517765Z",
     "shell.execute_reply.started": "2024-11-28T18:14:56.515115Z"
    }
   },
   "outputs": [],
   "source": [
    "x = np.array(img)"
   ]
  },
  {
   "cell_type": "markdown",
   "id": "9d2d9b09-47f9-469b-8ff4-589cce114628",
   "metadata": {},
   "source": [
    "## 8.3 [Pre-Trained Convolutional Neural Networks](https://github.com/DataTalksClub/machine-learning-zoomcamp/blob/master/08-deep-learning/03-pretrained-models.md)"
   ]
  },
  {
   "cell_type": "markdown",
   "id": "ce26b856-26e3-40dc-b7db-4f8586f3565c",
   "metadata": {},
   "source": [
    "We will use an off-the-shelf neural network. These are available in Keras."
   ]
  },
  {
   "cell_type": "code",
   "execution_count": 9,
   "id": "5764bceb-7e15-4740-b664-3f793a72d7e9",
   "metadata": {
    "execution": {
     "iopub.execute_input": "2024-11-28T18:14:59.537334Z",
     "iopub.status.busy": "2024-11-28T18:14:59.537008Z",
     "iopub.status.idle": "2024-11-28T18:14:59.542623Z",
     "shell.execute_reply": "2024-11-28T18:14:59.542115Z",
     "shell.execute_reply.started": "2024-11-28T18:14:59.537310Z"
    }
   },
   "outputs": [],
   "source": [
    "from tensorflow.keras.applications import Xception\n",
    "from tensorflow.keras.applications.xception import preprocess_input\n",
    "from tensorflow.keras.applications.xception import decode_predictions"
   ]
  },
  {
   "cell_type": "code",
   "execution_count": 10,
   "id": "a90bc072-6d43-4885-8fd3-843f3c21c3c2",
   "metadata": {
    "execution": {
     "iopub.execute_input": "2024-11-28T18:15:00.347008Z",
     "iopub.status.busy": "2024-11-28T18:15:00.346672Z",
     "iopub.status.idle": "2024-11-28T18:15:02.948759Z",
     "shell.execute_reply": "2024-11-28T18:15:02.948144Z",
     "shell.execute_reply.started": "2024-11-28T18:15:00.346984Z"
    }
   },
   "outputs": [
    {
     "name": "stderr",
     "output_type": "stream",
     "text": [
      "WARNING: All log messages before absl::InitializeLog() is called are written to STDERR\n",
      "I0000 00:00:1732817700.414887    1990 cuda_executor.cc:1015] successful NUMA node read from SysFS had negative value (-1), but there must be at least one NUMA node, so returning NUMA node zero. See more at https://github.com/torvalds/linux/blob/v6.0/Documentation/ABI/testing/sysfs-bus-pci#L344-L355\n",
      "I0000 00:00:1732817700.462702    1990 cuda_executor.cc:1015] successful NUMA node read from SysFS had negative value (-1), but there must be at least one NUMA node, so returning NUMA node zero. See more at https://github.com/torvalds/linux/blob/v6.0/Documentation/ABI/testing/sysfs-bus-pci#L344-L355\n",
      "I0000 00:00:1732817700.462939    1990 cuda_executor.cc:1015] successful NUMA node read from SysFS had negative value (-1), but there must be at least one NUMA node, so returning NUMA node zero. See more at https://github.com/torvalds/linux/blob/v6.0/Documentation/ABI/testing/sysfs-bus-pci#L344-L355\n",
      "I0000 00:00:1732817700.463984    1990 cuda_executor.cc:1015] successful NUMA node read from SysFS had negative value (-1), but there must be at least one NUMA node, so returning NUMA node zero. See more at https://github.com/torvalds/linux/blob/v6.0/Documentation/ABI/testing/sysfs-bus-pci#L344-L355\n",
      "I0000 00:00:1732817700.464203    1990 cuda_executor.cc:1015] successful NUMA node read from SysFS had negative value (-1), but there must be at least one NUMA node, so returning NUMA node zero. See more at https://github.com/torvalds/linux/blob/v6.0/Documentation/ABI/testing/sysfs-bus-pci#L344-L355\n",
      "I0000 00:00:1732817700.464350    1990 cuda_executor.cc:1015] successful NUMA node read from SysFS had negative value (-1), but there must be at least one NUMA node, so returning NUMA node zero. See more at https://github.com/torvalds/linux/blob/v6.0/Documentation/ABI/testing/sysfs-bus-pci#L344-L355\n",
      "I0000 00:00:1732817700.557669    1990 cuda_executor.cc:1015] successful NUMA node read from SysFS had negative value (-1), but there must be at least one NUMA node, so returning NUMA node zero. See more at https://github.com/torvalds/linux/blob/v6.0/Documentation/ABI/testing/sysfs-bus-pci#L344-L355\n",
      "I0000 00:00:1732817700.557887    1990 cuda_executor.cc:1015] successful NUMA node read from SysFS had negative value (-1), but there must be at least one NUMA node, so returning NUMA node zero. See more at https://github.com/torvalds/linux/blob/v6.0/Documentation/ABI/testing/sysfs-bus-pci#L344-L355\n",
      "I0000 00:00:1732817700.558071    1990 cuda_executor.cc:1015] successful NUMA node read from SysFS had negative value (-1), but there must be at least one NUMA node, so returning NUMA node zero. See more at https://github.com/torvalds/linux/blob/v6.0/Documentation/ABI/testing/sysfs-bus-pci#L344-L355\n",
      "2024-11-28 18:15:00.558192: I tensorflow/core/common_runtime/gpu/gpu_device.cc:2021] Created device /job:localhost/replica:0/task:0/device:GPU:0 with 13942 MB memory:  -> device: 0, name: Tesla T4, pci bus id: 0000:00:1e.0, compute capability: 7.5\n"
     ]
    }
   ],
   "source": [
    "model = Xception(\n",
    "    # include_top=True,\n",
    "    weights=\"imagenet\",\n",
    "    # input_tensor=None,\n",
    "    input_shape=(299, 299, 3),\n",
    "    # pooling=None,\n",
    "    # classes=1000,\n",
    "    # classifier_activation=\"softmax\",\n",
    ")"
   ]
  },
  {
   "cell_type": "markdown",
   "id": "8f1b82bc-9ad0-4bcf-8b1f-83b102a60ab1",
   "metadata": {},
   "source": [
    "`x` is a single image. `X` are multiple images."
   ]
  },
  {
   "cell_type": "code",
   "execution_count": 11,
   "id": "7c067443-ec84-4d90-9509-2d984d9692f1",
   "metadata": {
    "execution": {
     "iopub.execute_input": "2024-11-28T18:15:08.396077Z",
     "iopub.status.busy": "2024-11-28T18:15:08.395756Z",
     "iopub.status.idle": "2024-11-28T18:15:08.399545Z",
     "shell.execute_reply": "2024-11-28T18:15:08.398996Z",
     "shell.execute_reply.started": "2024-11-28T18:15:08.396055Z"
    }
   },
   "outputs": [],
   "source": [
    "X = np.array([x])"
   ]
  },
  {
   "cell_type": "code",
   "execution_count": 12,
   "id": "a26a2131-d095-4877-8b20-88c1b0e446ba",
   "metadata": {
    "execution": {
     "iopub.execute_input": "2024-11-28T18:15:09.359632Z",
     "iopub.status.busy": "2024-11-28T18:15:09.359304Z",
     "iopub.status.idle": "2024-11-28T18:15:09.365846Z",
     "shell.execute_reply": "2024-11-28T18:15:09.365275Z",
     "shell.execute_reply.started": "2024-11-28T18:15:09.359609Z"
    }
   },
   "outputs": [
    {
     "data": {
      "text/plain": [
       "(1, 299, 299, 3)"
      ]
     },
     "execution_count": 12,
     "metadata": {},
     "output_type": "execute_result"
    }
   ],
   "source": [
    "X.shape"
   ]
  },
  {
   "cell_type": "markdown",
   "id": "5290fae7-6ea8-4317-8376-48740f75ab63",
   "metadata": {},
   "source": [
    "We will first infer with the model without preprocessing the image. This gives bogus results as shown below."
   ]
  },
  {
   "cell_type": "code",
   "execution_count": 13,
   "id": "18ebb329-b6ac-4fcc-ad61-57f5792d1c95",
   "metadata": {
    "execution": {
     "iopub.execute_input": "2024-11-28T18:15:10.989332Z",
     "iopub.status.busy": "2024-11-28T18:15:10.988992Z",
     "iopub.status.idle": "2024-11-28T18:15:14.423788Z",
     "shell.execute_reply": "2024-11-28T18:15:14.423132Z",
     "shell.execute_reply.started": "2024-11-28T18:15:10.989310Z"
    }
   },
   "outputs": [
    {
     "name": "stderr",
     "output_type": "stream",
     "text": [
      "WARNING: All log messages before absl::InitializeLog() is called are written to STDERR\n",
      "I0000 00:00:1732817712.064428    2149 service.cc:146] XLA service 0x7f9c6c049420 initialized for platform CUDA (this does not guarantee that XLA will be used). Devices:\n",
      "I0000 00:00:1732817712.064461    2149 service.cc:154]   StreamExecutor device (0): Tesla T4, Compute Capability 7.5\n",
      "2024-11-28 18:15:12.101437: I tensorflow/compiler/mlir/tensorflow/utils/dump_mlir_util.cc:268] disabling MLIR crash reproducer, set env var `MLIR_CRASH_REPRODUCER_DIRECTORY` to enable.\n",
      "2024-11-28 18:15:12.480485: I external/local_xla/xla/stream_executor/cuda/cuda_dnn.cc:531] Loaded cuDNN version 8907\n"
     ]
    },
    {
     "name": "stdout",
     "output_type": "stream",
     "text": [
      "\u001b[1m1/1\u001b[0m \u001b[32m━━━━━━━━━━━━━━━━━━━━\u001b[0m\u001b[37m\u001b[0m \u001b[1m3s\u001b[0m 3s/step\n"
     ]
    },
    {
     "name": "stderr",
     "output_type": "stream",
     "text": [
      "I0000 00:00:1732817714.397196    2149 device_compiler.h:188] Compiled cluster using XLA!  This line is logged at most once for the lifetime of the process.\n"
     ]
    },
    {
     "data": {
      "text/plain": [
       "array([[0.0000000e+00, 0.0000000e+00, 0.0000000e+00, 0.0000000e+00,\n",
       "        0.0000000e+00, 0.0000000e+00, 0.0000000e+00, 0.0000000e+00,\n",
       "        0.0000000e+00, 0.0000000e+00, 0.0000000e+00, 0.0000000e+00,\n",
       "        0.0000000e+00, 0.0000000e+00, 0.0000000e+00, 0.0000000e+00,\n",
       "        0.0000000e+00, 0.0000000e+00, 0.0000000e+00, 0.0000000e+00,\n",
       "        0.0000000e+00, 0.0000000e+00, 0.0000000e+00, 0.0000000e+00,\n",
       "        0.0000000e+00, 0.0000000e+00, 0.0000000e+00, 0.0000000e+00,\n",
       "        0.0000000e+00, 0.0000000e+00, 0.0000000e+00, 0.0000000e+00,\n",
       "        0.0000000e+00, 0.0000000e+00, 0.0000000e+00, 0.0000000e+00,\n",
       "        0.0000000e+00, 0.0000000e+00, 0.0000000e+00, 0.0000000e+00,\n",
       "        0.0000000e+00, 0.0000000e+00, 0.0000000e+00, 0.0000000e+00,\n",
       "        0.0000000e+00, 0.0000000e+00, 0.0000000e+00, 0.0000000e+00,\n",
       "        0.0000000e+00, 0.0000000e+00, 0.0000000e+00, 0.0000000e+00,\n",
       "        0.0000000e+00, 0.0000000e+00, 0.0000000e+00, 0.0000000e+00,\n",
       "        0.0000000e+00, 0.0000000e+00, 0.0000000e+00, 0.0000000e+00,\n",
       "        0.0000000e+00, 0.0000000e+00, 0.0000000e+00, 0.0000000e+00,\n",
       "        0.0000000e+00, 0.0000000e+00, 0.0000000e+00, 0.0000000e+00,\n",
       "        0.0000000e+00, 0.0000000e+00, 0.0000000e+00, 0.0000000e+00,\n",
       "        0.0000000e+00, 0.0000000e+00, 0.0000000e+00, 0.0000000e+00,\n",
       "        0.0000000e+00, 0.0000000e+00, 0.0000000e+00, 0.0000000e+00,\n",
       "        0.0000000e+00, 0.0000000e+00, 0.0000000e+00, 0.0000000e+00,\n",
       "        0.0000000e+00, 0.0000000e+00, 0.0000000e+00, 0.0000000e+00,\n",
       "        0.0000000e+00, 0.0000000e+00, 0.0000000e+00, 0.0000000e+00,\n",
       "        0.0000000e+00, 0.0000000e+00, 0.0000000e+00, 0.0000000e+00,\n",
       "        0.0000000e+00, 0.0000000e+00, 0.0000000e+00, 0.0000000e+00,\n",
       "        0.0000000e+00, 0.0000000e+00, 0.0000000e+00, 0.0000000e+00,\n",
       "        0.0000000e+00, 0.0000000e+00, 4.3371609e-33, 0.0000000e+00,\n",
       "        0.0000000e+00, 0.0000000e+00, 0.0000000e+00, 0.0000000e+00,\n",
       "        0.0000000e+00, 0.0000000e+00, 0.0000000e+00, 0.0000000e+00,\n",
       "        0.0000000e+00, 0.0000000e+00, 0.0000000e+00, 0.0000000e+00,\n",
       "        0.0000000e+00, 0.0000000e+00, 0.0000000e+00, 0.0000000e+00,\n",
       "        0.0000000e+00, 0.0000000e+00, 0.0000000e+00, 0.0000000e+00,\n",
       "        0.0000000e+00, 0.0000000e+00, 0.0000000e+00, 0.0000000e+00,\n",
       "        0.0000000e+00, 0.0000000e+00, 0.0000000e+00, 0.0000000e+00,\n",
       "        0.0000000e+00, 0.0000000e+00, 0.0000000e+00, 1.4012985e-45,\n",
       "        0.0000000e+00, 0.0000000e+00, 0.0000000e+00, 1.3338680e-40,\n",
       "        0.0000000e+00, 0.0000000e+00, 0.0000000e+00, 0.0000000e+00,\n",
       "        0.0000000e+00, 0.0000000e+00, 0.0000000e+00, 0.0000000e+00,\n",
       "        0.0000000e+00, 0.0000000e+00, 0.0000000e+00, 0.0000000e+00,\n",
       "        0.0000000e+00, 0.0000000e+00, 0.0000000e+00, 0.0000000e+00,\n",
       "        0.0000000e+00, 0.0000000e+00, 0.0000000e+00, 0.0000000e+00,\n",
       "        0.0000000e+00, 0.0000000e+00, 0.0000000e+00, 0.0000000e+00,\n",
       "        0.0000000e+00, 0.0000000e+00, 0.0000000e+00, 0.0000000e+00,\n",
       "        0.0000000e+00, 0.0000000e+00, 5.8923199e-41, 0.0000000e+00,\n",
       "        0.0000000e+00, 0.0000000e+00, 0.0000000e+00, 0.0000000e+00,\n",
       "        0.0000000e+00, 0.0000000e+00, 5.5071030e-43, 0.0000000e+00,\n",
       "        0.0000000e+00, 0.0000000e+00, 0.0000000e+00, 0.0000000e+00,\n",
       "        0.0000000e+00, 0.0000000e+00, 0.0000000e+00, 0.0000000e+00,\n",
       "        0.0000000e+00, 0.0000000e+00, 0.0000000e+00, 0.0000000e+00,\n",
       "        0.0000000e+00, 0.0000000e+00, 0.0000000e+00, 0.0000000e+00,\n",
       "        0.0000000e+00, 0.0000000e+00, 0.0000000e+00, 0.0000000e+00,\n",
       "        0.0000000e+00, 0.0000000e+00, 0.0000000e+00, 0.0000000e+00,\n",
       "        0.0000000e+00, 0.0000000e+00, 0.0000000e+00, 0.0000000e+00,\n",
       "        0.0000000e+00, 0.0000000e+00, 0.0000000e+00, 0.0000000e+00,\n",
       "        0.0000000e+00, 0.0000000e+00, 0.0000000e+00, 0.0000000e+00,\n",
       "        0.0000000e+00, 0.0000000e+00, 0.0000000e+00, 2.8025969e-45,\n",
       "        1.5635122e-38, 0.0000000e+00, 0.0000000e+00, 0.0000000e+00,\n",
       "        0.0000000e+00, 0.0000000e+00, 0.0000000e+00, 0.0000000e+00,\n",
       "        0.0000000e+00, 0.0000000e+00, 0.0000000e+00, 4.9835179e-33,\n",
       "        0.0000000e+00, 0.0000000e+00, 0.0000000e+00, 0.0000000e+00,\n",
       "        0.0000000e+00, 0.0000000e+00, 0.0000000e+00, 0.0000000e+00,\n",
       "        0.0000000e+00, 0.0000000e+00, 0.0000000e+00, 0.0000000e+00,\n",
       "        0.0000000e+00, 0.0000000e+00, 0.0000000e+00, 0.0000000e+00,\n",
       "        0.0000000e+00, 0.0000000e+00, 0.0000000e+00, 0.0000000e+00,\n",
       "        0.0000000e+00, 0.0000000e+00, 0.0000000e+00, 0.0000000e+00,\n",
       "        0.0000000e+00, 1.1012267e-31, 0.0000000e+00, 0.0000000e+00,\n",
       "        0.0000000e+00, 0.0000000e+00, 0.0000000e+00, 0.0000000e+00,\n",
       "        0.0000000e+00, 0.0000000e+00, 0.0000000e+00, 0.0000000e+00,\n",
       "        0.0000000e+00, 3.2472584e-39, 0.0000000e+00, 0.0000000e+00,\n",
       "        0.0000000e+00, 0.0000000e+00, 0.0000000e+00, 0.0000000e+00,\n",
       "        0.0000000e+00, 0.0000000e+00, 0.0000000e+00, 0.0000000e+00,\n",
       "        0.0000000e+00, 0.0000000e+00, 0.0000000e+00, 0.0000000e+00,\n",
       "        0.0000000e+00, 0.0000000e+00, 0.0000000e+00, 0.0000000e+00,\n",
       "        0.0000000e+00, 0.0000000e+00, 0.0000000e+00, 0.0000000e+00,\n",
       "        0.0000000e+00, 0.0000000e+00, 0.0000000e+00, 0.0000000e+00,\n",
       "        0.0000000e+00, 0.0000000e+00, 0.0000000e+00, 0.0000000e+00,\n",
       "        0.0000000e+00, 0.0000000e+00, 0.0000000e+00, 0.0000000e+00,\n",
       "        0.0000000e+00, 0.0000000e+00, 0.0000000e+00, 0.0000000e+00,\n",
       "        0.0000000e+00, 0.0000000e+00, 0.0000000e+00, 0.0000000e+00,\n",
       "        0.0000000e+00, 0.0000000e+00, 0.0000000e+00, 0.0000000e+00,\n",
       "        0.0000000e+00, 0.0000000e+00, 0.0000000e+00, 0.0000000e+00,\n",
       "        0.0000000e+00, 0.0000000e+00, 0.0000000e+00, 0.0000000e+00,\n",
       "        4.2214024e-38, 0.0000000e+00, 0.0000000e+00, 0.0000000e+00,\n",
       "        0.0000000e+00, 0.0000000e+00, 0.0000000e+00, 0.0000000e+00,\n",
       "        0.0000000e+00, 0.0000000e+00, 0.0000000e+00, 0.0000000e+00,\n",
       "        0.0000000e+00, 0.0000000e+00, 0.0000000e+00, 0.0000000e+00,\n",
       "        1.4012985e-45, 0.0000000e+00, 0.0000000e+00, 0.0000000e+00,\n",
       "        0.0000000e+00, 0.0000000e+00, 0.0000000e+00, 0.0000000e+00,\n",
       "        0.0000000e+00, 2.8025969e-44, 0.0000000e+00, 0.0000000e+00,\n",
       "        0.0000000e+00, 0.0000000e+00, 6.0705001e-38, 9.6344275e-32,\n",
       "        0.0000000e+00, 0.0000000e+00, 0.0000000e+00, 0.0000000e+00,\n",
       "        0.0000000e+00, 0.0000000e+00, 0.0000000e+00, 0.0000000e+00,\n",
       "        0.0000000e+00, 0.0000000e+00, 0.0000000e+00, 0.0000000e+00,\n",
       "        0.0000000e+00, 0.0000000e+00, 0.0000000e+00, 0.0000000e+00,\n",
       "        0.0000000e+00, 0.0000000e+00, 0.0000000e+00, 0.0000000e+00,\n",
       "        0.0000000e+00, 0.0000000e+00, 0.0000000e+00, 0.0000000e+00,\n",
       "        0.0000000e+00, 0.0000000e+00, 0.0000000e+00, 0.0000000e+00,\n",
       "        0.0000000e+00, 0.0000000e+00, 0.0000000e+00, 0.0000000e+00,\n",
       "        0.0000000e+00, 0.0000000e+00, 0.0000000e+00, 0.0000000e+00,\n",
       "        0.0000000e+00, 0.0000000e+00, 2.2891612e-41, 0.0000000e+00,\n",
       "        0.0000000e+00, 0.0000000e+00, 0.0000000e+00, 0.0000000e+00,\n",
       "        0.0000000e+00, 0.0000000e+00, 0.0000000e+00, 0.0000000e+00,\n",
       "        5.6051939e-45, 0.0000000e+00, 0.0000000e+00, 0.0000000e+00,\n",
       "        0.0000000e+00, 0.0000000e+00, 1.5984962e-39, 0.0000000e+00,\n",
       "        0.0000000e+00, 0.0000000e+00, 0.0000000e+00, 0.0000000e+00,\n",
       "        0.0000000e+00, 0.0000000e+00, 0.0000000e+00, 0.0000000e+00,\n",
       "        0.0000000e+00, 0.0000000e+00, 0.0000000e+00, 0.0000000e+00,\n",
       "        0.0000000e+00, 0.0000000e+00, 0.0000000e+00, 0.0000000e+00,\n",
       "        0.0000000e+00, 0.0000000e+00, 0.0000000e+00, 0.0000000e+00,\n",
       "        0.0000000e+00, 0.0000000e+00, 0.0000000e+00, 0.0000000e+00,\n",
       "        0.0000000e+00, 0.0000000e+00, 0.0000000e+00, 4.8130596e-36,\n",
       "        0.0000000e+00, 0.0000000e+00, 0.0000000e+00, 0.0000000e+00,\n",
       "        0.0000000e+00, 0.0000000e+00, 0.0000000e+00, 0.0000000e+00,\n",
       "        0.0000000e+00, 0.0000000e+00, 0.0000000e+00, 0.0000000e+00,\n",
       "        0.0000000e+00, 0.0000000e+00, 0.0000000e+00, 0.0000000e+00,\n",
       "        0.0000000e+00, 0.0000000e+00, 0.0000000e+00, 0.0000000e+00,\n",
       "        0.0000000e+00, 1.4869991e-39, 0.0000000e+00, 0.0000000e+00,\n",
       "        0.0000000e+00, 0.0000000e+00, 0.0000000e+00, 0.0000000e+00,\n",
       "        0.0000000e+00, 0.0000000e+00, 0.0000000e+00, 0.0000000e+00,\n",
       "        8.4077908e-45, 0.0000000e+00, 1.4012985e-45, 0.0000000e+00,\n",
       "        0.0000000e+00, 0.0000000e+00, 0.0000000e+00, 0.0000000e+00,\n",
       "        0.0000000e+00, 0.0000000e+00, 0.0000000e+00, 0.0000000e+00,\n",
       "        0.0000000e+00, 0.0000000e+00, 4.2038954e-45, 0.0000000e+00,\n",
       "        0.0000000e+00, 0.0000000e+00, 0.0000000e+00, 0.0000000e+00,\n",
       "        0.0000000e+00, 0.0000000e+00, 0.0000000e+00, 0.0000000e+00,\n",
       "        0.0000000e+00, 0.0000000e+00, 0.0000000e+00, 0.0000000e+00,\n",
       "        0.0000000e+00, 0.0000000e+00, 0.0000000e+00, 0.0000000e+00,\n",
       "        0.0000000e+00, 0.0000000e+00, 0.0000000e+00, 0.0000000e+00,\n",
       "        0.0000000e+00, 0.0000000e+00, 0.0000000e+00, 0.0000000e+00,\n",
       "        0.0000000e+00, 0.0000000e+00, 5.9003634e-40, 0.0000000e+00,\n",
       "        0.0000000e+00, 0.0000000e+00, 0.0000000e+00, 0.0000000e+00,\n",
       "        0.0000000e+00, 0.0000000e+00, 0.0000000e+00, 0.0000000e+00,\n",
       "        0.0000000e+00, 0.0000000e+00, 2.8025969e-45, 0.0000000e+00,\n",
       "        0.0000000e+00, 0.0000000e+00, 0.0000000e+00, 0.0000000e+00,\n",
       "        0.0000000e+00, 0.0000000e+00, 0.0000000e+00, 0.0000000e+00,\n",
       "        0.0000000e+00, 0.0000000e+00, 0.0000000e+00, 0.0000000e+00,\n",
       "        0.0000000e+00, 0.0000000e+00, 0.0000000e+00, 0.0000000e+00,\n",
       "        0.0000000e+00, 3.8847352e-34, 0.0000000e+00, 0.0000000e+00,\n",
       "        0.0000000e+00, 0.0000000e+00, 0.0000000e+00, 0.0000000e+00,\n",
       "        0.0000000e+00, 0.0000000e+00, 0.0000000e+00, 0.0000000e+00,\n",
       "        0.0000000e+00, 0.0000000e+00, 0.0000000e+00, 0.0000000e+00,\n",
       "        0.0000000e+00, 0.0000000e+00, 0.0000000e+00, 0.0000000e+00,\n",
       "        0.0000000e+00, 0.0000000e+00, 0.0000000e+00, 0.0000000e+00,\n",
       "        0.0000000e+00, 0.0000000e+00, 1.0298883e-23, 0.0000000e+00,\n",
       "        0.0000000e+00, 0.0000000e+00, 0.0000000e+00, 9.6929917e-40,\n",
       "        0.0000000e+00, 0.0000000e+00, 0.0000000e+00, 0.0000000e+00,\n",
       "        0.0000000e+00, 0.0000000e+00, 0.0000000e+00, 0.0000000e+00,\n",
       "        0.0000000e+00, 0.0000000e+00, 0.0000000e+00, 0.0000000e+00,\n",
       "        0.0000000e+00, 0.0000000e+00, 0.0000000e+00, 0.0000000e+00,\n",
       "        0.0000000e+00, 0.0000000e+00, 0.0000000e+00, 0.0000000e+00,\n",
       "        0.0000000e+00, 0.0000000e+00, 0.0000000e+00, 0.0000000e+00,\n",
       "        0.0000000e+00, 0.0000000e+00, 0.0000000e+00, 0.0000000e+00,\n",
       "        0.0000000e+00, 0.0000000e+00, 0.0000000e+00, 0.0000000e+00,\n",
       "        0.0000000e+00, 0.0000000e+00, 0.0000000e+00, 0.0000000e+00,\n",
       "        0.0000000e+00, 0.0000000e+00, 0.0000000e+00, 1.9287357e-31,\n",
       "        0.0000000e+00, 0.0000000e+00, 0.0000000e+00, 0.0000000e+00,\n",
       "        0.0000000e+00, 0.0000000e+00, 0.0000000e+00, 0.0000000e+00,\n",
       "        0.0000000e+00, 0.0000000e+00, 0.0000000e+00, 0.0000000e+00,\n",
       "        0.0000000e+00, 0.0000000e+00, 0.0000000e+00, 0.0000000e+00,\n",
       "        0.0000000e+00, 0.0000000e+00, 0.0000000e+00, 0.0000000e+00,\n",
       "        0.0000000e+00, 0.0000000e+00, 0.0000000e+00, 0.0000000e+00,\n",
       "        0.0000000e+00, 0.0000000e+00, 0.0000000e+00, 0.0000000e+00,\n",
       "        0.0000000e+00, 0.0000000e+00, 7.7141480e-42, 0.0000000e+00,\n",
       "        0.0000000e+00, 0.0000000e+00, 0.0000000e+00, 0.0000000e+00,\n",
       "        0.0000000e+00, 0.0000000e+00, 0.0000000e+00, 9.9503917e-01,\n",
       "        0.0000000e+00, 0.0000000e+00, 0.0000000e+00, 0.0000000e+00,\n",
       "        0.0000000e+00, 0.0000000e+00, 0.0000000e+00, 0.0000000e+00,\n",
       "        0.0000000e+00, 0.0000000e+00, 0.0000000e+00, 0.0000000e+00,\n",
       "        0.0000000e+00, 0.0000000e+00, 0.0000000e+00, 0.0000000e+00,\n",
       "        0.0000000e+00, 0.0000000e+00, 0.0000000e+00, 4.0632050e-40,\n",
       "        0.0000000e+00, 0.0000000e+00, 0.0000000e+00, 0.0000000e+00,\n",
       "        0.0000000e+00, 0.0000000e+00, 0.0000000e+00, 0.0000000e+00,\n",
       "        0.0000000e+00, 0.0000000e+00, 3.5452851e-42, 0.0000000e+00,\n",
       "        0.0000000e+00, 0.0000000e+00, 0.0000000e+00, 0.0000000e+00,\n",
       "        0.0000000e+00, 0.0000000e+00, 0.0000000e+00, 0.0000000e+00,\n",
       "        0.0000000e+00, 0.0000000e+00, 0.0000000e+00, 0.0000000e+00,\n",
       "        0.0000000e+00, 0.0000000e+00, 0.0000000e+00, 0.0000000e+00,\n",
       "        0.0000000e+00, 4.5226908e-41, 7.8844184e-39, 0.0000000e+00,\n",
       "        0.0000000e+00, 0.0000000e+00, 0.0000000e+00, 0.0000000e+00,\n",
       "        0.0000000e+00, 0.0000000e+00, 0.0000000e+00, 0.0000000e+00,\n",
       "        0.0000000e+00, 2.8598974e-31, 4.9608331e-03, 3.9236357e-44,\n",
       "        0.0000000e+00, 0.0000000e+00, 0.0000000e+00, 0.0000000e+00,\n",
       "        0.0000000e+00, 0.0000000e+00, 0.0000000e+00, 0.0000000e+00,\n",
       "        0.0000000e+00, 0.0000000e+00, 0.0000000e+00, 0.0000000e+00,\n",
       "        2.7310132e-33, 0.0000000e+00, 0.0000000e+00, 0.0000000e+00,\n",
       "        4.4285235e-41, 0.0000000e+00, 0.0000000e+00, 0.0000000e+00,\n",
       "        0.0000000e+00, 0.0000000e+00, 0.0000000e+00, 0.0000000e+00,\n",
       "        0.0000000e+00, 0.0000000e+00, 0.0000000e+00, 0.0000000e+00,\n",
       "        0.0000000e+00, 1.2611686e-44, 0.0000000e+00, 0.0000000e+00,\n",
       "        0.0000000e+00, 0.0000000e+00, 0.0000000e+00, 0.0000000e+00,\n",
       "        0.0000000e+00, 0.0000000e+00, 0.0000000e+00, 0.0000000e+00,\n",
       "        0.0000000e+00, 0.0000000e+00, 0.0000000e+00, 6.9300353e-22,\n",
       "        0.0000000e+00, 0.0000000e+00, 0.0000000e+00, 0.0000000e+00,\n",
       "        9.1089358e-31, 4.0371409e-42, 0.0000000e+00, 0.0000000e+00,\n",
       "        0.0000000e+00, 0.0000000e+00, 0.0000000e+00, 0.0000000e+00,\n",
       "        0.0000000e+00, 2.3811592e-26, 0.0000000e+00, 0.0000000e+00,\n",
       "        0.0000000e+00, 0.0000000e+00, 0.0000000e+00, 0.0000000e+00,\n",
       "        0.0000000e+00, 0.0000000e+00, 5.9274925e-43, 0.0000000e+00,\n",
       "        0.0000000e+00, 0.0000000e+00, 0.0000000e+00, 1.4012985e-45,\n",
       "        5.8854536e-44, 0.0000000e+00, 0.0000000e+00, 0.0000000e+00,\n",
       "        0.0000000e+00, 0.0000000e+00, 1.1086065e-39, 0.0000000e+00,\n",
       "        0.0000000e+00, 0.0000000e+00, 0.0000000e+00, 0.0000000e+00,\n",
       "        0.0000000e+00, 0.0000000e+00, 0.0000000e+00, 0.0000000e+00,\n",
       "        0.0000000e+00, 1.0166097e-37, 0.0000000e+00, 0.0000000e+00,\n",
       "        0.0000000e+00, 0.0000000e+00, 1.9511671e-30, 0.0000000e+00,\n",
       "        0.0000000e+00, 0.0000000e+00, 0.0000000e+00, 0.0000000e+00,\n",
       "        0.0000000e+00, 0.0000000e+00, 0.0000000e+00, 0.0000000e+00,\n",
       "        5.4788870e-38, 0.0000000e+00, 0.0000000e+00, 0.0000000e+00,\n",
       "        0.0000000e+00, 0.0000000e+00, 0.0000000e+00, 0.0000000e+00,\n",
       "        8.2676609e-43, 4.0558472e-29, 4.2038954e-45, 0.0000000e+00,\n",
       "        0.0000000e+00, 0.0000000e+00, 0.0000000e+00, 0.0000000e+00,\n",
       "        0.0000000e+00, 0.0000000e+00, 3.7468242e-23, 0.0000000e+00,\n",
       "        0.0000000e+00, 1.2179666e-40, 0.0000000e+00, 0.0000000e+00,\n",
       "        0.0000000e+00, 0.0000000e+00, 0.0000000e+00, 0.0000000e+00,\n",
       "        0.0000000e+00, 0.0000000e+00, 0.0000000e+00, 0.0000000e+00,\n",
       "        0.0000000e+00, 0.0000000e+00, 0.0000000e+00, 0.0000000e+00,\n",
       "        0.0000000e+00, 0.0000000e+00, 0.0000000e+00, 0.0000000e+00,\n",
       "        0.0000000e+00, 0.0000000e+00, 0.0000000e+00, 0.0000000e+00,\n",
       "        4.0613984e-25, 0.0000000e+00, 0.0000000e+00, 0.0000000e+00,\n",
       "        0.0000000e+00, 0.0000000e+00, 0.0000000e+00, 1.1215496e-33,\n",
       "        0.0000000e+00, 0.0000000e+00, 0.0000000e+00, 0.0000000e+00,\n",
       "        0.0000000e+00, 0.0000000e+00, 0.0000000e+00, 0.0000000e+00,\n",
       "        0.0000000e+00, 0.0000000e+00, 0.0000000e+00, 0.0000000e+00,\n",
       "        0.0000000e+00, 0.0000000e+00, 0.0000000e+00, 0.0000000e+00,\n",
       "        0.0000000e+00, 0.0000000e+00, 0.0000000e+00, 0.0000000e+00,\n",
       "        0.0000000e+00, 0.0000000e+00, 0.0000000e+00, 0.0000000e+00,\n",
       "        0.0000000e+00, 0.0000000e+00, 0.0000000e+00, 0.0000000e+00,\n",
       "        0.0000000e+00, 0.0000000e+00, 0.0000000e+00, 0.0000000e+00,\n",
       "        0.0000000e+00, 0.0000000e+00, 0.0000000e+00, 0.0000000e+00,\n",
       "        1.0438974e-32, 0.0000000e+00, 0.0000000e+00, 0.0000000e+00,\n",
       "        0.0000000e+00, 0.0000000e+00, 0.0000000e+00, 0.0000000e+00,\n",
       "        0.0000000e+00, 0.0000000e+00, 0.0000000e+00, 0.0000000e+00,\n",
       "        0.0000000e+00, 0.0000000e+00, 0.0000000e+00, 0.0000000e+00,\n",
       "        0.0000000e+00, 0.0000000e+00, 0.0000000e+00, 0.0000000e+00,\n",
       "        0.0000000e+00, 0.0000000e+00, 0.0000000e+00, 0.0000000e+00,\n",
       "        0.0000000e+00, 0.0000000e+00, 0.0000000e+00, 0.0000000e+00,\n",
       "        0.0000000e+00, 0.0000000e+00, 0.0000000e+00, 0.0000000e+00,\n",
       "        0.0000000e+00, 0.0000000e+00, 4.2345634e-38, 2.1441229e-38,\n",
       "        0.0000000e+00, 0.0000000e+00, 0.0000000e+00, 0.0000000e+00,\n",
       "        0.0000000e+00, 0.0000000e+00, 0.0000000e+00, 0.0000000e+00,\n",
       "        0.0000000e+00, 0.0000000e+00, 0.0000000e+00, 0.0000000e+00,\n",
       "        0.0000000e+00, 0.0000000e+00, 0.0000000e+00, 0.0000000e+00,\n",
       "        2.7632294e-31, 1.4573504e-43, 0.0000000e+00, 0.0000000e+00,\n",
       "        0.0000000e+00, 0.0000000e+00, 0.0000000e+00, 0.0000000e+00,\n",
       "        0.0000000e+00, 0.0000000e+00, 0.0000000e+00, 0.0000000e+00,\n",
       "        0.0000000e+00, 0.0000000e+00, 0.0000000e+00, 0.0000000e+00,\n",
       "        0.0000000e+00, 0.0000000e+00, 0.0000000e+00, 0.0000000e+00,\n",
       "        0.0000000e+00, 0.0000000e+00, 0.0000000e+00, 0.0000000e+00,\n",
       "        0.0000000e+00, 0.0000000e+00, 0.0000000e+00, 0.0000000e+00,\n",
       "        0.0000000e+00, 0.0000000e+00, 0.0000000e+00, 0.0000000e+00]],\n",
       "      dtype=float32)"
      ]
     },
     "execution_count": 13,
     "metadata": {},
     "output_type": "execute_result"
    }
   ],
   "source": [
    "model.predict(X)"
   ]
  },
  {
   "cell_type": "markdown",
   "id": "2f402e93-8b6e-47a4-bff0-18a0820e3612",
   "metadata": {},
   "source": [
    "Now, let's preprocess:"
   ]
  },
  {
   "cell_type": "code",
   "execution_count": 14,
   "id": "63f8e2fd-77fd-4cb9-a9eb-b7757d4a49dd",
   "metadata": {
    "execution": {
     "iopub.execute_input": "2024-11-28T18:15:18.499298Z",
     "iopub.status.busy": "2024-11-28T18:15:18.498943Z",
     "iopub.status.idle": "2024-11-28T18:15:18.502685Z",
     "shell.execute_reply": "2024-11-28T18:15:18.502099Z",
     "shell.execute_reply.started": "2024-11-28T18:15:18.499276Z"
    }
   },
   "outputs": [],
   "source": [
    "X = preprocess_input(X)"
   ]
  },
  {
   "cell_type": "code",
   "execution_count": 15,
   "id": "07899e64-e0fe-482d-84fe-79b2519ff386",
   "metadata": {
    "execution": {
     "iopub.execute_input": "2024-11-28T18:15:19.548445Z",
     "iopub.status.busy": "2024-11-28T18:15:19.548073Z",
     "iopub.status.idle": "2024-11-28T18:15:19.554432Z",
     "shell.execute_reply": "2024-11-28T18:15:19.553793Z",
     "shell.execute_reply.started": "2024-11-28T18:15:19.548423Z"
    }
   },
   "outputs": [
    {
     "data": {
      "text/plain": [
       "array([[[ 0.4039216 ,  0.3411765 , -0.2235294 ],\n",
       "        [ 0.4039216 ,  0.3411765 , -0.2235294 ],\n",
       "        [ 0.41960788,  0.35686278, -0.20784312],\n",
       "        ...,\n",
       "        [ 0.96862745,  0.9843137 ,  0.94509804],\n",
       "        [ 0.96862745,  0.9843137 ,  0.94509804],\n",
       "        [ 0.96862745,  0.99215686,  0.9372549 ]],\n",
       "\n",
       "       [[ 0.47450984,  0.4039216 , -0.12156862],\n",
       "        [ 0.4666667 ,  0.39607847, -0.12941176],\n",
       "        [ 0.45882356,  0.38823533, -0.15294117],\n",
       "        ...,\n",
       "        [ 0.96862745,  0.9764706 ,  0.9372549 ],\n",
       "        [ 0.96862745,  0.9764706 ,  0.9372549 ],\n",
       "        [ 0.96862745,  0.9764706 ,  0.92941177]],\n",
       "\n",
       "       [[ 0.56078434,  0.48235297, -0.00392157],\n",
       "        [ 0.5686275 ,  0.4901961 ,  0.00392163],\n",
       "        [ 0.5686275 ,  0.49803925, -0.01176471],\n",
       "        ...,\n",
       "        [ 0.9607843 ,  0.96862745,  0.92156863],\n",
       "        [ 0.9607843 ,  0.96862745,  0.92156863],\n",
       "        [ 0.9607843 ,  0.96862745,  0.92156863]],\n",
       "\n",
       "       ...,\n",
       "\n",
       "       [[ 0.2941177 ,  0.18431377, -0.40392154],\n",
       "        [ 0.35686278,  0.24705887, -0.34117645],\n",
       "        [ 0.3411765 ,  0.2313726 , -0.35686272],\n",
       "        ...,\n",
       "        [ 0.43529415,  0.05882359, -0.8039216 ],\n",
       "        [ 0.41960788,  0.04313731, -0.827451  ],\n",
       "        [ 0.43529415,  0.05882359, -0.8117647 ]],\n",
       "\n",
       "       [[ 0.2941177 ,  0.18431377, -0.40392154],\n",
       "        [ 0.35686278,  0.24705887, -0.34117645],\n",
       "        [ 0.3411765 ,  0.2313726 , -0.35686272],\n",
       "        ...,\n",
       "        [ 0.427451  ,  0.05098045, -0.81960785],\n",
       "        [ 0.41176474,  0.03529418, -0.8352941 ],\n",
       "        [ 0.427451  ,  0.05098045, -0.81960785]],\n",
       "\n",
       "       [[ 0.2941177 ,  0.18431377, -0.40392154],\n",
       "        [ 0.35686278,  0.24705887, -0.34117645],\n",
       "        [ 0.3411765 ,  0.2313726 , -0.35686272],\n",
       "        ...,\n",
       "        [ 0.41960788,  0.04313731, -0.827451  ],\n",
       "        [ 0.4039216 ,  0.02745104, -0.84313726],\n",
       "        [ 0.427451  ,  0.05098045, -0.81960785]]], dtype=float32)"
      ]
     },
     "execution_count": 15,
     "metadata": {},
     "output_type": "execute_result"
    }
   ],
   "source": [
    "X[0]"
   ]
  },
  {
   "cell_type": "markdown",
   "id": "35550080-0059-406d-af8b-734b5e0e4f14",
   "metadata": {},
   "source": [
    "We can see the numbers are no longer ranging from 0-255, but are between -1 and 1. They have been scaled. It's important to note that when the model was trained, it was on this preprocessed data. So when we make a prediction, we need to preprocess the images. This is similar to what we did it with sklearn when scaling certain features or other preprocessing steps."
   ]
  },
  {
   "cell_type": "code",
   "execution_count": 16,
   "id": "d2f2ec33-9528-4c1d-89c5-35bf9e29e506",
   "metadata": {
    "execution": {
     "iopub.execute_input": "2024-11-28T18:15:21.106779Z",
     "iopub.status.busy": "2024-11-28T18:15:21.106425Z",
     "iopub.status.idle": "2024-11-28T18:15:23.383706Z",
     "shell.execute_reply": "2024-11-28T18:15:23.383176Z",
     "shell.execute_reply.started": "2024-11-28T18:15:21.106758Z"
    }
   },
   "outputs": [
    {
     "name": "stdout",
     "output_type": "stream",
     "text": [
      "\u001b[1m1/1\u001b[0m \u001b[32m━━━━━━━━━━━━━━━━━━━━\u001b[0m\u001b[37m\u001b[0m \u001b[1m2s\u001b[0m 2s/step\n"
     ]
    }
   ],
   "source": [
    "pred = model.predict(X)"
   ]
  },
  {
   "cell_type": "code",
   "execution_count": 17,
   "id": "0a60e7ba-5960-4394-931c-0bb92bc1af88",
   "metadata": {
    "execution": {
     "iopub.execute_input": "2024-11-28T18:15:23.385495Z",
     "iopub.status.busy": "2024-11-28T18:15:23.384959Z",
     "iopub.status.idle": "2024-11-28T18:15:23.389412Z",
     "shell.execute_reply": "2024-11-28T18:15:23.388915Z",
     "shell.execute_reply.started": "2024-11-28T18:15:23.385473Z"
    }
   },
   "outputs": [
    {
     "data": {
      "text/plain": [
       "(1, 1000)"
      ]
     },
     "execution_count": 17,
     "metadata": {},
     "output_type": "execute_result"
    }
   ],
   "source": [
    "pred.shape"
   ]
  },
  {
   "cell_type": "markdown",
   "id": "46a99027-ea9e-4439-bc40-7faff79b1b4a",
   "metadata": {},
   "source": [
    "There is 1 image and 1000 classes. Each number is the probability for a given class."
   ]
  },
  {
   "cell_type": "code",
   "execution_count": 18,
   "id": "08912b8c-4711-40dc-8eb8-11a3c2dc3391",
   "metadata": {
    "execution": {
     "iopub.execute_input": "2024-11-28T18:15:24.310074Z",
     "iopub.status.busy": "2024-11-28T18:15:24.309485Z",
     "iopub.status.idle": "2024-11-28T18:15:24.314412Z",
     "shell.execute_reply": "2024-11-28T18:15:24.313852Z",
     "shell.execute_reply.started": "2024-11-28T18:15:24.310052Z"
    }
   },
   "outputs": [
    {
     "data": {
      "text/plain": [
       "'Class 610 has the highest probability: 0.68'"
      ]
     },
     "execution_count": 18,
     "metadata": {},
     "output_type": "execute_result"
    }
   ],
   "source": [
    "f\"Class {pred.argmax()} has the highest probability: {pred.max():.2f}\""
   ]
  },
  {
   "cell_type": "markdown",
   "id": "dfc0ecf7-9cb0-442d-ac37-c7874f0c021d",
   "metadata": {},
   "source": [
    "There is a utility function for this in Keras:"
   ]
  },
  {
   "cell_type": "code",
   "execution_count": 19,
   "id": "6af5a4e8-66b6-4de1-907c-744b41a47779",
   "metadata": {
    "execution": {
     "iopub.execute_input": "2024-11-28T18:15:26.100944Z",
     "iopub.status.busy": "2024-11-28T18:15:26.100599Z",
     "iopub.status.idle": "2024-11-28T18:15:26.107968Z",
     "shell.execute_reply": "2024-11-28T18:15:26.107236Z",
     "shell.execute_reply.started": "2024-11-28T18:15:26.100922Z"
    }
   },
   "outputs": [
    {
     "data": {
      "text/plain": [
       "[[('n03595614', 'jersey', 0.68196344),\n",
       "  ('n02916936', 'bulletproof_vest', 0.0381399),\n",
       "  ('n04370456', 'sweatshirt', 0.034324728),\n",
       "  ('n03710637', 'maillot', 0.011354211),\n",
       "  ('n04525038', 'velvet', 0.0018453576)]]"
      ]
     },
     "execution_count": 19,
     "metadata": {},
     "output_type": "execute_result"
    }
   ],
   "source": [
    "decode_predictions(pred)"
   ]
  },
  {
   "cell_type": "markdown",
   "id": "f3131814-2f6d-4280-9aa8-3b8d9fce6b97",
   "metadata": {
    "execution": {
     "iopub.execute_input": "2024-11-28T07:29:32.485893Z",
     "iopub.status.busy": "2024-11-28T07:29:32.485550Z",
     "iopub.status.idle": "2024-11-28T07:29:32.510877Z",
     "shell.execute_reply": "2024-11-28T07:29:32.510025Z",
     "shell.execute_reply.started": "2024-11-28T07:29:32.485870Z"
    }
   },
   "source": [
    "## 8.4 [Convolutional Neural Networks](https://github.com/DataTalksClub/machine-learning-zoomcamp/blob/master/08-deep-learning/04-conv-neural-nets.md)"
   ]
  },
  {
   "attachments": {},
   "cell_type": "markdown",
   "id": "a06bc18f-416a-4015-a9b4-95dcae657651",
   "metadata": {},
   "source": [
    "Convolutional neural networks are mostly used for images. They contain a convolutional layer. The Xception model we used is such a convolutional neural network.\n",
    "\n",
    "Convolutional Neural Networks (CNN) contain two types of layers:\n",
    "1. Convolutional layers\n",
    "2. Dense layers\n",
    "\n",
    "### Convolutional layers\n",
    "\n",
    "These are like filters containing many small image segments (e.g. 5x5) with lines, shapes, gradients. These small image segments are slid across our input image and the similarity is checked between the image segment and the input image. What results is a feature map, an array with a similarity score between the small image segment (i.e. filter) and a particular location of the image.\n",
    "Each filter results in a feature map. This set of feature maps, can be fed to a second convolutional layer with its own filters. Typically the first layer learns simple filters, subsequent layers learn increasingly more complicated filters. How this happens is that feature maps from one layer are compared. When they have high scores in the same area, these are then combined for the next layer.\n",
    "\n",
    "<img src=\"cnn.png\" width=600>\n",
    "\n",
    "The features are learned, so it is not necessary to instruct the neural network to learn certain shapes.\n",
    "\n",
    "After the convolutional layers, there will be a vector representation of the image. This is fed into the dense layers.\n",
    "\n",
    "### Dense layers\n",
    "\n",
    "The dense layers take the vector representation and turn it into a prediction. If we were to do binary classification, we could for example take the vector representation, multiply each of the elements with a weight, and sum them (i.e. take the inner product). Then we feed that number into the sigmoid function and get a prediction (e.g. whether it is a t-shirt or not).\n",
    "\n",
    "Now, if we want to do multi-class classification, we can create a model for each class. For example, one for t-shirts, one for shirts, one for dressed, and so on. Each model has its own weights. We calculate the inner products for each class. Then, instead of feeding it into a sigmoid for each class, we use the softmax function, which outputs probabilities for all classes, ensuring they sum to 1.\n",
    "\n",
    "The naming 'dense layer' is because each element of the input is connected to each element of the output. Similar as with the convolutional layers, we can have multiple dense layers."
   ]
  },
  {
   "cell_type": "markdown",
   "id": "d9692ff5-de9c-478e-b11f-666596d67ffe",
   "metadata": {},
   "source": [
    "## 8.5 [Transfer Learning]()"
   ]
  },
  {
   "cell_type": "markdown",
   "id": "00ba82de-141f-4a0e-826a-a7d9ba718196",
   "metadata": {},
   "source": [
    "In convolutional neural netweorks, the convolutional layers are generic. They require a very large number of images to come up with filters. In transfer learning, where we take a neural network and tune it for our purposes, we typically do not touch the convolutional layers. The dense layers on the other hand are more specific to the problem at hand. So we will keep the convolutional layers and train the dense layers."
   ]
  },
  {
   "cell_type": "code",
   "execution_count": 20,
   "id": "c8c79a7e-85c6-4b0e-aa70-b4cf261b8b3c",
   "metadata": {
    "execution": {
     "iopub.execute_input": "2024-11-28T18:15:29.723601Z",
     "iopub.status.busy": "2024-11-28T18:15:29.723267Z",
     "iopub.status.idle": "2024-11-28T18:15:29.726917Z",
     "shell.execute_reply": "2024-11-28T18:15:29.726216Z",
     "shell.execute_reply.started": "2024-11-28T18:15:29.723578Z"
    }
   },
   "outputs": [],
   "source": [
    "from tensorflow.keras.preprocessing.image import ImageDataGenerator"
   ]
  },
  {
   "cell_type": "code",
   "execution_count": 21,
   "id": "3b32b593-c5ff-453e-bdeb-c664c26e7be6",
   "metadata": {
    "execution": {
     "iopub.execute_input": "2024-11-28T18:15:30.759724Z",
     "iopub.status.busy": "2024-11-28T18:15:30.759381Z",
     "iopub.status.idle": "2024-11-28T18:15:30.762791Z",
     "shell.execute_reply": "2024-11-28T18:15:30.762267Z",
     "shell.execute_reply.started": "2024-11-28T18:15:30.759701Z"
    }
   },
   "outputs": [],
   "source": [
    "train_gen = ImageDataGenerator(preprocessing_function=preprocess_input)"
   ]
  },
  {
   "cell_type": "code",
   "execution_count": 25,
   "id": "929f1f41-d191-4def-b306-444991ef4c45",
   "metadata": {
    "execution": {
     "iopub.execute_input": "2024-11-28T18:17:23.239992Z",
     "iopub.status.busy": "2024-11-28T18:17:23.239647Z",
     "iopub.status.idle": "2024-11-28T18:17:23.340928Z",
     "shell.execute_reply": "2024-11-28T18:17:23.340355Z",
     "shell.execute_reply.started": "2024-11-28T18:17:23.239968Z"
    }
   },
   "outputs": [
    {
     "name": "stdout",
     "output_type": "stream",
     "text": [
      "Found 3068 images belonging to 10 classes.\n"
     ]
    }
   ],
   "source": [
    "train_ds = train_gen.flow_from_directory(\"./clothing-dataset-small/train\", target_size=(150, 150), batch_size=32)"
   ]
  },
  {
   "cell_type": "code",
   "execution_count": 27,
   "id": "d51c5b14-6a0a-41a4-9532-eaa896fc5aad",
   "metadata": {
    "execution": {
     "iopub.execute_input": "2024-11-28T18:17:36.709185Z",
     "iopub.status.busy": "2024-11-28T18:17:36.708842Z",
     "iopub.status.idle": "2024-11-28T18:17:36.713517Z",
     "shell.execute_reply": "2024-11-28T18:17:36.712954Z",
     "shell.execute_reply.started": "2024-11-28T18:17:36.709163Z"
    }
   },
   "outputs": [
    {
     "data": {
      "text/plain": [
       "{'dress': 0,\n",
       " 'hat': 1,\n",
       " 'longsleeve': 2,\n",
       " 'outwear': 3,\n",
       " 'pants': 4,\n",
       " 'shirt': 5,\n",
       " 'shoes': 6,\n",
       " 'shorts': 7,\n",
       " 'skirt': 8,\n",
       " 't-shirt': 9}"
      ]
     },
     "execution_count": 27,
     "metadata": {},
     "output_type": "execute_result"
    }
   ],
   "source": [
    "train_ds.class_indices"
   ]
  },
  {
   "cell_type": "code",
   "execution_count": 29,
   "id": "705f8d5c-13b1-4a3d-9d56-c48c361ec610",
   "metadata": {
    "execution": {
     "iopub.execute_input": "2024-11-28T18:18:22.347827Z",
     "iopub.status.busy": "2024-11-28T18:18:22.347481Z",
     "iopub.status.idle": "2024-11-28T18:18:22.405130Z",
     "shell.execute_reply": "2024-11-28T18:18:22.404576Z",
     "shell.execute_reply.started": "2024-11-28T18:18:22.347805Z"
    }
   },
   "outputs": [],
   "source": [
    "X, y = next(train_ds)"
   ]
  },
  {
   "cell_type": "markdown",
   "id": "a364b516-a34a-4c72-86c7-f6bdaf62cbdc",
   "metadata": {},
   "source": [
    "`X` contains the images. We have a batch of 32 images with size 150x150, 3 channels (RGB)."
   ]
  },
  {
   "cell_type": "code",
   "execution_count": 33,
   "id": "ed4e4e09-879e-4103-91b1-4787773116b5",
   "metadata": {
    "execution": {
     "iopub.execute_input": "2024-11-28T18:18:45.001414Z",
     "iopub.status.busy": "2024-11-28T18:18:45.001070Z",
     "iopub.status.idle": "2024-11-28T18:18:45.005872Z",
     "shell.execute_reply": "2024-11-28T18:18:45.005323Z",
     "shell.execute_reply.started": "2024-11-28T18:18:45.001393Z"
    }
   },
   "outputs": [
    {
     "data": {
      "text/plain": [
       "(32, 150, 150, 3)"
      ]
     },
     "execution_count": 33,
     "metadata": {},
     "output_type": "execute_result"
    }
   ],
   "source": [
    "X.shape"
   ]
  },
  {
   "cell_type": "markdown",
   "id": "75f23ebf-cdf4-4f74-b5be-c88024659f60",
   "metadata": {},
   "source": [
    "`y` is the label. It is one-hot encoded. In the example below, the image is of a skirt."
   ]
  },
  {
   "cell_type": "code",
   "execution_count": 37,
   "id": "b5bab8b5-9aa6-4bc0-920b-b49e538832b7",
   "metadata": {
    "execution": {
     "iopub.execute_input": "2024-11-28T18:21:23.202099Z",
     "iopub.status.busy": "2024-11-28T18:21:23.201717Z",
     "iopub.status.idle": "2024-11-28T18:21:23.206993Z",
     "shell.execute_reply": "2024-11-28T18:21:23.206392Z",
     "shell.execute_reply.started": "2024-11-28T18:21:23.202076Z"
    }
   },
   "outputs": [
    {
     "data": {
      "text/plain": [
       "array([0., 0., 0., 0., 0., 0., 0., 0., 1., 0.], dtype=float32)"
      ]
     },
     "execution_count": 37,
     "metadata": {},
     "output_type": "execute_result"
    }
   ],
   "source": [
    "y[0]"
   ]
  },
  {
   "cell_type": "markdown",
   "id": "3d43d593-d7bb-41a6-82d5-8124e3573122",
   "metadata": {},
   "source": [
    "We do the same for the validation data:"
   ]
  },
  {
   "cell_type": "code",
   "execution_count": 39,
   "id": "fb57d9e1-22de-40b5-8af4-2f80c69a6071",
   "metadata": {
    "execution": {
     "iopub.execute_input": "2024-11-28T18:22:47.462736Z",
     "iopub.status.busy": "2024-11-28T18:22:47.462396Z",
     "iopub.status.idle": "2024-11-28T18:22:47.480669Z",
     "shell.execute_reply": "2024-11-28T18:22:47.480161Z",
     "shell.execute_reply.started": "2024-11-28T18:22:47.462715Z"
    }
   },
   "outputs": [
    {
     "name": "stdout",
     "output_type": "stream",
     "text": [
      "Found 341 images belonging to 10 classes.\n"
     ]
    }
   ],
   "source": [
    "val_gen = ImageDataGenerator(preprocessing_function=preprocess_input)\n",
    "val_ds = val_gen.flow_from_directory(\"./clothing-dataset-small/validation\", target_size=(150, 150), batch_size=32, shuffle=False)"
   ]
  },
  {
   "cell_type": "markdown",
   "id": "ddde6c5e-eb45-47be-a9e0-cb30d5d59819",
   "metadata": {},
   "source": [
    "In Keras, the top refers to what comes after the vector representation (i.e. the dense layers) and bottom refers to what comes before it (i.e. convolutional layers). By setting `include_top=False`, we exclude the dense layers. \n",
    "\n",
    "With `base_model.trainable = False`, we say to Keras that we don't want train convolutional layers.\n",
    "\n",
    "The base model consists of the convolutional layers.\n",
    "\n",
    "<img src=\"basemodel.png\" width=600>"
   ]
  },
  {
   "cell_type": "code",
   "execution_count": 41,
   "id": "71416d9f-e481-4fd6-bf91-d7c011b8c89d",
   "metadata": {
    "execution": {
     "iopub.execute_input": "2024-11-28T18:27:14.186106Z",
     "iopub.status.busy": "2024-11-28T18:27:14.185735Z",
     "iopub.status.idle": "2024-11-28T18:27:16.754095Z",
     "shell.execute_reply": "2024-11-28T18:27:16.753500Z",
     "shell.execute_reply.started": "2024-11-28T18:27:14.186083Z"
    }
   },
   "outputs": [
    {
     "name": "stdout",
     "output_type": "stream",
     "text": [
      "Downloading data from https://storage.googleapis.com/tensorflow/keras-applications/xception/xception_weights_tf_dim_ordering_tf_kernels_notop.h5\n",
      "\u001b[1m83683744/83683744\u001b[0m \u001b[32m━━━━━━━━━━━━━━━━━━━━\u001b[0m\u001b[37m\u001b[0m \u001b[1m1s\u001b[0m 0us/step\n"
     ]
    }
   ],
   "source": [
    "base_model = Xception(weights=\"imagenet\", include_top=False, input_shape=(150, 150, 3))\n",
    "base_model.trainable = False  "
   ]
  },
  {
   "cell_type": "markdown",
   "id": "afd39e04-06f0-4a2c-9a5d-342864ca7ddd",
   "metadata": {},
   "source": []
  },
  {
   "cell_type": "markdown",
   "id": "abec1518-95f0-4537-8620-df0137832992",
   "metadata": {},
   "source": [
    "Now we want to create a new top."
   ]
  },
  {
   "cell_type": "code",
   "execution_count": 46,
   "id": "0b452fec-bd2b-498b-8b4d-5de28930277f",
   "metadata": {
    "execution": {
     "iopub.execute_input": "2024-11-28T18:30:15.211135Z",
     "iopub.status.busy": "2024-11-28T18:30:15.210791Z",
     "iopub.status.idle": "2024-11-28T18:30:15.217410Z",
     "shell.execute_reply": "2024-11-28T18:30:15.216685Z",
     "shell.execute_reply.started": "2024-11-28T18:30:15.211111Z"
    }
   },
   "outputs": [],
   "source": [
    "inputs = tf.keras.Input(shape=(150, 150, 3))\n",
    "\n",
    "base = base_model(inputs)  # we want to apply inputs to base_model and the result is called base\n",
    "\n",
    "outputs = base\n",
    "\n",
    "model = tf.keras.Model(inputs, outputs)  # we need to wrap a keras model around inputs and outputs"
   ]
  },
  {
   "cell_type": "code",
   "execution_count": 63,
   "id": "57b24ef6-f51c-4b4f-8bff-9011667a6ff4",
   "metadata": {
    "execution": {
     "iopub.execute_input": "2024-11-28T18:32:49.428136Z",
     "iopub.status.busy": "2024-11-28T18:32:49.427795Z",
     "iopub.status.idle": "2024-11-28T18:32:55.182538Z",
     "shell.execute_reply": "2024-11-28T18:32:55.181912Z",
     "shell.execute_reply.started": "2024-11-28T18:32:49.428114Z"
    }
   },
   "outputs": [
    {
     "name": "stdout",
     "output_type": "stream",
     "text": [
      "\u001b[1m1/1\u001b[0m \u001b[32m━━━━━━━━━━━━━━━━━━━━\u001b[0m\u001b[37m\u001b[0m \u001b[1m6s\u001b[0m 6s/step\n"
     ]
    }
   ],
   "source": [
    "preds = model.predict(X)"
   ]
  },
  {
   "cell_type": "code",
   "execution_count": 65,
   "id": "6465156c-0281-41b2-b66e-f2f67ee892b3",
   "metadata": {
    "execution": {
     "iopub.execute_input": "2024-11-28T19:28:06.833212Z",
     "iopub.status.busy": "2024-11-28T19:28:06.832862Z",
     "iopub.status.idle": "2024-11-28T19:28:06.837810Z",
     "shell.execute_reply": "2024-11-28T19:28:06.837206Z",
     "shell.execute_reply.started": "2024-11-28T19:28:06.833192Z"
    }
   },
   "outputs": [
    {
     "data": {
      "text/plain": [
       "(32, 5, 5, 2048)"
      ]
     },
     "execution_count": 65,
     "metadata": {},
     "output_type": "execute_result"
    }
   ],
   "source": [
    "preds.shape"
   ]
  },
  {
   "cell_type": "code",
   "execution_count": 67,
   "id": "bc6be261-e99d-46e8-8656-8ce4e9ee42cc",
   "metadata": {
    "execution": {
     "iopub.execute_input": "2024-11-28T19:30:31.954416Z",
     "iopub.status.busy": "2024-11-28T19:30:31.954063Z",
     "iopub.status.idle": "2024-11-28T19:30:31.958636Z",
     "shell.execute_reply": "2024-11-28T19:30:31.958093Z",
     "shell.execute_reply.started": "2024-11-28T19:30:31.954394Z"
    }
   },
   "outputs": [
    {
     "data": {
      "text/plain": [
       "(32, 150, 150, 3)"
      ]
     },
     "execution_count": 67,
     "metadata": {},
     "output_type": "execute_result"
    }
   ],
   "source": [
    "X.shape"
   ]
  },
  {
   "cell_type": "markdown",
   "id": "d8b6eef1-759a-4d52-82ce-bc557d0bf64a",
   "metadata": {},
   "source": [
    "So we have our image which is an input with shape (150, 150, 3). It goes into the base_model and what we get out is called base. That is assigned to outputs. Then a keras model is made with inputs and outputs. Then we can use `model.predict(X)`, where `X` is a batch of 32 images.\n",
    "\n",
    "The predictions `preds` have a strange shape (32, 5, 5, 2048). It is not a vector representation yet. We will turn base into into a vector. The way we do this is by taking the (5, 5) matrices inside `preds` and average it. This is called **two-dimensional average pooling**."
   ]
  },
  {
   "cell_type": "code",
   "execution_count": 73,
   "id": "3aac6f34-ceb9-4cec-982e-9d52ad70f467",
   "metadata": {
    "execution": {
     "iopub.execute_input": "2024-11-28T19:35:38.318211Z",
     "iopub.status.busy": "2024-11-28T19:35:38.317833Z",
     "iopub.status.idle": "2024-11-28T19:35:38.325192Z",
     "shell.execute_reply": "2024-11-28T19:35:38.324575Z",
     "shell.execute_reply.started": "2024-11-28T19:35:38.318187Z"
    }
   },
   "outputs": [],
   "source": [
    "inputs = tf.keras.Input(shape=(150, 150, 3))\n",
    "\n",
    "base = base_model(inputs)  # we want to apply inputs to base_model and the result is called base\n",
    "\n",
    "vectors = tf.keras.layers.GlobalAveragePooling2D()(base)\n",
    "# vectors = pooling(base)\n",
    "\n",
    "outputs = vectors\n",
    "\n",
    "model = tf.keras.Model(inputs, outputs)  # we need to wrap a keras model around inputs and outputs"
   ]
  },
  {
   "cell_type": "code",
   "execution_count": 74,
   "id": "aefd0cce-fdb2-4ba8-81be-4adbd53b12a3",
   "metadata": {
    "execution": {
     "iopub.execute_input": "2024-11-28T19:35:41.176997Z",
     "iopub.status.busy": "2024-11-28T19:35:41.176664Z",
     "iopub.status.idle": "2024-11-28T19:35:43.454291Z",
     "shell.execute_reply": "2024-11-28T19:35:43.453642Z",
     "shell.execute_reply.started": "2024-11-28T19:35:41.176976Z"
    }
   },
   "outputs": [
    {
     "name": "stdout",
     "output_type": "stream",
     "text": [
      "WARNING:tensorflow:6 out of the last 7 calls to <function TensorFlowTrainer.make_predict_function.<locals>.one_step_on_data_distributed at 0x7f9c781d5f80> triggered tf.function retracing. Tracing is expensive and the excessive number of tracings could be due to (1) creating @tf.function repeatedly in a loop, (2) passing tensors with different shapes, (3) passing Python objects instead of tensors. For (1), please define your @tf.function outside of the loop. For (2), @tf.function has reduce_retracing=True option that can avoid unnecessary retracing. For (3), please refer to https://www.tensorflow.org/guide/function#controlling_retracing and https://www.tensorflow.org/api_docs/python/tf/function for  more details.\n",
      "\u001b[1m1/1\u001b[0m \u001b[32m━━━━━━━━━━━━━━━━━━━━\u001b[0m\u001b[37m\u001b[0m \u001b[1m2s\u001b[0m 2s/step\n"
     ]
    },
    {
     "data": {
      "text/plain": [
       "(32, 2048)"
      ]
     },
     "execution_count": 74,
     "metadata": {},
     "output_type": "execute_result"
    }
   ],
   "source": [
    "model.predict(X).shape"
   ]
  },
  {
   "cell_type": "markdown",
   "id": "34b96431-73bc-4aaa-a8f0-36e115459736",
   "metadata": {},
   "source": [
    "Now for each of the 32 images in the batch we have a vector of length 2048. The next step is to tune the dense layers and get a final output which will have shape (32, 10). 32 images with class prediction."
   ]
  },
  {
   "cell_type": "code",
   "execution_count": 88,
   "id": "4c0d1d7f-dd78-4158-a39e-f85f671bad40",
   "metadata": {
    "execution": {
     "iopub.execute_input": "2024-11-28T19:58:38.530289Z",
     "iopub.status.busy": "2024-11-28T19:58:38.529897Z",
     "iopub.status.idle": "2024-11-28T19:58:39.396859Z",
     "shell.execute_reply": "2024-11-28T19:58:39.396284Z",
     "shell.execute_reply.started": "2024-11-28T19:58:38.530265Z"
    }
   },
   "outputs": [],
   "source": [
    "base_model = Xception(weights=\"imagenet\", include_top=False, input_shape=(150, 150, 3))\n",
    "base_model.trainable = False  \n",
    "\n",
    "inputs = tf.keras.Input(shape=(150, 150, 3))\n",
    "\n",
    "base = base_model(inputs, training=False)  # we want to apply inputs to base_model and the result is called base\n",
    "\n",
    "vectors = tf.keras.layers.GlobalAveragePooling2D()(base)\n",
    "\n",
    "outputs = tf.keras.layers.Dense(10)(vectors)\n",
    "\n",
    "model = tf.keras.Model(inputs, outputs)  # we need to wrap a keras model around inputs and outputs"
   ]
  },
  {
   "cell_type": "code",
   "execution_count": 89,
   "id": "2742f1fc-50b1-4a12-83ee-cecec1aba47e",
   "metadata": {
    "execution": {
     "iopub.execute_input": "2024-11-28T19:58:39.398307Z",
     "iopub.status.busy": "2024-11-28T19:58:39.397856Z",
     "iopub.status.idle": "2024-11-28T19:58:41.656461Z",
     "shell.execute_reply": "2024-11-28T19:58:41.655616Z",
     "shell.execute_reply.started": "2024-11-28T19:58:39.398285Z"
    }
   },
   "outputs": [
    {
     "name": "stdout",
     "output_type": "stream",
     "text": [
      "\u001b[1m1/1\u001b[0m \u001b[32m━━━━━━━━━━━━━━━━━━━━\u001b[0m\u001b[37m\u001b[0m \u001b[1m2s\u001b[0m 2s/step\n"
     ]
    },
    {
     "data": {
      "text/plain": [
       "array([ 0.1821435 ,  0.75339526, -0.14434075, -0.55118334, -1.2662925 ,\n",
       "        0.18212637,  0.15658203,  0.2803036 ,  0.80771077, -1.1408646 ],\n",
       "      dtype=float32)"
      ]
     },
     "execution_count": 89,
     "metadata": {},
     "output_type": "execute_result"
    }
   ],
   "source": [
    "model.predict(X)[0]"
   ]
  },
  {
   "cell_type": "markdown",
   "id": "58f22f0f-4bb8-44d3-ae52-5e00f2662db7",
   "metadata": {},
   "source": [
    "These are the predictions for the first image. These are bogus numbers at this point, because we haven't trained the model yet. We only created the model, which will initialize with random numbers. Now we will train it. We need a couple things to do this. One is the optimizer. Another thing we need is the loss function. It's what the optimizer tries to minimize."
   ]
  },
  {
   "cell_type": "code",
   "execution_count": 90,
   "id": "f62d3bc0-0d24-4330-b6f9-7dbed82a9bf3",
   "metadata": {
    "execution": {
     "iopub.execute_input": "2024-11-28T19:58:41.658708Z",
     "iopub.status.busy": "2024-11-28T19:58:41.658473Z",
     "iopub.status.idle": "2024-11-28T19:58:41.664877Z",
     "shell.execute_reply": "2024-11-28T19:58:41.664287Z",
     "shell.execute_reply.started": "2024-11-28T19:58:41.658690Z"
    }
   },
   "outputs": [],
   "source": [
    "learning_rate = 0.01\n",
    "optimizer = tf.keras.optimizers.Adam(learning_rate=learning_rate)\n",
    "\n",
    "loss = tf.keras.losses.CategoricalCrossentropy(from_logits=True)"
   ]
  },
  {
   "cell_type": "markdown",
   "id": "8e01a77d-b8c8-456e-9e49-1ccc13971f7a",
   "metadata": {},
   "source": [
    "By specifying `from_logits=True`, we are using the inner product of all the parameters and weights in a layer directly, rather than using an activation function. If we specify `from_logits=False`, we'd have to specify an activation function in the output layer:\n",
    "```python\n",
    "outputs = tf.keras.layers.Dense(10, activation=\"softmax\")(vectors)\n",
    "```\n",
    "\n",
    "Now we will compile the model:"
   ]
  },
  {
   "cell_type": "code",
   "execution_count": 91,
   "id": "be76cd6e-c000-4289-8698-c78a4a26f371",
   "metadata": {
    "execution": {
     "iopub.execute_input": "2024-11-28T19:58:41.666201Z",
     "iopub.status.busy": "2024-11-28T19:58:41.665600Z",
     "iopub.status.idle": "2024-11-28T19:58:41.671677Z",
     "shell.execute_reply": "2024-11-28T19:58:41.671174Z",
     "shell.execute_reply.started": "2024-11-28T19:58:41.666162Z"
    }
   },
   "outputs": [],
   "source": [
    "model.compile(optimizer=optimizer, loss=loss, metrics=[\"accuracy\"])"
   ]
  },
  {
   "cell_type": "markdown",
   "id": "42fcef95-384e-45b2-ad91-8eebf38da4a1",
   "metadata": {},
   "source": [
    "We will fit the model on each batch of 32 images. After cycling to all batches, we will have completed one epoch."
   ]
  },
  {
   "cell_type": "code",
   "execution_count": 92,
   "id": "fc74e83e-da39-477e-be5e-5eb6a40f9089",
   "metadata": {
    "execution": {
     "iopub.execute_input": "2024-11-28T19:58:41.672982Z",
     "iopub.status.busy": "2024-11-28T19:58:41.672682Z",
     "iopub.status.idle": "2024-11-28T19:59:53.004928Z",
     "shell.execute_reply": "2024-11-28T19:59:53.004352Z",
     "shell.execute_reply.started": "2024-11-28T19:58:41.672963Z"
    }
   },
   "outputs": [
    {
     "name": "stdout",
     "output_type": "stream",
     "text": [
      "Epoch 1/10\n",
      "\u001b[1m96/96\u001b[0m \u001b[32m━━━━━━━━━━━━━━━━━━━━\u001b[0m\u001b[37m\u001b[0m \u001b[1m16s\u001b[0m 112ms/step - accuracy: 0.5788 - loss: 1.5939 - val_accuracy: 0.7713 - val_loss: 0.7887\n",
      "Epoch 2/10\n",
      "\u001b[1m96/96\u001b[0m \u001b[32m━━━━━━━━━━━━━━━━━━━━\u001b[0m\u001b[37m\u001b[0m \u001b[1m6s\u001b[0m 63ms/step - accuracy: 0.8358 - loss: 0.5021 - val_accuracy: 0.7830 - val_loss: 0.7465\n",
      "Epoch 3/10\n",
      "\u001b[1m96/96\u001b[0m \u001b[32m━━━━━━━━━━━━━━━━━━━━\u001b[0m\u001b[37m\u001b[0m \u001b[1m6s\u001b[0m 65ms/step - accuracy: 0.9062 - loss: 0.2998 - val_accuracy: 0.7889 - val_loss: 0.8590\n",
      "Epoch 4/10\n",
      "\u001b[1m96/96\u001b[0m \u001b[32m━━━━━━━━━━━━━━━━━━━━\u001b[0m\u001b[37m\u001b[0m \u001b[1m6s\u001b[0m 65ms/step - accuracy: 0.9144 - loss: 0.2523 - val_accuracy: 0.7889 - val_loss: 0.9633\n",
      "Epoch 5/10\n",
      "\u001b[1m96/96\u001b[0m \u001b[32m━━━━━━━━━━━━━━━━━━━━\u001b[0m\u001b[37m\u001b[0m \u001b[1m6s\u001b[0m 61ms/step - accuracy: 0.9554 - loss: 0.1316 - val_accuracy: 0.8270 - val_loss: 0.7505\n",
      "Epoch 6/10\n",
      "\u001b[1m96/96\u001b[0m \u001b[32m━━━━━━━━━━━━━━━━━━━━\u001b[0m\u001b[37m\u001b[0m \u001b[1m6s\u001b[0m 62ms/step - accuracy: 0.9733 - loss: 0.0927 - val_accuracy: 0.8094 - val_loss: 0.8519\n",
      "Epoch 7/10\n",
      "\u001b[1m96/96\u001b[0m \u001b[32m━━━━━━━━━━━━━━━━━━━━\u001b[0m\u001b[37m\u001b[0m \u001b[1m6s\u001b[0m 63ms/step - accuracy: 0.9743 - loss: 0.0762 - val_accuracy: 0.8240 - val_loss: 0.8847\n",
      "Epoch 8/10\n",
      "\u001b[1m96/96\u001b[0m \u001b[32m━━━━━━━━━━━━━━━━━━━━\u001b[0m\u001b[37m\u001b[0m \u001b[1m6s\u001b[0m 65ms/step - accuracy: 0.9899 - loss: 0.0400 - val_accuracy: 0.8182 - val_loss: 0.8398\n",
      "Epoch 9/10\n",
      "\u001b[1m96/96\u001b[0m \u001b[32m━━━━━━━━━━━━━━━━━━━━\u001b[0m\u001b[37m\u001b[0m \u001b[1m6s\u001b[0m 63ms/step - accuracy: 0.9847 - loss: 0.0504 - val_accuracy: 0.8123 - val_loss: 0.8708\n",
      "Epoch 10/10\n",
      "\u001b[1m96/96\u001b[0m \u001b[32m━━━━━━━━━━━━━━━━━━━━\u001b[0m\u001b[37m\u001b[0m \u001b[1m6s\u001b[0m 64ms/step - accuracy: 0.9981 - loss: 0.0194 - val_accuracy: 0.8152 - val_loss: 0.8309\n"
     ]
    },
    {
     "data": {
      "text/plain": [
       "<keras.src.callbacks.history.History at 0x7f9c78868b90>"
      ]
     },
     "execution_count": 92,
     "metadata": {},
     "output_type": "execute_result"
    }
   ],
   "source": [
    "history = model.fit(train_ds, epochs=10, validation_data=val_ds)"
   ]
  },
  {
   "cell_type": "markdown",
   "id": "fd59cbe5-2811-4686-abad-8f1b4e03871f",
   "metadata": {
    "execution": {
     "iopub.execute_input": "2024-11-28T20:00:15.242917Z",
     "iopub.status.busy": "2024-11-28T20:00:15.242584Z",
     "iopub.status.idle": "2024-11-28T20:00:15.247561Z",
     "shell.execute_reply": "2024-11-28T20:00:15.246940Z",
     "shell.execute_reply.started": "2024-11-28T20:00:15.242894Z"
    }
   },
   "source": [
    "Accuracy on training is quite high, but validation not as high. This indicates overfitting."
   ]
  },
  {
   "cell_type": "code",
   "execution_count": 98,
   "id": "c2003224-8315-47e3-aae6-a9cbd6fffc61",
   "metadata": {
    "execution": {
     "iopub.execute_input": "2024-11-28T20:02:54.473119Z",
     "iopub.status.busy": "2024-11-28T20:02:54.472800Z",
     "iopub.status.idle": "2024-11-28T20:02:54.621894Z",
     "shell.execute_reply": "2024-11-28T20:02:54.621266Z",
     "shell.execute_reply.started": "2024-11-28T20:02:54.473096Z"
    }
   },
   "outputs": [
    {
     "data": {
      "text/plain": [
       "<matplotlib.legend.Legend at 0x7f9c6885a210>"
      ]
     },
     "execution_count": 98,
     "metadata": {},
     "output_type": "execute_result"
    },
    {
     "data": {
      "image/png": "[encoded data removed]",
      "text/plain": [
       "<Figure size 640x480 with 1 Axes>"
      ]
     },
     "metadata": {},
     "output_type": "display_data"
    }
   ],
   "source": [
    "import matplotlib.pyplot as plt\n",
    "\n",
    "\n",
    "plt.plot(history.history[\"accuracy\"], label=\"train\")\n",
    "plt.plot(history.history[\"val_accuracy\"], label=\"validation\")\n",
    "plt.xticks(range(len(history.history[\"accuracy\"])))\n",
    "plt.legend()"
   ]
  }
 ],
 "metadata": {
  "kernelspec": {
   "display_name": "saturn (Python 3)",
   "language": "python",
   "name": "python3"
  },
  "language_info": {
   "codemirror_mode": {
    "name": "ipython",
    "version": 3
   },
   "file_extension": ".py",
   "mimetype": "text/x-python",
   "name": "python",
   "nbconvert_exporter": "python",
   "pygments_lexer": "ipython3",
   "version": "3.12.7"
  }
 },
 "nbformat": 4,
 "nbformat_minor": 5
}
